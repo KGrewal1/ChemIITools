{
 "cells": [
  {
   "attachments": {},
   "cell_type": "markdown",
   "metadata": {},
   "source": [
    "# Cluster Optimisation\n",
    "\n",
    "> Optimise points in 3d space based on a potential"
   ]
  },
  {
   "cell_type": "code",
   "execution_count": null,
   "metadata": {},
   "outputs": [],
   "source": [
    "#| default_exp clusters"
   ]
  },
  {
   "cell_type": "code",
   "execution_count": null,
   "metadata": {},
   "outputs": [],
   "source": [
    "#| export\n",
    "#| echo: false\n",
    "import numbers\n",
    "import numpy as np\n",
    "import matplotlib.pyplot as plt\n",
    "from scipy.optimize import basinhopping\n",
    "import sympy as sp"
   ]
  },
  {
   "cell_type": "code",
   "execution_count": null,
   "metadata": {},
   "outputs": [],
   "source": [
    "#| export\n",
    "def _unitv(r):\n",
    "    \"\"\"returns unit vector in the direction of r\"\"\"\n",
    "    return(r/np.linalg.norm(r))\n",
    "def _dist(v1,v2):\n",
    "    \"\"\"returns the magnitude of the distance between two vectors\"\"\"\n",
    "    return np.linalg.norm(v1-v2)\n",
    "def _vector_sum(*vectors):\n",
    "    \"\"\"sums vectors\"\"\"\n",
    "    array = np.array([*vectors])\n",
    "    return np.sum(array, axis = 0)\n",
    "def _fun_gen(f: str):\n",
    "    \"\"\"converts a function of r, written as a string into a python function, and a function for its derivative\"\"\"\n",
    "    r = sp.Symbol('r')\n",
    "    y = sp.sympify(f)\n",
    "    yprime = y.diff(r)\n",
    "    f = sp.lambdify(r, y, 'numpy')\n",
    "    fprime = sp.lambdify(r, yprime, 'numpy')\n",
    "    if not isinstance(2*f(2.2), numbers.Number):\n",
    "        raise ValueError('Please enter a function purely of \"r\"')\n",
    "    return f, fprime\n",
    "def _calc_setup(function: str):\n",
    "    \"\"\"converts pairwise energies and forces, to total energy and net force on each point\"\"\"\n",
    "    U, dU = _fun_gen(function)\n",
    "    def E_calc(points):\n",
    "        \"\"\"The sum of the pairwise energies\"\"\"\n",
    "        points = points.reshape(-1,3)\n",
    "        E=0\n",
    "        for i,v in enumerate(points):\n",
    "            for w in points[i+1:]:\n",
    "                r = _dist(v,w)\n",
    "                E = E + U(r)\n",
    "        return E\n",
    "    def F_calc(points):\n",
    "        \"\"\"The net forces acting on each point\"\"\"\n",
    "        points = points.reshape(-1,3)\n",
    "        forces = np.zeros(points.shape)\n",
    "        for i,v in enumerate(points):\n",
    "            for j,w in enumerate(points[i+1:]):\n",
    "                forces[i] = forces[i]+dU(_dist(v,w))*_unitv(w-v)\n",
    "                forces[j+i+1] = forces[j+i+1]+dU(_dist(v,w))*_unitv(v-w)\n",
    "        return forces\n",
    "    return E_calc, F_calc"
   ]
  },
  {
   "cell_type": "code",
   "execution_count": null,
   "metadata": {},
   "outputs": [],
   "source": [
    "#| export\n",
    "def CoM(*vectors):\n",
    "    \"\"\"returns the CoM of vectors\"\"\"\n",
    "    return _vector_sum(*vectors)/len(vectors)"
   ]
  },
  {
   "cell_type": "code",
   "execution_count": null,
   "metadata": {},
   "outputs": [],
   "source": [
    "#| export\n",
    "def CoMTransform(*vectors):\n",
    "    \"\"\"Transforms vectors so the CoM is at the origin\"\"\"\n",
    "    com = CoM(*vectors)\n",
    "    return np.array([*vectors])-com"
   ]
  },
  {
   "cell_type": "code",
   "execution_count": null,
   "metadata": {},
   "outputs": [],
   "source": [
    "#| export\n",
    "def InertiaTensor(*vectors):\n",
    "    \"\"\"returns the inertia tensor of 3D vectors\"\"\"\n",
    "    Ixx = 0\n",
    "    Iyy = 0\n",
    "    Izz = 0\n",
    "    Ixy = 0\n",
    "    Iyz = 0\n",
    "    Ixz = 0\n",
    "    for vector in vectors:\n",
    "        Ixx = Ixx + vector[1]**2 + vector[2]**2\n",
    "        Iyy = Iyy + vector[0]**2 + vector[2]**2\n",
    "        Izz = Izz + vector[0]**2 + vector[1]**2\n",
    "        Ixy = Ixy - vector[0]*vector[1]\n",
    "        Iyz = Iyz - vector[1]*vector[2]\n",
    "        Ixz = Ixz - vector[0]*vector[2]\n",
    "    return np.matrix([[Ixx, Ixy, Ixz], [Ixy, Iyy, Iyz], [Ixz, Iyz, Izz]])"
   ]
  },
  {
   "cell_type": "code",
   "execution_count": null,
   "metadata": {},
   "outputs": [],
   "source": [
    "#| export\n",
    "def point_setup(n:int, seed:int=0):\n",
    "    \"\"\"returns n points distributed on the unit sphere\"\"\"\n",
    "    np.random.seed(seed)\n",
    "    points = np.random.randn(3, n)\n",
    "    points /= np.linalg.norm(points, axis=0)\n",
    "    points = points.transpose()\n",
    "    return np.array(points)"
   ]
  },
  {
   "cell_type": "code",
   "execution_count": null,
   "metadata": {},
   "outputs": [],
   "source": [
    "#| export\n",
    "def geom_opt(points, F_calc, iterations = 1000, factor = 1e-4):\n",
    "    \"\"\"optimises geometry of points in 3D space using gradient descent\"\"\"\n",
    "    for _ in range(iterations):\n",
    "        forces = F_calc(points)\n",
    "        points = points + factor*forces\n",
    "    return points"
   ]
  },
  {
   "cell_type": "code",
   "execution_count": null,
   "metadata": {},
   "outputs": [],
   "source": [
    "#| export\n",
    "class System:\n",
    "    \"\"\"A cluster system, defined by n points and a pairwise potential in term of r, given as a string\"\"\"\n",
    "    def __init__(self,\n",
    "                 n:int=7, # the number of atoms in the cluster\n",
    "                 function:str='(4*((1/r)**12 -(1/r)**6))' # the pairwise potential between any two atoms in the cluster\n",
    "                 ):\n",
    "        self.n = n\n",
    "        self.U, self.F = _calc_setup(function)\n",
    "        self.points = point_setup(n)\n",
    "        self.E = self.U(self.points)\n",
    "    def plot(self):\n",
    "        x, y, z = self.points.transpose()\n",
    "        fig = plt.figure()\n",
    "        ax = fig.add_subplot(111, projection='3d')\n",
    "        ax.scatter(x, y, z, c= 'blue', alpha=1)\n",
    "        ax.axes.set_xlim3d(left=-1.2, right=1.2)\n",
    "        ax.axes.set_ylim3d(-1.2, 1.2)\n",
    "        ax.axes.set_zlim3d(-1.2, 1.2)\n",
    "        ax.set_box_aspect([1,1,1])\n",
    "        plt.show()\n",
    "    def optimise(self, riter:int=10000, giter:int=1000, gfactor:int=1e-4, biter:int=100):\n",
    "        for i in range(riter):\n",
    "            x = point_setup(self.n,i)\n",
    "            E = self.U(x)\n",
    "            if E<self.E:\n",
    "                self.points = x\n",
    "                self.E = E\n",
    "        self.points = geom_opt(self.points, self.F, iterations=giter, factor = gfactor)\n",
    "        self.points = CoMTransform(*self.points)\n",
    "        self.E = self.U(self.points)\n",
    "        minimizer_kwargs = {\"method\": \"BFGS\"}\n",
    "        res = basinhopping(self.U, self.points.flatten(), minimizer_kwargs=minimizer_kwargs,\n",
    "                        niter=biter)\n",
    "        self.points = res.x.reshape(-1,3)\n",
    "        self.points = np.array(CoMTransform(*self.points))\n",
    "        self.E = res.fun\n",
    "    def __str__(self):\n",
    "        return (\"Energy %.6f, for %d points\" % (self.E, self.n))\n",
    "    def xyz(self, name = None):\n",
    "        \"\"\"Returns the coordinates of the system in .xyz format\"\"\"\n",
    "        if name is None:\n",
    "            print(self.n)\n",
    "            print(\"Energy %.6f, for %d points, calculated by ChemII tools\" % (self.E, self.n))\n",
    "            for v in self.points:\n",
    "                print(\"He %.10f %.10f %.10f\" % (v[0], v[1], v[2]))\n",
    "        else:\n",
    "            with open(name,\"w+\", encoding=\"utf-8\") as f:\n",
    "                f.write(\"%d\\n\" % (self.n))\n",
    "                f.write(\"Energy %.6f, for %d points, calculated by ChemII tools\\n\" % (self.E, self.n))\n",
    "                for v in self.points:\n",
    "                    f.write(\"He %.10f %.10f %.10f\\n\" % (v[0], v[1], v[2]))\n",
    "    def CoM(self):\n",
    "        return CoM(*self.points)\n",
    "    def InertiaTensor(self):\n",
    "        return InertiaTensor(*self.points)"
   ]
  },
  {
   "attachments": {},
   "cell_type": "markdown",
   "metadata": {},
   "source": [
    "Optimisation is done by random search, followed by gradient descent followed by using scipy's basinhopping routine. For the Lennard Jones potential, the results have been checked against the [Cambridge Cluster Database](http://doye.chem.ox.ac.uk/jon/structures/LJ/tables.150.html) and are accurate for 6 decimal places up to $n=10$"
   ]
  },
  {
   "cell_type": "code",
   "execution_count": null,
   "metadata": {},
   "outputs": [],
   "source": [
    "lj7 = System(7, '(4*((1/r)**12 -(1/r)**6))')\n",
    "lj7.optimise()"
   ]
  },
  {
   "cell_type": "code",
   "execution_count": null,
   "metadata": {},
   "outputs": [
    {
     "name": "stdout",
     "output_type": "stream",
     "text": [
      "Energy -16.505384, for 7 points\n"
     ]
    }
   ],
   "source": [
    "print(lj7)"
   ]
  },
  {
   "cell_type": "code",
   "execution_count": null,
   "metadata": {},
   "outputs": [
    {
     "data": {
      "image/png": "[encoded data removed]",
      "text/plain": [
       "<Figure size 432x288 with 1 Axes>"
      ]
     },
     "metadata": {
      "needs_background": "light"
     },
     "output_type": "display_data"
    }
   ],
   "source": [
    "lj7.plot()"
   ]
  },
  {
   "attachments": {},
   "cell_type": "markdown",
   "metadata": {},
   "source": [
    "For the morse potential in the reduced form $$\\exp(\\rho_{0} (1-r))(\\exp(\\rho_{0} (1-r))-2)$$ as given on the [Cambridge Cluster Database](http://doye.chem.ox.ac.uk/jon/structures/Morse/potential.html), the results for $\\rho_{0} = (3,6,10,14)$ have been checked against the results on http://doye.chem.ox.ac.uk/jon/structures/Morse/tables.html and are accurate for 7 atoms (though currently not for 6 and $\\rho_{0}=14$)."
   ]
  },
  {
   "cell_type": "code",
   "execution_count": null,
   "metadata": {},
   "outputs": [],
   "source": [
    "m7 = System(7, '(exp(3*(1-r)))*(exp(3*(1-r))-2)')\n",
    "m7.optimise()"
   ]
  },
  {
   "cell_type": "code",
   "execution_count": null,
   "metadata": {},
   "outputs": [
    {
     "name": "stdout",
     "output_type": "stream",
     "text": [
      "Energy -17.552961, for 7 points\n"
     ]
    }
   ],
   "source": [
    "print(m7)"
   ]
  },
  {
   "cell_type": "code",
   "execution_count": null,
   "metadata": {},
   "outputs": [
    {
     "data": {
      "image/png": "[encoded data removed]",
      "text/plain": [
       "<Figure size 432x288 with 1 Axes>"
      ]
     },
     "metadata": {
      "needs_background": "light"
     },
     "output_type": "display_data"
    }
   ],
   "source": [
    "m7.plot()"
   ]
  },
  {
   "cell_type": "code",
   "execution_count": null,
   "metadata": {},
   "outputs": [],
   "source": [
    "#| hide\n",
    "import nbdev; nbdev.nbdev_export()"
   ]
  }
 ],
 "metadata": {
  "kernelspec": {
   "display_name": "ChemII",
   "language": "python",
   "name": "python3"
  }
 },
 "nbformat": 4,
 "nbformat_minor": 4
}
