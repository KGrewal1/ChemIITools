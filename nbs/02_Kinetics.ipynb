{
 "cells": [
  {
   "cell_type": "markdown",
   "metadata": {},
   "source": [
    "# Chemical Kinetics\n",
    "\n",
    "> Find Steady State and time dependent concentrations of species"
   ]
  },
  {
   "cell_type": "code",
   "execution_count": null,
   "metadata": {},
   "outputs": [],
   "source": [
    "#| default_exp kinetics"
   ]
  },
  {
   "cell_type": "code",
   "execution_count": null,
   "metadata": {},
   "outputs": [],
   "source": [
    "#| export\n",
    "#| echo: false\n",
    "import os\n",
    "import re\n",
    "import linecache\n",
    "from rdkit import Chem\n",
    "from rdkit.Chem.Draw import IPythonConsole\n",
    "from rdkit.Chem import Draw\n",
    "import numpy as np\n",
    "import matplotlib\n",
    "import matplotlib.pyplot as plt\n",
    "from matplotlib.ticker import MaxNLocator\n",
    "from matplotlib import cm\n",
    "from mpl_toolkits.mplot3d import Axes3D\n",
    "from scipy.optimize import curve_fit"
   ]
  },
  {
   "cell_type": "code",
   "execution_count": null,
   "metadata": {},
   "outputs": [],
   "source": [
    "#| export\n",
    "def steady_state_calc(rates):\n",
    "    \"\"\"\n",
    "    Calculate the steady state equilibrium of reaction a<->b<->c, given the rate of the forwards and backwards processes at each step\n",
    "    \"\"\"\n",
    "    kf1 = rates[0]\n",
    "    kr1 = rates[1]\n",
    "    kf2 = rates[2]\n",
    "    kr2 = rates[3]\n",
    "    mat = np.array([[-kf1,kr1,0],[0,kf2,-kr2],[1,1,1]])\n",
    "    vec = np.array([0,0,1])\n",
    "    mat_inv = np.linalg.inv(mat)\n",
    "    out = np.matmul(mat_inv, vec)\n",
    "    return out"
   ]
  },
  {
   "cell_type": "markdown",
   "metadata": {},
   "source": [
    "For instance, for varying concentrations of urea:"
   ]
  },
  {
   "cell_type": "markdown",
   "metadata": {},
   "source": [
    "Consider the reaction\n",
    "\n",
    "$$D  \\xrightleftharpoons[k_{u}^{R15}]{k_{f}^{R15}}  I  \\xrightleftharpoons[k_{u}^{R16}]{k_{f}^{R16}} N$$\n",
    "\n",
    "In the steady state, the rate of change of all components it null and so\n",
    "\n",
    "$$k_{u}^{R15}[I]-k_{f}^{R15}[D]=0$$\n",
    "$$k_{f}^{R16}[I]-k_{u}^{R16}[N]=0$$\n",
    "\n",
    "and with an additional restriction that the total number of substances is constant: wlg let that be 1:\n",
    "\n",
    "$$[D]+[I]+[N]=1$$\n",
    "\n",
    "As such this can be represented as a matrix:\n",
    "\n",
    "$$\\begin{pmatrix}-k_{f}^{R15}&k_{u}^{R15}&0\\\\ 0 & k_{f}^{R16} & -k_{u}^{R16}\\\\ 1&1&1\\end{pmatrix}\\begin{pmatrix} [D] \\\\ [I] \\\\ [N] \\end{pmatrix} = \\begin{pmatrix} 0 \\\\ 0 \\\\ 1 \\end{pmatrix}$$\n",
    "\n",
    "And thus\n",
    "\n",
    "$$\\begin{pmatrix} [D] \\\\ [I] \\\\ [N] \\end{pmatrix} = \\frac{1}{k_{f}^{R15}k_{f}^{R16}+k_{f}^{R15}k_{u}^{R16}+k_{u}^{R15}k_{u}^{R16}}\\begin{pmatrix}-k_{f}^{R16}-k_{u}^{R16}&k_{u}^{R15}&k_{u}^{R15}k_{u}^{R16}\\\\ k_{u}^{R16} & k_{f}^{R15} & k_{f}^{R15}k_{u}^{R16}\\\\ k_{f}^{R16}&-k_{f}^{R15}-k_{u}^{R15}&k_{f}^{R15}k_{f}^{R16}\\end{pmatrix}\\begin{pmatrix} 0 \\\\ 0 \\\\ 1 \\end{pmatrix}$$"
   ]
  },
  {
   "cell_type": "code",
   "execution_count": null,
   "metadata": {},
   "outputs": [],
   "source": [
    "kf1 = 26000\n",
    "kr1 = 0.06\n",
    "kf2 = 730\n",
    "kr2 = 0.00075\n",
    "urea_conc = np.linspace(0, 8, num=1000)\n",
    "ss_conc = []\n",
    "for conc in urea_conc:\n",
    "    rates = [kf1*np.exp(-1.68*conc), kr1*np.exp(0.95*conc), kf2*np.exp(-1.72*conc), kr2*np.exp(1.20*conc)]\n",
    "    ss_conc.append(steady_state_calc(rates))\n"
   ]
  },
  {
   "cell_type": "code",
   "execution_count": null,
   "metadata": {},
   "outputs": [],
   "source": [
    "ss_conc = np.array(ss_conc)"
   ]
  },
  {
   "cell_type": "code",
   "execution_count": null,
   "metadata": {},
   "outputs": [
    {
     "data": {
      "image/png": "[encoded data removed]",
      "text/plain": [
       "<Figure size 432x288 with 1 Axes>"
      ]
     },
     "metadata": {
      "needs_background": "light"
     },
     "output_type": "display_data"
    }
   ],
   "source": [
    "plt.plot(urea_conc,ss_conc[:, 0],label='D')\n",
    "plt.plot(urea_conc,ss_conc[:, 1],label='I')\n",
    "plt.plot(urea_conc,ss_conc[:, 2],label='N')\n",
    "plt.xlabel('[Urea]/ M')\n",
    "plt.ylabel('Fraction of Species')\n",
    "plt.legend()\n",
    "plt.show()"
   ]
  },
  {
   "cell_type": "code",
   "execution_count": null,
   "metadata": {},
   "outputs": [],
   "source": [
    "#| hide\n",
    "import nbdev; nbdev.nbdev_export()"
   ]
  }
 ],
 "metadata": {
  "kernelspec": {
   "display_name": "Python 3.9.12 ('ChemII')",
   "language": "python",
   "name": "python3"
  }
 },
 "nbformat": 4,
 "nbformat_minor": 4
}
