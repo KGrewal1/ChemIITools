{
 "cells": [
  {
   "cell_type": "markdown",
   "metadata": {},
   "source": [
    "# Energy Surface\n",
    "\n",
    "> Plot potential energy surfaces and calculate freqencies for symmetric triatomics "
   ]
  },
  {
   "cell_type": "code",
   "execution_count": null,
   "metadata": {},
   "outputs": [],
   "source": [
    "#| default_exp optimisation"
   ]
  },
  {
   "cell_type": "code",
   "execution_count": null,
   "metadata": {},
   "outputs": [],
   "source": [
    "#| export\n",
    "#| echo: false\n",
    "import os\n",
    "import re\n",
    "import linecache\n",
    "from rdkit import Chem\n",
    "from rdkit.Chem.Draw import IPythonConsole\n",
    "from rdkit.Chem import Draw\n",
    "import numpy as np\n",
    "import matplotlib\n",
    "import matplotlib.pyplot as plt\n",
    "from matplotlib.ticker import MaxNLocator\n",
    "from matplotlib import cm\n",
    "from mpl_toolkits.mplot3d import Axes3D\n",
    "from scipy.optimize import curve_fit"
   ]
  },
  {
   "cell_type": "code",
   "execution_count": null,
   "metadata": {},
   "outputs": [],
   "source": [
    "#| echo: false\n",
    "h2opath = ('../Ex2/H2Ooutfiles')\n",
    "h2spath = ('../Ex2/H2Soutfiles')"
   ]
  },
  {
   "cell_type": "code",
   "execution_count": null,
   "metadata": {},
   "outputs": [],
   "source": [
    "#| hide\n",
    "basepath = os.getcwd()\n",
    "print(os.getcwd())\n",
    "os.chdir(h2opath) \n",
    "print(os.getcwd())\n",
    "os.chdir(basepath )"
   ]
  },
  {
   "cell_type": "code",
   "execution_count": null,
   "metadata": {},
   "outputs": [],
   "source": [
    "#| export\n",
    "def parse_out(file):\n",
    "    \"\"\"\n",
    "    parses an out file of a symmetric triatomic for the bond length, angle and SCF energy \n",
    "    \"\"\"\n",
    "    shape_lookup = \"Symbolic Z-matrix\"\n",
    "    energy_lookup = \"SCF Done\"\n",
    "    e_search = r'(?<=SCF Done:  E\\(RHF\\) =).+?(?=A\\.U\\.)'\n",
    "    r_search = r'(?<=1).+?(?= 2 )'\n",
    "    a_search = r'(?<= 2 ).*'\n",
    "    shape_line = None\n",
    "    with open(file) as myFile:\n",
    "        for num, line in enumerate(myFile):\n",
    "                if shape_lookup in line:\n",
    "                        shape_line = num+4\n",
    "                if num == shape_line:\n",
    "                        r= float(re.findall(r_search,line)[0])\n",
    "                        angle= float(re.findall(a_search,line)[0])\n",
    "                if energy_lookup in line:\n",
    "                         energy= float(re.findall(e_search,line)[0])\n",
    "\n",
    "\n",
    "\n",
    "\n",
    "    return ((r, angle), energy)\n",
    "\n",
    "    "
   ]
  },
  {
   "cell_type": "code",
   "execution_count": null,
   "metadata": {},
   "outputs": [],
   "source": [
    "h2o_vals = {}\n",
    "for filename in os.listdir(h2opath):\n",
    "    output = parse_out(os.path.join(h2opath, filename))\n",
    "    h2o_vals[output[0]] = output[1]"
   ]
  },
  {
   "cell_type": "code",
   "execution_count": null,
   "metadata": {},
   "outputs": [],
   "source": [
    "#| echo: false\n",
    "h2s_vals = {}\n",
    "for filename in os.listdir(h2spath):\n",
    "    output = parse_out(os.path.join(h2spath, filename))\n",
    "    h2s_vals[output[0]] = output[1]"
   ]
  },
  {
   "cell_type": "code",
   "execution_count": null,
   "metadata": {},
   "outputs": [],
   "source": [
    "#| export\n",
    "def _func(r,theta, dict):\n",
    "    # dictionary lookup\n",
    "    return dict[(r,theta)]\n",
    "def _dict_to_mesh(dict):\n",
    "    \"\"\"\n",
    "    convert a dictioonary of ((r,theta) z) values to a mesh\n",
    "    \"\"\"\n",
    "    r,theta = zip(*dict.keys())\n",
    "    r = np.unique(r)\n",
    "    theta = np.unique(theta)\n",
    "    r,theta= np.meshgrid(r,theta)\n",
    "    z = np.array([_func(r,theta, dict) for (r,theta) in zip(r.ravel(), theta.ravel())]).reshape(r.shape)\n",
    "\n",
    "\n",
    "\n",
    "\n",
    "    return r,theta, z"
   ]
  },
  {
   "cell_type": "code",
   "execution_count": null,
   "metadata": {},
   "outputs": [],
   "source": [
    "#| export\n",
    "def surface_plot(dict, fname = None):\n",
    "    \"\"\"Plots a surface from the output of the regex\"\"\"\n",
    "    r,theta, z = _dict_to_mesh(dict)\n",
    "    fig = plt.figure()\n",
    "    ax = fig.add_subplot(111, projection='3d')\n",
    "    surf = ax.plot_surface(r,theta, z, cmap=cm.viridis_r, linewidth=0)\n",
    "    plt.xlabel('Bond Length/ $\\AA$')\n",
    "    plt.ylabel('Bond Angle/ $^\\circ$')\n",
    "    ax.set_zlabel('Energy/ $E_{h}$')\n",
    "    fig.tight_layout()\n",
    "    if fname is not None:\n",
    "        plt.savefig(fname)\n",
    "    plt.show()"
   ]
  },
  {
   "cell_type": "code",
   "execution_count": null,
   "metadata": {},
   "outputs": [],
   "source": [
    "surface_plot(h2s_vals)"
   ]
  },
  {
   "cell_type": "code",
   "execution_count": null,
   "metadata": {},
   "outputs": [],
   "source": [
    "#| export\n",
    "def heatmap(dict, fname = None):\n",
    "    \"\"\"Plots a heatmap from the output of the regex\"\"\"\n",
    "    r,theta, z = _dict_to_mesh(dict)\n",
    "    z_min, z_max = z.min(), z.max()\n",
    "    fig, ax = plt.subplots()\n",
    "\n",
    "    c = ax.pcolormesh(r,theta, z, cmap=cm.viridis_r, vmin=z_min, vmax=z_max)\n",
    "    # set the limits of the plot to the limits of the data\n",
    "    ax.axis([r.min(), r.max(), theta.min(), theta.max()])\n",
    "    fig.colorbar(c, ax=ax)\n",
    "    plt.xlabel('Bond Length/ $\\AA$')\n",
    "    plt.ylabel('Bond Angle/ $^\\circ$')\n",
    "    if fname is not None:\n",
    "        plt.savefig(fname)\n",
    "    plt.show()"
   ]
  },
  {
   "cell_type": "code",
   "execution_count": null,
   "metadata": {},
   "outputs": [],
   "source": [
    "heatmap(h2o_vals)"
   ]
  },
  {
   "cell_type": "code",
   "execution_count": null,
   "metadata": {},
   "outputs": [],
   "source": [
    "#| export\n",
    "def vib_calc(dict, mass = 1.6735575E-27):\n",
    "    \"\"\"\n",
    "    Calculate optimum bond length and angle and symmetric stretch and bending frequencies.\n",
    "    \n",
    "    Default mass is that of the hydrogen atom\n",
    "    \"\"\"\n",
    "    h_to_J = 4.3597482E-18 # hartree to joule conversion factor\n",
    "    deg_to_r = np.pi/180 # degrees to radians\n",
    "    A_to_m = 1E-10 # angstrom to m\n",
    "    Hz_to_rcm = 1/29979245800 # Hertz to wavenumbers in cm-1\n",
    "    r_opt, theta_opt = min(dict, key=dict.get)\n",
    "    r,theta = zip(*dict.keys())\n",
    "    r = np.unique(r)\n",
    "    theta = np.unique(theta)\n",
    "    zr = [] # with constant theta\n",
    "    ztheta = [] # with constant r\n",
    "\n",
    "    for R in r:\n",
    "        zr.append(dict[(R, theta_opt)]*h_to_J)\n",
    "\n",
    "    zr = np.array(zr)\n",
    "    r_adj = (r - r_opt)*A_to_m\n",
    "    rslice = (r_adj>=.25*r_adj.min()) & (r_adj<=.25*r_adj.max())\n",
    "    rfit = np.linspace(r_adj.min(), r_adj.max(), 1000)\n",
    "    rquad = np.linspace(.4*r_adj.min(), .4*r_adj.max(), 1000)\n",
    "\n",
    "    poly = np.polyfit(r_adj , zr, 8)\n",
    "    quad = np.polyfit(r_adj [rslice], zr[rslice], 2)\n",
    "    zfit = np.polyval(poly, rfit)\n",
    "    zquad = np.polyval(quad, rquad)\n",
    "\n",
    "    plt.plot(r_adj, zr,\"ro\")\n",
    "    plt.plot(rfit, zfit)\n",
    "    plt.plot(rquad, zquad)\n",
    "    plt.xlabel('Bond Length from Optimum/ m')\n",
    "    plt.ylabel('Energy/ J')\n",
    "    plt.show()\n",
    "\n",
    "    kr = 2*quad[0]\n",
    "    mu_1 = 2*mass\n",
    "    nu_r = np.sqrt(kr/mu_1)/(2*np.pi)\n",
    "\n",
    "    for Theta in theta:\n",
    "        ztheta.append(dict[(r_opt, Theta)]*h_to_J)\n",
    "\n",
    "    ztheta = np.array(ztheta)\n",
    "    theta_adj = (theta-theta_opt)*deg_to_r\n",
    "    thetaslice = (theta_adj>=.25*theta_adj.min()) & (theta_adj<=.25*theta_adj.max())\n",
    "\n",
    "    thetafit = np.linspace(theta_adj.min(), theta_adj.max(), 1000)\n",
    "    thetaquad = np.linspace(.4*theta_adj.min(), .4*theta_adj.max(), 1000)\n",
    "    poly = np.polyfit(theta_adj , ztheta, 8)\n",
    "    quad = np.polyfit(theta_adj[thetaslice], ztheta[thetaslice], 2)\n",
    "    zfit = np.polyval(poly, thetafit)\n",
    "    zquad = np.polyval(quad, thetaquad)\n",
    "\n",
    "  \n",
    "    plt.plot(theta_adj, ztheta,\"ro\", markersize=2)\n",
    "    plt.plot(thetafit, zfit)\n",
    "    plt.plot(thetaquad, zquad)\n",
    "    plt.xlabel('Bond Angle from Optimum/ rad')\n",
    "    plt.ylabel('Energy/ J')\n",
    "    plt.show()\n",
    "\n",
    "    ktheta = 2*quad[0]\n",
    "    mu_2 = 0.5*mass\n",
    "    nu_theta = np.sqrt(ktheta/(mu_2*(r_opt*A_to_m)**2))/(2*np.pi)\n",
    "\n",
    "    return r_opt, theta_opt, nu_r*Hz_to_rcm, nu_theta*Hz_to_rcm"
   ]
  },
  {
   "cell_type": "markdown",
   "metadata": {},
   "source": [
    "Assuming around the equilibrium point, the relevant part of each polynomial is the quadratic, for the stretching frequency: $$E=E_{0}+\\frac{1}{2}k_{r}(r-\\bar{r})^{2}+\\frac{1}{2}k_{\\theta}(\\theta-\\bar{\\theta})^{2}$$ and thus $$F = -\\nabla E=\\begin{pmatrix}-k_{r}r\\\\-k_{\\theta}\\theta \\end{pmatrix}$$ and so $\\nu_{r} = \\frac{1}{2\\pi}\\sqrt{\\frac{k_{r}}{\\mu_{1}}}$ and $\\nu_{\\theta} = \\frac{1}{2\\pi}\\sqrt{\\frac{k_{\\theta}}{r^{2}\\mu_{2}}}$, where $\\mu_{1}\\approx 2 m_{u}$ and $\\mu_{2}\\approx 0.5 m_{u}$. For both water and hydrogen disulfide $m_{u}$ is the mass of the hydrogen atom"
   ]
  },
  {
   "cell_type": "code",
   "execution_count": null,
   "metadata": {},
   "outputs": [],
   "source": [
    "#| hide\n",
    "# output = parse_out(\"C:\\\\Users\\\\kirpa\\\\OneDrive\\\\Documents\\\\ChemIITools\\\\Ex2\\\\H2Ooutfiles\\\\H2O.r1.00theta94.0.out\")\n",
    "# output"
   ]
  },
  {
   "cell_type": "code",
   "execution_count": null,
   "metadata": {},
   "outputs": [],
   "source": [
    "r_opt, theta_opt, nu_r, nu_theta = vib_calc(h2o_vals)"
   ]
  },
  {
   "cell_type": "code",
   "execution_count": null,
   "metadata": {},
   "outputs": [],
   "source": [
    "print('the optimum bond length of water is ', r_opt, ' angstroms with angle ', theta_opt, ' degrees' )\n",
    "print('the stretching frequency ', round(nu_r), ' cm-1 and bending frequency ', round(nu_theta), ' cm-1' )"
   ]
  },
  {
   "cell_type": "markdown",
   "metadata": {},
   "source": [
    "Similarly for hydrogen sulfide"
   ]
  },
  {
   "cell_type": "code",
   "execution_count": null,
   "metadata": {},
   "outputs": [],
   "source": [
    "r_opt, theta_opt, nu_r, nu_theta = vib_calc(h2s_vals)\n",
    "print('the optimum bond length of hydrogen sulfide is ', r_opt, ' angstroms with angle ', theta_opt, ' degrees' )\n",
    "print('the stretching frequency ', round(nu_r), ' cm-1 and bending frequency ', round(nu_theta), ' cm-1' )"
   ]
  },
  {
   "cell_type": "code",
   "execution_count": null,
   "metadata": {},
   "outputs": [],
   "source": [
    "#| hide\n",
    "import nbdev; nbdev.nbdev_export()"
   ]
  }
 ],
 "metadata": {
  "kernelspec": {
   "display_name": "Python 3.9.12 ('ChemII')",
   "language": "python",
   "name": "python3"
  }
 },
 "nbformat": 4,
 "nbformat_minor": 4
}
