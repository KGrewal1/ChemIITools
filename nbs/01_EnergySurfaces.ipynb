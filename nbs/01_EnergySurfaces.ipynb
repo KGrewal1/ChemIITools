{
 "cells": [
  {
   "cell_type": "markdown",
   "metadata": {},
   "source": [
    "# Generalise Huckel Solver\n",
    "\n",
    "> Constructs the Huckel matrix and solves for the values, based on Ex 3.1 instructions"
   ]
  },
  {
   "cell_type": "markdown",
   "metadata": {},
   "source": [
    "This solver will only work if all $p$ orbitals are equivalent (it will not consider for instance perturbations due to nitrogen in pyridine).\n",
    "The Huckel theory assumptions are:\n",
    "$$ H_{ij}= \\begin{cases} \\alpha,\\  i=j\\\\ \\beta,\\  i \\text{ adjacent to } j\\\\ 0,\\  \\text{otherwise}\\end{cases} $$\n",
    "with scaling such that $\\alpha = 0$ and $\\beta =-1$. As such, it can be seen that the resulting Huckel matrix is the negative of the adjacency matrix $A$ where: \n",
    "$$ A_{ij}= \\begin{cases}  1,\\  i \\text{ adjacent to } j\\\\ 0,\\  \\text{otherwise}\\end{cases} $$"
   ]
  },
  {
   "cell_type": "code",
   "execution_count": null,
   "metadata": {},
   "outputs": [],
   "source": [
    "#| default_exp optimisation"
   ]
  },
  {
   "cell_type": "code",
   "execution_count": null,
   "metadata": {},
   "outputs": [],
   "source": [
    "#| export\n",
    "#| echo: false\n",
    "from rdkit import Chem\n",
    "from rdkit.Chem.Draw import IPythonConsole\n",
    "from rdkit.Chem import Draw\n",
    "\n",
    "import numpy as np\n",
    "import matplotlib.pyplot as plt"
   ]
  },
  {
   "cell_type": "code",
   "execution_count": null,
   "metadata": {},
   "outputs": [],
   "source": [
    "#| export\n",
    "def generate_smiles(type, n):\n",
    "    \"\"\"\n",
    "    generate the smiles of either a straight chain or ring polyene, with n atoms.\n",
    "    All carbons will be sp2 hybridised.\n",
    "    For linear molecules with an odd number of atoms it will return the anion\n",
    "    For rings with 4n+1 atoms it will return the anion eg C5H5-    \n",
    "    For rings with 4n+3 atoms it will return the cation eg C7H7+   \n",
    "    \"\"\"\n",
    "    unit = 'C=C'# the base 2 carbon double bond unit\n",
    "    if n<3: type = 'linear' #ring needs at least 3 atoms\n",
    "    if n <=1: \n",
    "        raise Exception(\"More than 1 Carbon atoms is needed\")\n",
    "    if not isinstance(n, int): \n",
    "        raise Exception(\"An integer number of atoms is needed\")\n",
    "    if type == 'linear':\n",
    "        repeats = n//2 # repeats of the base unit of 2 carbons\n",
    "        terminal = n%2 # whether or not a terminal carbon is needed\n",
    "        output = repeats*unit +terminal*\"[CH2+]\"\n",
    "    if type == 'ring':\n",
    "        repeats = n//2 # repeats of the base unit of 2 carbons\n",
    "        cation_terminal = 1 if n%4==3 else 0 # if 4n+3 carbon atoms: cation eg C7H7+\n",
    "        anion_terminal = 1 if n%4==1 else 0 # if 4n+3 carbon atoms: cation eg C5H5-\n",
    "        output = \"C1=C\" +(repeats-1)*unit +anion_terminal*\"[CH-]\"+cation_terminal*\"[CH+]\"+\"1\"\n",
    "    return(output)"
   ]
  },
  {
   "cell_type": "code",
   "execution_count": null,
   "metadata": {},
   "outputs": [],
   "source": [
    "#| hide\n",
    "import nbdev; nbdev.nbdev_export()"
   ]
  }
 ],
 "metadata": {
  "kernelspec": {
   "display_name": "Python 3.9.12 ('ChemII')",
   "language": "python",
   "name": "python3"
  }
 },
 "nbformat": 4,
 "nbformat_minor": 4
}
