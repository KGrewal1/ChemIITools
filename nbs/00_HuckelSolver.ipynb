{
 "cells": [
  {
   "cell_type": "markdown",
   "metadata": {},
   "source": [
    "# Generalised Huckel Solver\n",
    "\n",
    "> Constructs the Huckel matrix and solves for the values, based on Ex 3.1 instructions"
   ]
  },
  {
   "cell_type": "markdown",
   "metadata": {},
   "source": [
    "This solver will only work if all $p$ orbitals are equivalent (it will not consider for instance perturbations due to nitrogen in pyridine).\n",
    "The Huckel theory assumptions are:\n",
    "$$ H_{ij}= \\begin{cases} \\alpha,\\  i=j\\\\ \\beta,\\  i \\text{ adjacent to } j\\\\ 0,\\  \\text{otherwise}\\end{cases} $$\n",
    "with scaling such that $\\alpha = 0$ and $\\beta =-1$. As such, it can be seen that the resulting Huckel matrix is the negative of the adjacency matrix $A$ where: \n",
    "$$ A_{ij}= \\begin{cases}  1,\\  i \\text{ adjacent to } j\\\\ 0,\\  \\text{otherwise}\\end{cases} $$"
   ]
  },
  {
   "cell_type": "code",
   "execution_count": null,
   "metadata": {},
   "outputs": [],
   "source": [
    "#| default_exp huckel"
   ]
  },
  {
   "cell_type": "code",
   "execution_count": null,
   "metadata": {},
   "outputs": [],
   "source": [
    "#| export\n",
    "#| echo: false\n",
    "from rdkit import Chem\n",
    "from rdkit.Chem.Draw import rdMolDraw2D\n",
    "from rdkit.Chem.Draw import IPythonConsole\n",
    "from rdkit.Chem import Draw\n",
    "from IPython.display import SVG, Image\n",
    "import numpy as np\n",
    "import matplotlib.pyplot as plt"
   ]
  },
  {
   "cell_type": "code",
   "execution_count": null,
   "metadata": {},
   "outputs": [],
   "source": [
    "#| export\n",
    "IPythonConsole.ipython_useSVG=True  #< set this to False if you want PNGs instead of SVGs\n",
    "IPythonConsole.drawOptions.addAtomIndices = True"
   ]
  },
  {
   "cell_type": "code",
   "execution_count": null,
   "metadata": {},
   "outputs": [],
   "source": [
    "#| export\n",
    "def generate_smiles(l_or_r:str, # linear or ring\n",
    "                    n:int     # the number of atoms in the molecule\n",
    "                    ):\n",
    "    \"\"\"\n",
    "    generate the smiles of either a straight chain or ring polyene, with n atoms.\n",
    "    All carbons will be sp2 hybridised.\n",
    "    For linear molecules with an odd number of atoms it will return the anion\n",
    "    For rings with 4n+1 atoms it will return the anion eg C5H5-\n",
    "    For rings with 4n+3 atoms it will return the cation eg C7H7+\n",
    "    \"\"\"\n",
    "    unit = 'C=C' # the base 2 carbon double bond unit\n",
    "    if n<3: l_or_r = 'linear' #ring needs at least 3 atoms\n",
    "    if n <=1:\n",
    "        raise Exception(\"More than 1 Carbon atoms is needed\")\n",
    "    if not isinstance(n, int):\n",
    "        raise Exception(\"An integer number of atoms is needed\")\n",
    "    if l_or_r == 'linear':\n",
    "        repeats = n//2 # repeats of the base unit of 2 carbons\n",
    "        terminal = n%2 # whether or not a terminal carbon is needed\n",
    "        output = repeats*unit +terminal*\"[CH2+]\"\n",
    "    if l_or_r == 'ring':\n",
    "        repeats = n//2 # repeats of the base unit of 2 carbons\n",
    "        cation_terminal = 1 if n%4==3 else 0 # if 4n+3 carbon atoms: cation eg C7H7+\n",
    "        anion_terminal = 1 if n%4==1 else 0 # if 4n+3 carbon atoms: cation eg C5H5-\n",
    "        output = \"C1=C\" +(repeats-1)*unit +anion_terminal*\"[CH-]\"+cation_terminal*\"[CH+]\"+\"1\"\n",
    "    return output"
   ]
  },
  {
   "cell_type": "code",
   "execution_count": null,
   "metadata": {},
   "outputs": [],
   "source": [
    "#| export\n",
    "def Huckel_solve(matrix):\n",
    "    \"\"\"\n",
    "    From a Huckel matrix input, solve for the Huckel pi system\n",
    "    Returns a dictionary of energy levels with the associated (possibly degenerate) wavefunctions\n",
    "    \"\"\"\n",
    "    vals, vecs = np.linalg.eig(matrix)\n",
    "    # create dictionary where each eigenvalue has a list of the associated eigenvectors\n",
    "    energy_dict = {}\n",
    "    for i, val in enumerate(vals):\n",
    "        # pythons eigenvalues sometimes produce rounding errors at the 14th dp: eg eigenvalues for benzene being 1.0 and 0.9999999999999998\n",
    "        # similarly, trivial imaginary parts are occasionally produced: on the order of 10^-16 i\n",
    "        val = round(np.real(val), 3)\n",
    "        if val in energy_dict:\n",
    "            energy_dict[val].append(vecs[:,i])\n",
    "        else: energy_dict[val]=[vecs[:,i]]\n",
    "    return energy_dict"
   ]
  },
  {
   "cell_type": "code",
   "execution_count": null,
   "metadata": {},
   "outputs": [],
   "source": [
    "#| export\n",
    "class Huckel:\n",
    "    \"\"\"The solution to the Huckel equation for a molecule given as SMILES\"\"\"\n",
    "    def __init__(self, SMILES:str=\"c1ccccc1\"):\n",
    "        self.smiles = SMILES\n",
    "        self.molecule = Chem.MolFromSmiles(SMILES)\n",
    "        self.matrix = -Chem.GetAdjacencyMatrix(self.molecule)\n",
    "\n",
    "    @property\n",
    "    def energy_dict(self):\n",
    "        return Huckel_solve(self.matrix)\n",
    "    @energy_dict.setter\n",
    "    def energy_dict(self, value):\n",
    "        raise Exception(\"Energy is determined by Huckel matrix and so read only\")\n",
    "\n",
    "    def plot(self):\n",
    "        \"\"\"\n",
    "        Plots an MO diagram based on a dictionary of energy levels and associated wavefunctions\n",
    "        \"\"\"\n",
    "        fig, ax = plt.subplots()\n",
    "        plt.tick_params(\n",
    "        axis='x',          # changes apply to the x-axis\n",
    "        which='both',      # both major and minor ticks are affected\n",
    "        bottom=False,      # ticks along the bottom edge are off\n",
    "        top=False,         # ticks along the top edge are off\n",
    "        labelbottom=False) # labels along the bottom edge are off\n",
    "        for level in self.energy_dict:\n",
    "            degeneracy = len(self.energy_dict[level])\n",
    "            x = np.arange(-(0.5*(degeneracy - 1)),(0.5*(degeneracy)), 1)\n",
    "            y = [level]*(degeneracy)\n",
    "            ax.scatter(x, y, s =900, marker = '_', linewidth = 3)\n",
    "        plt.show()\n",
    "    def __str__(self):\n",
    "        string = 'Huckel Energies (degeneracy) for ' +self.smiles +':'\n",
    "        for level in dict(sorted(self.energy_dict.items())): #this sorts the energy levels in order from lowest to highest\n",
    "            degeneracy = len(self.energy_dict[level])\n",
    "            string = string + \" [%.3f (%d)] \" % (level, degeneracy)\n",
    "        return string"
   ]
  },
  {
   "cell_type": "markdown",
   "metadata": {},
   "source": [
    "This works in a straightforward manner for chains and rings"
   ]
  },
  {
   "cell_type": "code",
   "execution_count": null,
   "metadata": {},
   "outputs": [
    {
     "name": "stdout",
     "output_type": "stream",
     "text": [
      "Huckel Energies (degeneracy) for C=CC=CC=CC=CC=C: [-1.919 (1)]  [-1.683 (1)]  [-1.310 (1)]  [-0.831 (1)]  [-0.285 (1)]  [0.285 (1)]  [0.831 (1)]  [1.310 (1)]  [1.683 (1)]  [1.919 (1)] \n"
     ]
    },
    {
     "data": {
      "image/png": "[encoded data removed]",
      "image/svg+xml": "<?xml version='1.0' encoding='iso-8859-1'?>\n<svg version='1.1' baseProfile='full'\n              xmlns='http://www.w3.org/2000/svg'\n                      xmlns:rdkit='http://www.rdkit.org/xml'\n                      xmlns:xlink='http://www.w3.org/1999/xlink'\n                  xml:space='preserve'\nwidth='450px' height='150px' viewBox='0 0 450 150'>\n<!-- END OF HEADER -->\n<rect style='opacity:1.0;fill:#FFFFFF;stroke:none' width='450.0' height='150.0' x='0.0' y='0.0'> </rect>\n<path class='bond-0 atom-0 atom-1' d='M 27.2,84.1 L 71.6,59.5' style='fill:none;fill-rule:evenodd;stroke:#000000;stroke-width:2.0px;stroke-linecap:butt;stroke-linejoin:miter;stroke-opacity:1' />\n<path class='bond-0 atom-0 atom-1' d='M 30.9,90.8 L 71.4,68.3' style='fill:none;fill-rule:evenodd;stroke:#000000;stroke-width:2.0px;stroke-linecap:butt;stroke-linejoin:miter;stroke-opacity:1' />\n<path class='bond-1 atom-1 atom-2' d='M 71.6,59.5 L 115.0,85.7' style='fill:none;fill-rule:evenodd;stroke:#000000;stroke-width:2.0px;stroke-linecap:butt;stroke-linejoin:miter;stroke-opacity:1' />\n<path class='bond-2 atom-2 atom-3' d='M 115.0,85.7 L 159.4,61.1' style='fill:none;fill-rule:evenodd;stroke:#000000;stroke-width:2.0px;stroke-linecap:butt;stroke-linejoin:miter;stroke-opacity:1' />\n<path class='bond-2 atom-2 atom-3' d='M 115.2,76.9 L 155.7,54.4' style='fill:none;fill-rule:evenodd;stroke:#000000;stroke-width:2.0px;stroke-linecap:butt;stroke-linejoin:miter;stroke-opacity:1' />\n<path class='bond-3 atom-3 atom-4' d='M 159.4,61.1 L 202.9,87.2' style='fill:none;fill-rule:evenodd;stroke:#000000;stroke-width:2.0px;stroke-linecap:butt;stroke-linejoin:miter;stroke-opacity:1' />\n<path class='bond-4 atom-4 atom-5' d='M 202.9,87.2 L 247.3,62.6' style='fill:none;fill-rule:evenodd;stroke:#000000;stroke-width:2.0px;stroke-linecap:butt;stroke-linejoin:miter;stroke-opacity:1' />\n<path class='bond-4 atom-4 atom-5' d='M 203.0,78.4 L 243.6,56.0' style='fill:none;fill-rule:evenodd;stroke:#000000;stroke-width:2.0px;stroke-linecap:butt;stroke-linejoin:miter;stroke-opacity:1' />\n<path class='bond-5 atom-5 atom-6' d='M 247.3,62.6 L 290.7,88.8' style='fill:none;fill-rule:evenodd;stroke:#000000;stroke-width:2.0px;stroke-linecap:butt;stroke-linejoin:miter;stroke-opacity:1' />\n<path class='bond-6 atom-6 atom-7' d='M 290.7,88.8 L 335.1,64.2' style='fill:none;fill-rule:evenodd;stroke:#000000;stroke-width:2.0px;stroke-linecap:butt;stroke-linejoin:miter;stroke-opacity:1' />\n<path class='bond-6 atom-6 atom-7' d='M 290.9,80.0 L 331.4,57.5' style='fill:none;fill-rule:evenodd;stroke:#000000;stroke-width:2.0px;stroke-linecap:butt;stroke-linejoin:miter;stroke-opacity:1' />\n<path class='bond-7 atom-7 atom-8' d='M 335.1,64.2 L 378.6,90.3' style='fill:none;fill-rule:evenodd;stroke:#000000;stroke-width:2.0px;stroke-linecap:butt;stroke-linejoin:miter;stroke-opacity:1' />\n<path class='bond-8 atom-8 atom-9' d='M 378.6,90.3 L 423.0,65.8' style='fill:none;fill-rule:evenodd;stroke:#000000;stroke-width:2.0px;stroke-linecap:butt;stroke-linejoin:miter;stroke-opacity:1' />\n<path class='bond-8 atom-8 atom-9' d='M 378.7,81.6 L 419.3,59.1' style='fill:none;fill-rule:evenodd;stroke:#000000;stroke-width:2.0px;stroke-linecap:butt;stroke-linejoin:miter;stroke-opacity:1' />\n<path d='M 69.3,60.8 L 71.6,59.5 L 73.7,60.8' style='fill:none;stroke:#000000;stroke-width:2.0px;stroke-linecap:butt;stroke-linejoin:miter;stroke-opacity:1;' />\n<path d='M 112.9,84.4 L 115.0,85.7 L 117.2,84.4' style='fill:none;stroke:#000000;stroke-width:2.0px;stroke-linecap:butt;stroke-linejoin:miter;stroke-opacity:1;' />\n<path d='M 157.2,62.3 L 159.4,61.1 L 161.6,62.4' style='fill:none;stroke:#000000;stroke-width:2.0px;stroke-linecap:butt;stroke-linejoin:miter;stroke-opacity:1;' />\n<path d='M 200.7,85.9 L 202.9,87.2 L 205.1,86.0' style='fill:none;stroke:#000000;stroke-width:2.0px;stroke-linecap:butt;stroke-linejoin:miter;stroke-opacity:1;' />\n<path d='M 245.0,63.9 L 247.3,62.6 L 249.4,64.0' style='fill:none;stroke:#000000;stroke-width:2.0px;stroke-linecap:butt;stroke-linejoin:miter;stroke-opacity:1;' />\n<path d='M 288.6,87.5 L 290.7,88.8 L 293.0,87.6' style='fill:none;stroke:#000000;stroke-width:2.0px;stroke-linecap:butt;stroke-linejoin:miter;stroke-opacity:1;' />\n<path d='M 332.9,65.4 L 335.1,64.2 L 337.3,65.5' style='fill:none;stroke:#000000;stroke-width:2.0px;stroke-linecap:butt;stroke-linejoin:miter;stroke-opacity:1;' />\n<path d='M 376.4,89.0 L 378.6,90.3 L 380.8,89.1' style='fill:none;stroke:#000000;stroke-width:2.0px;stroke-linecap:butt;stroke-linejoin:miter;stroke-opacity:1;' />\n<path class='note' d='M 23.1 80.4\nQ 21.8 80.4, 21.1 79.5\nQ 20.5 78.5, 20.5 76.8\nQ 20.5 75.0, 21.1 74.1\nQ 21.8 73.1, 23.1 73.1\nQ 24.4 73.1, 25.1 74.1\nQ 25.7 75.0, 25.7 76.8\nQ 25.7 78.5, 25.1 79.5\nQ 24.4 80.4, 23.1 80.4\nM 23.1 79.6\nQ 23.9 79.6, 24.3 78.9\nQ 24.7 78.2, 24.7 76.8\nQ 24.7 75.4, 24.3 74.6\nQ 23.9 73.9, 23.1 73.9\nQ 22.3 73.9, 21.9 74.6\nQ 21.5 75.4, 21.5 76.8\nQ 21.5 78.2, 21.9 78.9\nQ 22.3 79.6, 23.1 79.6\n' fill='#000000'/>\n<path class='note' d='M 69.9 53.9\nL 71.5 53.9\nL 71.5 48.5\nL 69.8 49.1\nL 69.5 48.5\nL 71.7 47.5\nL 72.5 47.6\nL 72.5 53.9\nL 73.9 53.9\nL 73.9 54.7\nL 69.9 54.7\nL 69.9 53.9\n' fill='#000000'/>\n<path class='note' d='M 112.5 91.9\nQ 112.7 91.3, 113.4 90.9\nQ 114.0 90.5, 114.9 90.5\nQ 116.0 90.5, 116.6 91.1\nQ 117.2 91.7, 117.2 92.7\nQ 117.2 93.8, 116.4 94.8\nQ 115.6 95.8, 114.0 97.0\nL 117.3 97.0\nL 117.3 97.8\nL 112.5 97.8\nL 112.5 97.1\nQ 113.8 96.1, 114.6 95.4\nQ 115.4 94.7, 115.8 94.1\nQ 116.2 93.4, 116.2 92.8\nQ 116.2 92.1, 115.8 91.7\nQ 115.5 91.3, 114.9 91.3\nQ 114.3 91.3, 113.9 91.5\nQ 113.5 91.8, 113.3 92.3\nL 112.5 91.9\n' fill='#000000'/>\n<path class='note' d='M 160.6 52.5\nQ 161.3 52.7, 161.6 53.1\nQ 162.0 53.6, 162.0 54.3\nQ 162.0 54.9, 161.7 55.4\nQ 161.4 55.9, 160.8 56.1\nQ 160.2 56.4, 159.5 56.4\nQ 158.7 56.4, 158.2 56.1\nQ 157.6 55.8, 157.1 55.3\nL 157.7 54.7\nQ 158.2 55.2, 158.5 55.4\nQ 158.9 55.6, 159.5 55.6\nQ 160.2 55.6, 160.6 55.2\nQ 161.0 54.9, 161.0 54.3\nQ 161.0 53.6, 160.5 53.2\nQ 160.1 52.9, 159.2 52.9\nL 158.7 52.9\nL 158.7 52.2\nL 159.2 52.2\nQ 160.0 52.2, 160.4 51.8\nQ 160.8 51.5, 160.8 50.8\nQ 160.8 50.4, 160.5 50.1\nQ 160.1 49.8, 159.5 49.8\nQ 158.9 49.8, 158.5 50.0\nQ 158.2 50.2, 157.9 50.8\nL 157.2 50.4\nQ 157.5 49.8, 158.1 49.4\nQ 158.7 49.0, 159.5 49.0\nQ 160.6 49.0, 161.2 49.5\nQ 161.8 50.0, 161.8 50.8\nQ 161.8 51.4, 161.5 51.8\nQ 161.2 52.3, 160.6 52.5\n' fill='#000000'/>\n<path class='note' d='M 204.6 96.8\nL 205.5 96.8\nL 205.5 97.6\nL 204.6 97.6\nL 204.6 99.3\nL 203.7 99.3\nL 203.7 97.6\nL 200.0 97.6\nL 200.0 97.0\nL 203.1 92.1\nL 204.6 92.1\nL 204.6 96.8\nM 201.1 96.8\nL 203.7 96.8\nL 203.7 92.7\nL 201.1 96.8\n' fill='#000000'/>\n<path class='note' d='M 247.6 53.3\nQ 248.2 53.3, 248.7 53.6\nQ 249.2 53.8, 249.5 54.3\nQ 249.8 54.8, 249.8 55.5\nQ 249.8 56.3, 249.5 56.8\nQ 249.1 57.3, 248.5 57.6\nQ 247.9 57.9, 247.3 57.9\nQ 246.6 57.9, 246.0 57.6\nQ 245.4 57.4, 245.0 56.9\nL 245.6 56.3\nQ 245.9 56.6, 246.4 56.9\nQ 246.8 57.0, 247.3 57.0\nQ 247.9 57.0, 248.4 56.6\nQ 248.8 56.3, 248.8 55.5\nQ 248.8 54.8, 248.4 54.4\nQ 247.9 54.1, 247.2 54.1\nQ 246.6 54.1, 245.9 54.3\nL 245.4 54.1\nL 245.7 50.6\nL 249.4 50.6\nL 249.3 51.4\nL 246.5 51.4\nL 246.3 53.5\nQ 247.0 53.3, 247.6 53.3\n' fill='#000000'/>\n<path class='note' d='M 290.9 96.4\nQ 291.5 96.4, 292.0 96.7\nQ 292.5 96.9, 292.8 97.4\nQ 293.1 97.9, 293.1 98.6\nQ 293.1 99.3, 292.8 99.8\nQ 292.5 100.3, 291.9 100.6\nQ 291.4 101.0, 290.7 101.0\nQ 289.4 101.0, 288.7 100.1\nQ 288.1 99.2, 288.1 97.5\nQ 288.1 95.6, 288.9 94.6\nQ 289.7 93.6, 291.2 93.6\nQ 291.7 93.6, 292.0 93.7\nQ 292.4 93.8, 292.8 94.0\nL 292.4 94.7\nQ 291.9 94.4, 291.2 94.4\nQ 290.2 94.4, 289.7 95.1\nQ 289.2 95.7, 289.1 97.1\nQ 289.5 96.7, 289.9 96.6\nQ 290.4 96.4, 290.9 96.4\nM 290.7 100.1\nQ 291.1 100.1, 291.4 99.9\nQ 291.7 99.7, 291.9 99.4\nQ 292.1 99.0, 292.1 98.6\nQ 292.1 97.9, 291.7 97.6\nQ 291.3 97.2, 290.7 97.2\nQ 290.3 97.2, 289.8 97.4\nQ 289.4 97.6, 289.1 97.9\nQ 289.2 99.0, 289.5 99.6\nQ 289.9 100.1, 290.7 100.1\n' fill='#000000'/>\n<path class='note' d='M 336.6 53.0\nL 332.9 53.0\nL 332.9 52.2\nL 337.6 52.2\nL 337.6 52.9\nL 334.7 59.3\nL 333.8 59.3\nL 336.6 53.0\n' fill='#000000'/>\n<path class='note' d='M 379.6 98.6\nQ 380.2 98.9, 380.6 99.3\nQ 381.0 99.7, 381.0 100.5\nQ 381.0 101.1, 380.7 101.5\nQ 380.3 102.0, 379.8 102.3\nQ 379.2 102.5, 378.5 102.5\nQ 377.3 102.5, 376.6 102.0\nQ 375.9 101.4, 375.9 100.5\nQ 375.9 99.9, 376.2 99.4\nQ 376.5 99.0, 377.1 98.6\nQ 376.7 98.4, 376.4 98.0\nQ 376.2 97.6, 376.2 97.0\nQ 376.2 96.2, 376.8 95.7\nQ 377.4 95.2, 378.4 95.2\nQ 379.5 95.2, 380.1 95.7\nQ 380.7 96.2, 380.7 97.0\nQ 380.7 97.5, 380.4 97.9\nQ 380.1 98.3, 379.6 98.6\nM 378.4 95.9\nQ 377.8 95.9, 377.5 96.2\nQ 377.2 96.5, 377.2 97.0\nQ 377.2 97.4, 377.4 97.6\nQ 377.6 97.9, 377.9 98.0\nQ 378.3 98.1, 378.9 98.4\nQ 379.3 98.1, 379.5 97.7\nQ 379.7 97.4, 379.7 97.0\nQ 379.7 96.5, 379.4 96.2\nQ 379.0 95.9, 378.4 95.9\nM 378.5 101.8\nQ 379.1 101.8, 379.6 101.4\nQ 380.0 101.0, 380.0 100.4\nQ 380.0 100.1, 379.7 99.8\nQ 379.5 99.6, 379.2 99.4\nQ 378.9 99.3, 378.3 99.1\nL 377.9 99.0\nQ 377.4 99.3, 377.1 99.6\nQ 376.9 100.0, 376.9 100.4\nQ 376.9 101.0, 377.3 101.4\nQ 377.8 101.8, 378.5 101.8\n' fill='#000000'/>\n<path class='note' d='M 427.0 69.5\nQ 428.3 69.5, 428.9 70.4\nQ 429.5 71.2, 429.5 73.0\nQ 429.5 74.9, 428.7 75.9\nQ 428.0 76.9, 426.4 76.9\nQ 426.0 76.9, 425.6 76.8\nQ 425.2 76.7, 424.8 76.4\nL 425.2 75.8\nQ 425.8 76.0, 426.4 76.0\nQ 427.4 76.0, 427.9 75.4\nQ 428.5 74.7, 428.5 73.4\nQ 428.2 73.7, 427.7 73.9\nQ 427.2 74.1, 426.7 74.1\nQ 426.1 74.1, 425.6 73.8\nQ 425.1 73.5, 424.8 73.0\nQ 424.6 72.5, 424.6 71.9\nQ 424.6 71.2, 424.9 70.7\nQ 425.2 70.1, 425.7 69.8\nQ 426.3 69.5, 427.0 69.5\nM 425.6 71.9\nQ 425.6 72.5, 425.9 72.9\nQ 426.3 73.3, 426.9 73.3\nQ 427.4 73.3, 427.8 73.1\nQ 428.2 72.9, 428.5 72.6\nQ 428.5 71.4, 428.1 70.9\nQ 427.7 70.3, 427.0 70.3\nQ 426.6 70.3, 426.3 70.5\nQ 425.9 70.8, 425.8 71.1\nQ 425.6 71.5, 425.6 71.9\n' fill='#000000'/>\n</svg>\n",
      "text/html": [
       "<?xml version='1.0' encoding='iso-8859-1'?>\n",
       "<svg version='1.1' baseProfile='full'\n",
       "              xmlns='http://www.w3.org/2000/svg'\n",
       "                      xmlns:rdkit='http://www.rdkit.org/xml'\n",
       "                      xmlns:xlink='http://www.w3.org/1999/xlink'\n",
       "                  xml:space='preserve'\n",
       "width='450px' height='150px' viewBox='0 0 450 150'>\n",
       "<!-- END OF HEADER -->\n",
       "<rect style='opacity:1.0;fill:#FFFFFF;stroke:none' width='450.0' height='150.0' x='0.0' y='0.0'> </rect>\n",
       "<path class='bond-0 atom-0 atom-1' d='M 27.2,84.1 L 71.6,59.5' style='fill:none;fill-rule:evenodd;stroke:#000000;stroke-width:2.0px;stroke-linecap:butt;stroke-linejoin:miter;stroke-opacity:1' />\n",
       "<path class='bond-0 atom-0 atom-1' d='M 30.9,90.8 L 71.4,68.3' style='fill:none;fill-rule:evenodd;stroke:#000000;stroke-width:2.0px;stroke-linecap:butt;stroke-linejoin:miter;stroke-opacity:1' />\n",
       "<path class='bond-1 atom-1 atom-2' d='M 71.6,59.5 L 115.0,85.7' style='fill:none;fill-rule:evenodd;stroke:#000000;stroke-width:2.0px;stroke-linecap:butt;stroke-linejoin:miter;stroke-opacity:1' />\n",
       "<path class='bond-2 atom-2 atom-3' d='M 115.0,85.7 L 159.4,61.1' style='fill:none;fill-rule:evenodd;stroke:#000000;stroke-width:2.0px;stroke-linecap:butt;stroke-linejoin:miter;stroke-opacity:1' />\n",
       "<path class='bond-2 atom-2 atom-3' d='M 115.2,76.9 L 155.7,54.4' style='fill:none;fill-rule:evenodd;stroke:#000000;stroke-width:2.0px;stroke-linecap:butt;stroke-linejoin:miter;stroke-opacity:1' />\n",
       "<path class='bond-3 atom-3 atom-4' d='M 159.4,61.1 L 202.9,87.2' style='fill:none;fill-rule:evenodd;stroke:#000000;stroke-width:2.0px;stroke-linecap:butt;stroke-linejoin:miter;stroke-opacity:1' />\n",
       "<path class='bond-4 atom-4 atom-5' d='M 202.9,87.2 L 247.3,62.6' style='fill:none;fill-rule:evenodd;stroke:#000000;stroke-width:2.0px;stroke-linecap:butt;stroke-linejoin:miter;stroke-opacity:1' />\n",
       "<path class='bond-4 atom-4 atom-5' d='M 203.0,78.4 L 243.6,56.0' style='fill:none;fill-rule:evenodd;stroke:#000000;stroke-width:2.0px;stroke-linecap:butt;stroke-linejoin:miter;stroke-opacity:1' />\n",
       "<path class='bond-5 atom-5 atom-6' d='M 247.3,62.6 L 290.7,88.8' style='fill:none;fill-rule:evenodd;stroke:#000000;stroke-width:2.0px;stroke-linecap:butt;stroke-linejoin:miter;stroke-opacity:1' />\n",
       "<path class='bond-6 atom-6 atom-7' d='M 290.7,88.8 L 335.1,64.2' style='fill:none;fill-rule:evenodd;stroke:#000000;stroke-width:2.0px;stroke-linecap:butt;stroke-linejoin:miter;stroke-opacity:1' />\n",
       "<path class='bond-6 atom-6 atom-7' d='M 290.9,80.0 L 331.4,57.5' style='fill:none;fill-rule:evenodd;stroke:#000000;stroke-width:2.0px;stroke-linecap:butt;stroke-linejoin:miter;stroke-opacity:1' />\n",
       "<path class='bond-7 atom-7 atom-8' d='M 335.1,64.2 L 378.6,90.3' style='fill:none;fill-rule:evenodd;stroke:#000000;stroke-width:2.0px;stroke-linecap:butt;stroke-linejoin:miter;stroke-opacity:1' />\n",
       "<path class='bond-8 atom-8 atom-9' d='M 378.6,90.3 L 423.0,65.8' style='fill:none;fill-rule:evenodd;stroke:#000000;stroke-width:2.0px;stroke-linecap:butt;stroke-linejoin:miter;stroke-opacity:1' />\n",
       "<path class='bond-8 atom-8 atom-9' d='M 378.7,81.6 L 419.3,59.1' style='fill:none;fill-rule:evenodd;stroke:#000000;stroke-width:2.0px;stroke-linecap:butt;stroke-linejoin:miter;stroke-opacity:1' />\n",
       "<path d='M 69.3,60.8 L 71.6,59.5 L 73.7,60.8' style='fill:none;stroke:#000000;stroke-width:2.0px;stroke-linecap:butt;stroke-linejoin:miter;stroke-opacity:1;' />\n",
       "<path d='M 112.9,84.4 L 115.0,85.7 L 117.2,84.4' style='fill:none;stroke:#000000;stroke-width:2.0px;stroke-linecap:butt;stroke-linejoin:miter;stroke-opacity:1;' />\n",
       "<path d='M 157.2,62.3 L 159.4,61.1 L 161.6,62.4' style='fill:none;stroke:#000000;stroke-width:2.0px;stroke-linecap:butt;stroke-linejoin:miter;stroke-opacity:1;' />\n",
       "<path d='M 200.7,85.9 L 202.9,87.2 L 205.1,86.0' style='fill:none;stroke:#000000;stroke-width:2.0px;stroke-linecap:butt;stroke-linejoin:miter;stroke-opacity:1;' />\n",
       "<path d='M 245.0,63.9 L 247.3,62.6 L 249.4,64.0' style='fill:none;stroke:#000000;stroke-width:2.0px;stroke-linecap:butt;stroke-linejoin:miter;stroke-opacity:1;' />\n",
       "<path d='M 288.6,87.5 L 290.7,88.8 L 293.0,87.6' style='fill:none;stroke:#000000;stroke-width:2.0px;stroke-linecap:butt;stroke-linejoin:miter;stroke-opacity:1;' />\n",
       "<path d='M 332.9,65.4 L 335.1,64.2 L 337.3,65.5' style='fill:none;stroke:#000000;stroke-width:2.0px;stroke-linecap:butt;stroke-linejoin:miter;stroke-opacity:1;' />\n",
       "<path d='M 376.4,89.0 L 378.6,90.3 L 380.8,89.1' style='fill:none;stroke:#000000;stroke-width:2.0px;stroke-linecap:butt;stroke-linejoin:miter;stroke-opacity:1;' />\n",
       "<path class='note' d='M 23.1 80.4\n",
       "Q 21.8 80.4, 21.1 79.5\n",
       "Q 20.5 78.5, 20.5 76.8\n",
       "Q 20.5 75.0, 21.1 74.1\n",
       "Q 21.8 73.1, 23.1 73.1\n",
       "Q 24.4 73.1, 25.1 74.1\n",
       "Q 25.7 75.0, 25.7 76.8\n",
       "Q 25.7 78.5, 25.1 79.5\n",
       "Q 24.4 80.4, 23.1 80.4\n",
       "M 23.1 79.6\n",
       "Q 23.9 79.6, 24.3 78.9\n",
       "Q 24.7 78.2, 24.7 76.8\n",
       "Q 24.7 75.4, 24.3 74.6\n",
       "Q 23.9 73.9, 23.1 73.9\n",
       "Q 22.3 73.9, 21.9 74.6\n",
       "Q 21.5 75.4, 21.5 76.8\n",
       "Q 21.5 78.2, 21.9 78.9\n",
       "Q 22.3 79.6, 23.1 79.6\n",
       "' fill='#000000'/>\n",
       "<path class='note' d='M 69.9 53.9\n",
       "L 71.5 53.9\n",
       "L 71.5 48.5\n",
       "L 69.8 49.1\n",
       "L 69.5 48.5\n",
       "L 71.7 47.5\n",
       "L 72.5 47.6\n",
       "L 72.5 53.9\n",
       "L 73.9 53.9\n",
       "L 73.9 54.7\n",
       "L 69.9 54.7\n",
       "L 69.9 53.9\n",
       "' fill='#000000'/>\n",
       "<path class='note' d='M 112.5 91.9\n",
       "Q 112.7 91.3, 113.4 90.9\n",
       "Q 114.0 90.5, 114.9 90.5\n",
       "Q 116.0 90.5, 116.6 91.1\n",
       "Q 117.2 91.7, 117.2 92.7\n",
       "Q 117.2 93.8, 116.4 94.8\n",
       "Q 115.6 95.8, 114.0 97.0\n",
       "L 117.3 97.0\n",
       "L 117.3 97.8\n",
       "L 112.5 97.8\n",
       "L 112.5 97.1\n",
       "Q 113.8 96.1, 114.6 95.4\n",
       "Q 115.4 94.7, 115.8 94.1\n",
       "Q 116.2 93.4, 116.2 92.8\n",
       "Q 116.2 92.1, 115.8 91.7\n",
       "Q 115.5 91.3, 114.9 91.3\n",
       "Q 114.3 91.3, 113.9 91.5\n",
       "Q 113.5 91.8, 113.3 92.3\n",
       "L 112.5 91.9\n",
       "' fill='#000000'/>\n",
       "<path class='note' d='M 160.6 52.5\n",
       "Q 161.3 52.7, 161.6 53.1\n",
       "Q 162.0 53.6, 162.0 54.3\n",
       "Q 162.0 54.9, 161.7 55.4\n",
       "Q 161.4 55.9, 160.8 56.1\n",
       "Q 160.2 56.4, 159.5 56.4\n",
       "Q 158.7 56.4, 158.2 56.1\n",
       "Q 157.6 55.8, 157.1 55.3\n",
       "L 157.7 54.7\n",
       "Q 158.2 55.2, 158.5 55.4\n",
       "Q 158.9 55.6, 159.5 55.6\n",
       "Q 160.2 55.6, 160.6 55.2\n",
       "Q 161.0 54.9, 161.0 54.3\n",
       "Q 161.0 53.6, 160.5 53.2\n",
       "Q 160.1 52.9, 159.2 52.9\n",
       "L 158.7 52.9\n",
       "L 158.7 52.2\n",
       "L 159.2 52.2\n",
       "Q 160.0 52.2, 160.4 51.8\n",
       "Q 160.8 51.5, 160.8 50.8\n",
       "Q 160.8 50.4, 160.5 50.1\n",
       "Q 160.1 49.8, 159.5 49.8\n",
       "Q 158.9 49.8, 158.5 50.0\n",
       "Q 158.2 50.2, 157.9 50.8\n",
       "L 157.2 50.4\n",
       "Q 157.5 49.8, 158.1 49.4\n",
       "Q 158.7 49.0, 159.5 49.0\n",
       "Q 160.6 49.0, 161.2 49.5\n",
       "Q 161.8 50.0, 161.8 50.8\n",
       "Q 161.8 51.4, 161.5 51.8\n",
       "Q 161.2 52.3, 160.6 52.5\n",
       "' fill='#000000'/>\n",
       "<path class='note' d='M 204.6 96.8\n",
       "L 205.5 96.8\n",
       "L 205.5 97.6\n",
       "L 204.6 97.6\n",
       "L 204.6 99.3\n",
       "L 203.7 99.3\n",
       "L 203.7 97.6\n",
       "L 200.0 97.6\n",
       "L 200.0 97.0\n",
       "L 203.1 92.1\n",
       "L 204.6 92.1\n",
       "L 204.6 96.8\n",
       "M 201.1 96.8\n",
       "L 203.7 96.8\n",
       "L 203.7 92.7\n",
       "L 201.1 96.8\n",
       "' fill='#000000'/>\n",
       "<path class='note' d='M 247.6 53.3\n",
       "Q 248.2 53.3, 248.7 53.6\n",
       "Q 249.2 53.8, 249.5 54.3\n",
       "Q 249.8 54.8, 249.8 55.5\n",
       "Q 249.8 56.3, 249.5 56.8\n",
       "Q 249.1 57.3, 248.5 57.6\n",
       "Q 247.9 57.9, 247.3 57.9\n",
       "Q 246.6 57.9, 246.0 57.6\n",
       "Q 245.4 57.4, 245.0 56.9\n",
       "L 245.6 56.3\n",
       "Q 245.9 56.6, 246.4 56.9\n",
       "Q 246.8 57.0, 247.3 57.0\n",
       "Q 247.9 57.0, 248.4 56.6\n",
       "Q 248.8 56.3, 248.8 55.5\n",
       "Q 248.8 54.8, 248.4 54.4\n",
       "Q 247.9 54.1, 247.2 54.1\n",
       "Q 246.6 54.1, 245.9 54.3\n",
       "L 245.4 54.1\n",
       "L 245.7 50.6\n",
       "L 249.4 50.6\n",
       "L 249.3 51.4\n",
       "L 246.5 51.4\n",
       "L 246.3 53.5\n",
       "Q 247.0 53.3, 247.6 53.3\n",
       "' fill='#000000'/>\n",
       "<path class='note' d='M 290.9 96.4\n",
       "Q 291.5 96.4, 292.0 96.7\n",
       "Q 292.5 96.9, 292.8 97.4\n",
       "Q 293.1 97.9, 293.1 98.6\n",
       "Q 293.1 99.3, 292.8 99.8\n",
       "Q 292.5 100.3, 291.9 100.6\n",
       "Q 291.4 101.0, 290.7 101.0\n",
       "Q 289.4 101.0, 288.7 100.1\n",
       "Q 288.1 99.2, 288.1 97.5\n",
       "Q 288.1 95.6, 288.9 94.6\n",
       "Q 289.7 93.6, 291.2 93.6\n",
       "Q 291.7 93.6, 292.0 93.7\n",
       "Q 292.4 93.8, 292.8 94.0\n",
       "L 292.4 94.7\n",
       "Q 291.9 94.4, 291.2 94.4\n",
       "Q 290.2 94.4, 289.7 95.1\n",
       "Q 289.2 95.7, 289.1 97.1\n",
       "Q 289.5 96.7, 289.9 96.6\n",
       "Q 290.4 96.4, 290.9 96.4\n",
       "M 290.7 100.1\n",
       "Q 291.1 100.1, 291.4 99.9\n",
       "Q 291.7 99.7, 291.9 99.4\n",
       "Q 292.1 99.0, 292.1 98.6\n",
       "Q 292.1 97.9, 291.7 97.6\n",
       "Q 291.3 97.2, 290.7 97.2\n",
       "Q 290.3 97.2, 289.8 97.4\n",
       "Q 289.4 97.6, 289.1 97.9\n",
       "Q 289.2 99.0, 289.5 99.6\n",
       "Q 289.9 100.1, 290.7 100.1\n",
       "' fill='#000000'/>\n",
       "<path class='note' d='M 336.6 53.0\n",
       "L 332.9 53.0\n",
       "L 332.9 52.2\n",
       "L 337.6 52.2\n",
       "L 337.6 52.9\n",
       "L 334.7 59.3\n",
       "L 333.8 59.3\n",
       "L 336.6 53.0\n",
       "' fill='#000000'/>\n",
       "<path class='note' d='M 379.6 98.6\n",
       "Q 380.2 98.9, 380.6 99.3\n",
       "Q 381.0 99.7, 381.0 100.5\n",
       "Q 381.0 101.1, 380.7 101.5\n",
       "Q 380.3 102.0, 379.8 102.3\n",
       "Q 379.2 102.5, 378.5 102.5\n",
       "Q 377.3 102.5, 376.6 102.0\n",
       "Q 375.9 101.4, 375.9 100.5\n",
       "Q 375.9 99.9, 376.2 99.4\n",
       "Q 376.5 99.0, 377.1 98.6\n",
       "Q 376.7 98.4, 376.4 98.0\n",
       "Q 376.2 97.6, 376.2 97.0\n",
       "Q 376.2 96.2, 376.8 95.7\n",
       "Q 377.4 95.2, 378.4 95.2\n",
       "Q 379.5 95.2, 380.1 95.7\n",
       "Q 380.7 96.2, 380.7 97.0\n",
       "Q 380.7 97.5, 380.4 97.9\n",
       "Q 380.1 98.3, 379.6 98.6\n",
       "M 378.4 95.9\n",
       "Q 377.8 95.9, 377.5 96.2\n",
       "Q 377.2 96.5, 377.2 97.0\n",
       "Q 377.2 97.4, 377.4 97.6\n",
       "Q 377.6 97.9, 377.9 98.0\n",
       "Q 378.3 98.1, 378.9 98.4\n",
       "Q 379.3 98.1, 379.5 97.7\n",
       "Q 379.7 97.4, 379.7 97.0\n",
       "Q 379.7 96.5, 379.4 96.2\n",
       "Q 379.0 95.9, 378.4 95.9\n",
       "M 378.5 101.8\n",
       "Q 379.1 101.8, 379.6 101.4\n",
       "Q 380.0 101.0, 380.0 100.4\n",
       "Q 380.0 100.1, 379.7 99.8\n",
       "Q 379.5 99.6, 379.2 99.4\n",
       "Q 378.9 99.3, 378.3 99.1\n",
       "L 377.9 99.0\n",
       "Q 377.4 99.3, 377.1 99.6\n",
       "Q 376.9 100.0, 376.9 100.4\n",
       "Q 376.9 101.0, 377.3 101.4\n",
       "Q 377.8 101.8, 378.5 101.8\n",
       "' fill='#000000'/>\n",
       "<path class='note' d='M 427.0 69.5\n",
       "Q 428.3 69.5, 428.9 70.4\n",
       "Q 429.5 71.2, 429.5 73.0\n",
       "Q 429.5 74.9, 428.7 75.9\n",
       "Q 428.0 76.9, 426.4 76.9\n",
       "Q 426.0 76.9, 425.6 76.8\n",
       "Q 425.2 76.7, 424.8 76.4\n",
       "L 425.2 75.8\n",
       "Q 425.8 76.0, 426.4 76.0\n",
       "Q 427.4 76.0, 427.9 75.4\n",
       "Q 428.5 74.7, 428.5 73.4\n",
       "Q 428.2 73.7, 427.7 73.9\n",
       "Q 427.2 74.1, 426.7 74.1\n",
       "Q 426.1 74.1, 425.6 73.8\n",
       "Q 425.1 73.5, 424.8 73.0\n",
       "Q 424.6 72.5, 424.6 71.9\n",
       "Q 424.6 71.2, 424.9 70.7\n",
       "Q 425.2 70.1, 425.7 69.8\n",
       "Q 426.3 69.5, 427.0 69.5\n",
       "M 425.6 71.9\n",
       "Q 425.6 72.5, 425.9 72.9\n",
       "Q 426.3 73.3, 426.9 73.3\n",
       "Q 427.4 73.3, 427.8 73.1\n",
       "Q 428.2 72.9, 428.5 72.6\n",
       "Q 428.5 71.4, 428.1 70.9\n",
       "Q 427.7 70.3, 427.0 70.3\n",
       "Q 426.6 70.3, 426.3 70.5\n",
       "Q 425.9 70.8, 425.8 71.1\n",
       "Q 425.6 71.5, 425.6 71.9\n",
       "' fill='#000000'/>\n",
       "</svg>\n"
      ],
      "text/plain": [
       "<rdkit.Chem.rdchem.Mol>"
      ]
     },
     "execution_count": null,
     "metadata": {},
     "output_type": "execute_result"
    }
   ],
   "source": [
    "mol = generate_smiles('linear', 10)\n",
    "mol = Huckel(mol)\n",
    "print(mol)\n",
    "mol.molecule"
   ]
  },
  {
   "cell_type": "code",
   "execution_count": null,
   "metadata": {},
   "outputs": [
    {
     "data": {
      "image/png": "[encoded data removed]",
      "text/plain": [
       "<Figure size 432x288 with 1 Axes>"
      ]
     },
     "metadata": {
      "needs_background": "light"
     },
     "output_type": "display_data"
    }
   ],
   "source": [
    "mol.plot()"
   ]
  },
  {
   "cell_type": "code",
   "execution_count": null,
   "metadata": {},
   "outputs": [
    {
     "name": "stdout",
     "output_type": "stream",
     "text": [
      "Huckel Energies (degeneracy) for C1=CC=CC=C1: [-2.000 (1)]  [-1.000 (2)]  [1.000 (2)]  [2.000 (1)] \n"
     ]
    },
    {
     "data": {
      "image/png": "[encoded data removed]",
      "image/svg+xml": "<?xml version='1.0' encoding='iso-8859-1'?>\n<svg version='1.1' baseProfile='full'\n              xmlns='http://www.w3.org/2000/svg'\n                      xmlns:rdkit='http://www.rdkit.org/xml'\n                      xmlns:xlink='http://www.w3.org/1999/xlink'\n                  xml:space='preserve'\nwidth='450px' height='150px' viewBox='0 0 450 150'>\n<!-- END OF HEADER -->\n<rect style='opacity:1.0;fill:#FFFFFF;stroke:none' width='450.0' height='150.0' x='0.0' y='0.0'> </rect>\n<path class='bond-0 atom-0 atom-1' d='M 287.9,75.0 L 256.4,129.6' style='fill:none;fill-rule:evenodd;stroke:#000000;stroke-width:2.0px;stroke-linecap:butt;stroke-linejoin:miter;stroke-opacity:1' />\n<path class='bond-0 atom-0 atom-1' d='M 277.0,75.0 L 250.9,120.1' style='fill:none;fill-rule:evenodd;stroke:#000000;stroke-width:2.0px;stroke-linecap:butt;stroke-linejoin:miter;stroke-opacity:1' />\n<path class='bond-1 atom-1 atom-2' d='M 256.4,129.6 L 193.3,129.6' style='fill:none;fill-rule:evenodd;stroke:#000000;stroke-width:2.0px;stroke-linecap:butt;stroke-linejoin:miter;stroke-opacity:1' />\n<path class='bond-2 atom-2 atom-3' d='M 193.3,129.6 L 161.8,75.0' style='fill:none;fill-rule:evenodd;stroke:#000000;stroke-width:2.0px;stroke-linecap:butt;stroke-linejoin:miter;stroke-opacity:1' />\n<path class='bond-2 atom-2 atom-3' d='M 198.8,120.1 L 172.7,75.0' style='fill:none;fill-rule:evenodd;stroke:#000000;stroke-width:2.0px;stroke-linecap:butt;stroke-linejoin:miter;stroke-opacity:1' />\n<path class='bond-3 atom-3 atom-4' d='M 161.8,75.0 L 193.3,20.4' style='fill:none;fill-rule:evenodd;stroke:#000000;stroke-width:2.0px;stroke-linecap:butt;stroke-linejoin:miter;stroke-opacity:1' />\n<path class='bond-4 atom-4 atom-5' d='M 193.3,20.4 L 256.4,20.4' style='fill:none;fill-rule:evenodd;stroke:#000000;stroke-width:2.0px;stroke-linecap:butt;stroke-linejoin:miter;stroke-opacity:1' />\n<path class='bond-4 atom-4 atom-5' d='M 198.8,29.8 L 250.9,29.8' style='fill:none;fill-rule:evenodd;stroke:#000000;stroke-width:2.0px;stroke-linecap:butt;stroke-linejoin:miter;stroke-opacity:1' />\n<path class='bond-5 atom-5 atom-0' d='M 256.4,20.4 L 287.9,75.0' style='fill:none;fill-rule:evenodd;stroke:#000000;stroke-width:2.0px;stroke-linecap:butt;stroke-linejoin:miter;stroke-opacity:1' />\n<path d='M 286.3,77.7 L 287.9,75.0 L 286.3,72.2' style='fill:none;stroke:#000000;stroke-width:2.0px;stroke-linecap:butt;stroke-linejoin:miter;stroke-opacity:1;' />\n<path d='M 258.0,126.8 L 256.4,129.6 L 253.2,129.6' style='fill:none;stroke:#000000;stroke-width:2.0px;stroke-linecap:butt;stroke-linejoin:miter;stroke-opacity:1;' />\n<path d='M 196.5,129.6 L 193.3,129.6 L 191.8,126.8' style='fill:none;stroke:#000000;stroke-width:2.0px;stroke-linecap:butt;stroke-linejoin:miter;stroke-opacity:1;' />\n<path d='M 163.4,77.7 L 161.8,75.0 L 163.4,72.2' style='fill:none;stroke:#000000;stroke-width:2.0px;stroke-linecap:butt;stroke-linejoin:miter;stroke-opacity:1;' />\n<path d='M 191.8,23.1 L 193.3,20.4 L 196.5,20.4' style='fill:none;stroke:#000000;stroke-width:2.0px;stroke-linecap:butt;stroke-linejoin:miter;stroke-opacity:1;' />\n<path d='M 253.2,20.4 L 256.4,20.4 L 258.0,23.1' style='fill:none;stroke:#000000;stroke-width:2.0px;stroke-linecap:butt;stroke-linejoin:miter;stroke-opacity:1;' />\n<path class='note' d='M 298.4 79.6\nQ 296.8 79.6, 296.0 78.4\nQ 295.1 77.2, 295.1 75.0\nQ 295.1 72.9, 296.0 71.7\nQ 296.8 70.5, 298.4 70.5\nQ 300.1 70.5, 300.9 71.7\nQ 301.7 72.9, 301.7 75.0\nQ 301.7 77.2, 300.9 78.4\nQ 300.1 79.6, 298.4 79.6\nM 298.4 78.6\nQ 299.4 78.6, 299.9 77.7\nQ 300.4 76.8, 300.4 75.0\nQ 300.4 73.3, 299.9 72.4\nQ 299.4 71.5, 298.4 71.5\nQ 297.5 71.5, 296.9 72.4\nQ 296.4 73.3, 296.4 75.0\nQ 296.4 76.8, 296.9 77.7\nQ 297.5 78.6, 298.4 78.6\n' fill='#000000'/>\n<path class='note' d='M 259.4 142.1\nL 261.4 142.1\nL 261.4 135.5\nL 259.2 136.1\nL 258.9 135.4\nL 261.7 134.2\nL 262.6 134.3\nL 262.6 142.1\nL 264.3 142.1\nL 264.3 143.2\nL 259.4 143.2\nL 259.4 142.1\n' fill='#000000'/>\n<path class='note' d='M 185.1 135.9\nQ 185.4 135.1, 186.2 134.6\nQ 187.0 134.2, 188.1 134.2\nQ 189.4 134.2, 190.2 134.9\nQ 190.9 135.6, 190.9 136.9\nQ 190.9 138.2, 190.0 139.5\nQ 189.0 140.7, 187.0 142.2\nL 191.1 142.2\nL 191.1 143.2\nL 185.1 143.2\nL 185.1 142.3\nQ 186.8 141.2, 187.7 140.3\nQ 188.7 139.4, 189.2 138.6\nQ 189.7 137.8, 189.7 137.0\nQ 189.7 136.1, 189.3 135.6\nQ 188.8 135.2, 188.1 135.2\nQ 187.4 135.2, 186.9 135.5\nQ 186.4 135.7, 186.1 136.4\nL 185.1 135.9\n' fill='#000000'/>\n<path class='note' d='M 152.6 74.8\nQ 153.5 75.0, 153.9 75.6\nQ 154.3 76.2, 154.3 77.0\nQ 154.3 77.8, 153.9 78.4\nQ 153.6 79.0, 152.9 79.3\nQ 152.2 79.6, 151.3 79.6\nQ 150.3 79.6, 149.6 79.3\nQ 148.9 78.9, 148.3 78.3\nL 149.0 77.5\nQ 149.6 78.1, 150.1 78.4\nQ 150.5 78.6, 151.3 78.6\nQ 152.1 78.6, 152.6 78.2\nQ 153.1 77.7, 153.1 77.0\nQ 153.1 76.1, 152.5 75.7\nQ 152.0 75.3, 150.9 75.3\nL 150.3 75.3\nL 150.3 74.4\nL 150.9 74.4\nQ 151.8 74.4, 152.4 74.0\nQ 152.9 73.5, 152.9 72.7\nQ 152.9 72.2, 152.4 71.8\nQ 152.0 71.5, 151.3 71.5\nQ 150.5 71.5, 150.1 71.7\nQ 149.6 72.0, 149.3 72.7\nL 148.4 72.2\nQ 148.7 71.5, 149.5 71.0\nQ 150.2 70.5, 151.3 70.5\nQ 152.6 70.5, 153.4 71.1\nQ 154.1 71.7, 154.1 72.7\nQ 154.1 73.5, 153.7 74.0\nQ 153.4 74.5, 152.6 74.8\n' fill='#000000'/>\n<path class='note' d='M 190.5 12.7\nL 191.5 12.7\nL 191.5 13.7\nL 190.5 13.7\nL 190.5 15.7\nL 189.3 15.7\nL 189.3 13.7\nL 184.7 13.7\nL 184.7 12.9\nL 188.6 6.8\nL 190.5 6.8\nL 190.5 12.7\nM 186.1 12.7\nL 189.3 12.7\nL 189.3 7.6\nL 186.1 12.7\n' fill='#000000'/>\n<path class='note' d='M 261.9 10.2\nQ 262.6 10.2, 263.3 10.5\nQ 263.9 10.8, 264.3 11.5\nQ 264.7 12.1, 264.7 12.9\nQ 264.7 13.8, 264.2 14.5\nQ 263.8 15.2, 263.0 15.5\nQ 262.3 15.8, 261.5 15.8\nQ 260.7 15.8, 259.9 15.5\nQ 259.1 15.2, 258.6 14.7\nL 259.4 13.9\nQ 259.8 14.3, 260.4 14.6\nQ 260.9 14.8, 261.5 14.8\nQ 262.3 14.8, 262.8 14.3\nQ 263.4 13.8, 263.4 12.9\nQ 263.4 12.0, 262.8 11.6\nQ 262.3 11.1, 261.4 11.1\nQ 260.7 11.1, 259.8 11.4\nL 259.1 11.1\nL 259.5 6.8\nL 264.1 6.8\nL 264.0 7.8\nL 260.6 7.8\nL 260.3 10.5\nQ 261.1 10.2, 261.9 10.2\n' fill='#000000'/>\n</svg>\n",
      "text/html": [
       "<?xml version='1.0' encoding='iso-8859-1'?>\n",
       "<svg version='1.1' baseProfile='full'\n",
       "              xmlns='http://www.w3.org/2000/svg'\n",
       "                      xmlns:rdkit='http://www.rdkit.org/xml'\n",
       "                      xmlns:xlink='http://www.w3.org/1999/xlink'\n",
       "                  xml:space='preserve'\n",
       "width='450px' height='150px' viewBox='0 0 450 150'>\n",
       "<!-- END OF HEADER -->\n",
       "<rect style='opacity:1.0;fill:#FFFFFF;stroke:none' width='450.0' height='150.0' x='0.0' y='0.0'> </rect>\n",
       "<path class='bond-0 atom-0 atom-1' d='M 287.9,75.0 L 256.4,129.6' style='fill:none;fill-rule:evenodd;stroke:#000000;stroke-width:2.0px;stroke-linecap:butt;stroke-linejoin:miter;stroke-opacity:1' />\n",
       "<path class='bond-0 atom-0 atom-1' d='M 277.0,75.0 L 250.9,120.1' style='fill:none;fill-rule:evenodd;stroke:#000000;stroke-width:2.0px;stroke-linecap:butt;stroke-linejoin:miter;stroke-opacity:1' />\n",
       "<path class='bond-1 atom-1 atom-2' d='M 256.4,129.6 L 193.3,129.6' style='fill:none;fill-rule:evenodd;stroke:#000000;stroke-width:2.0px;stroke-linecap:butt;stroke-linejoin:miter;stroke-opacity:1' />\n",
       "<path class='bond-2 atom-2 atom-3' d='M 193.3,129.6 L 161.8,75.0' style='fill:none;fill-rule:evenodd;stroke:#000000;stroke-width:2.0px;stroke-linecap:butt;stroke-linejoin:miter;stroke-opacity:1' />\n",
       "<path class='bond-2 atom-2 atom-3' d='M 198.8,120.1 L 172.7,75.0' style='fill:none;fill-rule:evenodd;stroke:#000000;stroke-width:2.0px;stroke-linecap:butt;stroke-linejoin:miter;stroke-opacity:1' />\n",
       "<path class='bond-3 atom-3 atom-4' d='M 161.8,75.0 L 193.3,20.4' style='fill:none;fill-rule:evenodd;stroke:#000000;stroke-width:2.0px;stroke-linecap:butt;stroke-linejoin:miter;stroke-opacity:1' />\n",
       "<path class='bond-4 atom-4 atom-5' d='M 193.3,20.4 L 256.4,20.4' style='fill:none;fill-rule:evenodd;stroke:#000000;stroke-width:2.0px;stroke-linecap:butt;stroke-linejoin:miter;stroke-opacity:1' />\n",
       "<path class='bond-4 atom-4 atom-5' d='M 198.8,29.8 L 250.9,29.8' style='fill:none;fill-rule:evenodd;stroke:#000000;stroke-width:2.0px;stroke-linecap:butt;stroke-linejoin:miter;stroke-opacity:1' />\n",
       "<path class='bond-5 atom-5 atom-0' d='M 256.4,20.4 L 287.9,75.0' style='fill:none;fill-rule:evenodd;stroke:#000000;stroke-width:2.0px;stroke-linecap:butt;stroke-linejoin:miter;stroke-opacity:1' />\n",
       "<path d='M 286.3,77.7 L 287.9,75.0 L 286.3,72.2' style='fill:none;stroke:#000000;stroke-width:2.0px;stroke-linecap:butt;stroke-linejoin:miter;stroke-opacity:1;' />\n",
       "<path d='M 258.0,126.8 L 256.4,129.6 L 253.2,129.6' style='fill:none;stroke:#000000;stroke-width:2.0px;stroke-linecap:butt;stroke-linejoin:miter;stroke-opacity:1;' />\n",
       "<path d='M 196.5,129.6 L 193.3,129.6 L 191.8,126.8' style='fill:none;stroke:#000000;stroke-width:2.0px;stroke-linecap:butt;stroke-linejoin:miter;stroke-opacity:1;' />\n",
       "<path d='M 163.4,77.7 L 161.8,75.0 L 163.4,72.2' style='fill:none;stroke:#000000;stroke-width:2.0px;stroke-linecap:butt;stroke-linejoin:miter;stroke-opacity:1;' />\n",
       "<path d='M 191.8,23.1 L 193.3,20.4 L 196.5,20.4' style='fill:none;stroke:#000000;stroke-width:2.0px;stroke-linecap:butt;stroke-linejoin:miter;stroke-opacity:1;' />\n",
       "<path d='M 253.2,20.4 L 256.4,20.4 L 258.0,23.1' style='fill:none;stroke:#000000;stroke-width:2.0px;stroke-linecap:butt;stroke-linejoin:miter;stroke-opacity:1;' />\n",
       "<path class='note' d='M 298.4 79.6\n",
       "Q 296.8 79.6, 296.0 78.4\n",
       "Q 295.1 77.2, 295.1 75.0\n",
       "Q 295.1 72.9, 296.0 71.7\n",
       "Q 296.8 70.5, 298.4 70.5\n",
       "Q 300.1 70.5, 300.9 71.7\n",
       "Q 301.7 72.9, 301.7 75.0\n",
       "Q 301.7 77.2, 300.9 78.4\n",
       "Q 300.1 79.6, 298.4 79.6\n",
       "M 298.4 78.6\n",
       "Q 299.4 78.6, 299.9 77.7\n",
       "Q 300.4 76.8, 300.4 75.0\n",
       "Q 300.4 73.3, 299.9 72.4\n",
       "Q 299.4 71.5, 298.4 71.5\n",
       "Q 297.5 71.5, 296.9 72.4\n",
       "Q 296.4 73.3, 296.4 75.0\n",
       "Q 296.4 76.8, 296.9 77.7\n",
       "Q 297.5 78.6, 298.4 78.6\n",
       "' fill='#000000'/>\n",
       "<path class='note' d='M 259.4 142.1\n",
       "L 261.4 142.1\n",
       "L 261.4 135.5\n",
       "L 259.2 136.1\n",
       "L 258.9 135.4\n",
       "L 261.7 134.2\n",
       "L 262.6 134.3\n",
       "L 262.6 142.1\n",
       "L 264.3 142.1\n",
       "L 264.3 143.2\n",
       "L 259.4 143.2\n",
       "L 259.4 142.1\n",
       "' fill='#000000'/>\n",
       "<path class='note' d='M 185.1 135.9\n",
       "Q 185.4 135.1, 186.2 134.6\n",
       "Q 187.0 134.2, 188.1 134.2\n",
       "Q 189.4 134.2, 190.2 134.9\n",
       "Q 190.9 135.6, 190.9 136.9\n",
       "Q 190.9 138.2, 190.0 139.5\n",
       "Q 189.0 140.7, 187.0 142.2\n",
       "L 191.1 142.2\n",
       "L 191.1 143.2\n",
       "L 185.1 143.2\n",
       "L 185.1 142.3\n",
       "Q 186.8 141.2, 187.7 140.3\n",
       "Q 188.7 139.4, 189.2 138.6\n",
       "Q 189.7 137.8, 189.7 137.0\n",
       "Q 189.7 136.1, 189.3 135.6\n",
       "Q 188.8 135.2, 188.1 135.2\n",
       "Q 187.4 135.2, 186.9 135.5\n",
       "Q 186.4 135.7, 186.1 136.4\n",
       "L 185.1 135.9\n",
       "' fill='#000000'/>\n",
       "<path class='note' d='M 152.6 74.8\n",
       "Q 153.5 75.0, 153.9 75.6\n",
       "Q 154.3 76.2, 154.3 77.0\n",
       "Q 154.3 77.8, 153.9 78.4\n",
       "Q 153.6 79.0, 152.9 79.3\n",
       "Q 152.2 79.6, 151.3 79.6\n",
       "Q 150.3 79.6, 149.6 79.3\n",
       "Q 148.9 78.9, 148.3 78.3\n",
       "L 149.0 77.5\n",
       "Q 149.6 78.1, 150.1 78.4\n",
       "Q 150.5 78.6, 151.3 78.6\n",
       "Q 152.1 78.6, 152.6 78.2\n",
       "Q 153.1 77.7, 153.1 77.0\n",
       "Q 153.1 76.1, 152.5 75.7\n",
       "Q 152.0 75.3, 150.9 75.3\n",
       "L 150.3 75.3\n",
       "L 150.3 74.4\n",
       "L 150.9 74.4\n",
       "Q 151.8 74.4, 152.4 74.0\n",
       "Q 152.9 73.5, 152.9 72.7\n",
       "Q 152.9 72.2, 152.4 71.8\n",
       "Q 152.0 71.5, 151.3 71.5\n",
       "Q 150.5 71.5, 150.1 71.7\n",
       "Q 149.6 72.0, 149.3 72.7\n",
       "L 148.4 72.2\n",
       "Q 148.7 71.5, 149.5 71.0\n",
       "Q 150.2 70.5, 151.3 70.5\n",
       "Q 152.6 70.5, 153.4 71.1\n",
       "Q 154.1 71.7, 154.1 72.7\n",
       "Q 154.1 73.5, 153.7 74.0\n",
       "Q 153.4 74.5, 152.6 74.8\n",
       "' fill='#000000'/>\n",
       "<path class='note' d='M 190.5 12.7\n",
       "L 191.5 12.7\n",
       "L 191.5 13.7\n",
       "L 190.5 13.7\n",
       "L 190.5 15.7\n",
       "L 189.3 15.7\n",
       "L 189.3 13.7\n",
       "L 184.7 13.7\n",
       "L 184.7 12.9\n",
       "L 188.6 6.8\n",
       "L 190.5 6.8\n",
       "L 190.5 12.7\n",
       "M 186.1 12.7\n",
       "L 189.3 12.7\n",
       "L 189.3 7.6\n",
       "L 186.1 12.7\n",
       "' fill='#000000'/>\n",
       "<path class='note' d='M 261.9 10.2\n",
       "Q 262.6 10.2, 263.3 10.5\n",
       "Q 263.9 10.8, 264.3 11.5\n",
       "Q 264.7 12.1, 264.7 12.9\n",
       "Q 264.7 13.8, 264.2 14.5\n",
       "Q 263.8 15.2, 263.0 15.5\n",
       "Q 262.3 15.8, 261.5 15.8\n",
       "Q 260.7 15.8, 259.9 15.5\n",
       "Q 259.1 15.2, 258.6 14.7\n",
       "L 259.4 13.9\n",
       "Q 259.8 14.3, 260.4 14.6\n",
       "Q 260.9 14.8, 261.5 14.8\n",
       "Q 262.3 14.8, 262.8 14.3\n",
       "Q 263.4 13.8, 263.4 12.9\n",
       "Q 263.4 12.0, 262.8 11.6\n",
       "Q 262.3 11.1, 261.4 11.1\n",
       "Q 260.7 11.1, 259.8 11.4\n",
       "L 259.1 11.1\n",
       "L 259.5 6.8\n",
       "L 264.1 6.8\n",
       "L 264.0 7.8\n",
       "L 260.6 7.8\n",
       "L 260.3 10.5\n",
       "Q 261.1 10.2, 261.9 10.2\n",
       "' fill='#000000'/>\n",
       "</svg>\n"
      ],
      "text/plain": [
       "<rdkit.Chem.rdchem.Mol>"
      ]
     },
     "execution_count": null,
     "metadata": {},
     "output_type": "execute_result"
    }
   ],
   "source": [
    "mol = generate_smiles('ring', 6)\n",
    "mol = Huckel(mol)\n",
    "print(mol)\n",
    "mol.molecule"
   ]
  },
  {
   "cell_type": "code",
   "execution_count": null,
   "metadata": {},
   "outputs": [
    {
     "data": {
      "image/png": "[encoded data removed]",
      "text/plain": [
       "<Figure size 432x288 with 1 Axes>"
      ]
     },
     "metadata": {
      "needs_background": "light"
     },
     "output_type": "display_data"
    }
   ],
   "source": [
    "mol.plot()"
   ]
  },
  {
   "cell_type": "markdown",
   "metadata": {},
   "source": [
    "Similarly, it works for more complkex 3d structures (though rdkit struggles to show their structure in the output skeletal diagram)"
   ]
  },
  {
   "cell_type": "code",
   "execution_count": null,
   "metadata": {},
   "outputs": [],
   "source": [
    "tetrahedrane_smiles = 'C12C3C1C23'\n",
    "cubane_smiles = 'C12C3C4C1C5C2C3C45'\n",
    "dodecahedrane_smiles = 'C12C3C4C5C1C6C7C2C8C3C9C4C1C5C6C2C7C8C9C12'\n",
    "fullerene_smiles = \"c12c3c4c5c2c2c6c7c1c1c8c3c3c9c4c4c%10c5c5c2c2c6c6c%11c7c1c1c7c8c3c3c8c9c4c4c9c%10c5c5c2c2c6c6c%11c1c1c7c3c3c8c4c4c9c5c2c2c6c1c3c42\""
   ]
  },
  {
   "cell_type": "code",
   "execution_count": null,
   "metadata": {},
   "outputs": [
    {
     "name": "stdout",
     "output_type": "stream",
     "text": [
      "[[ 0 -1  0 -1  0 -1  0  0]\n",
      " [-1  0 -1  0  0  0 -1  0]\n",
      " [ 0 -1  0 -1  0  0  0 -1]\n",
      " [-1  0 -1  0 -1  0  0  0]\n",
      " [ 0  0  0 -1  0 -1  0 -1]\n",
      " [-1  0  0  0 -1  0 -1  0]\n",
      " [ 0 -1  0  0  0 -1  0 -1]\n",
      " [ 0  0 -1  0 -1  0 -1  0]]\n"
     ]
    }
   ],
   "source": [
    "# rdkit does consider all bonds, even if all are not shown on the output skeletal diagram: this is mostly apparent for cubane\n",
    "molecule = Chem.MolFromSmiles(cubane_smiles)\n",
    "mat = -Chem.GetAdjacencyMatrix(molecule)\n",
    "print(mat)"
   ]
  },
  {
   "cell_type": "code",
   "execution_count": null,
   "metadata": {},
   "outputs": [
    {
     "name": "stdout",
     "output_type": "stream",
     "text": [
      "Huckel Energies (degeneracy) for C12C3C1C23: [-3.000 (1)]  [1.000 (3)] \n"
     ]
    },
    {
     "data": {
      "image/png": "[encoded data removed]",
      "text/plain": [
       "<Figure size 432x288 with 1 Axes>"
      ]
     },
     "metadata": {
      "needs_background": "light"
     },
     "output_type": "display_data"
    }
   ],
   "source": [
    "tetrahedrane = Huckel(tetrahedrane_smiles)\n",
    "print(tetrahedrane)\n",
    "tetrahedrane.plot()"
   ]
  },
  {
   "cell_type": "code",
   "execution_count": null,
   "metadata": {},
   "outputs": [
    {
     "name": "stdout",
     "output_type": "stream",
     "text": [
      "Huckel Energies (degeneracy) for C12C3C4C1C5C2C3C45: [-3.000 (1)]  [-1.000 (3)]  [1.000 (3)]  [3.000 (1)] \n"
     ]
    },
    {
     "data": {
      "image/png": "[encoded data removed]",
      "text/plain": [
       "<Figure size 432x288 with 1 Axes>"
      ]
     },
     "metadata": {
      "needs_background": "light"
     },
     "output_type": "display_data"
    }
   ],
   "source": [
    "cubane = Huckel(cubane_smiles)\n",
    "print(cubane)\n",
    "cubane.plot()"
   ]
  },
  {
   "cell_type": "code",
   "execution_count": null,
   "metadata": {},
   "outputs": [
    {
     "name": "stdout",
     "output_type": "stream",
     "text": [
      "Huckel Energies (degeneracy) for C12C3C4C5C1C6C7C2C8C3C9C4C1C5C6C2C7C8C9C12: [-3.000 (1)]  [-2.236 (3)]  [-1.000 (5)]  [0.000 (4)]  [2.000 (4)]  [2.236 (3)] \n"
     ]
    },
    {
     "data": {
      "image/png": "[encoded data removed]",
      "text/plain": [
       "<Figure size 432x288 with 1 Axes>"
      ]
     },
     "metadata": {
      "needs_background": "light"
     },
     "output_type": "display_data"
    }
   ],
   "source": [
    "dodecahedrane = Huckel(dodecahedrane_smiles)\n",
    "print(dodecahedrane)\n",
    "dodecahedrane.plot()"
   ]
  },
  {
   "cell_type": "code",
   "execution_count": null,
   "metadata": {},
   "outputs": [
    {
     "name": "stdout",
     "output_type": "stream",
     "text": [
      "Huckel Energies (degeneracy) for c12c3c4c5c2c2c6c7c1c1c8c3c3c9c4c4c%10c5c5c2c2c6c6c%11c7c1c1c7c8c3c3c8c9c4c4c9c%10c5c5c2c2c6c6c%11c1c1c7c3c3c8c4c4c9c5c2c2c6c1c3c42: [-3.000 (1)]  [-2.757 (3)]  [-2.303 (5)]  [-1.820 (3)]  [-1.562 (4)]  [-1.000 (9)]  [-0.618 (5)]  [0.139 (3)]  [0.382 (3)]  [1.303 (5)]  [1.438 (3)]  [1.618 (5)]  [2.000 (4)]  [2.562 (4)]  [2.618 (3)] \n"
     ]
    },
    {
     "data": {
      "image/png": "[encoded data removed]",
      "text/plain": [
       "<Figure size 432x288 with 1 Axes>"
      ]
     },
     "metadata": {
      "needs_background": "light"
     },
     "output_type": "display_data"
    }
   ],
   "source": [
    "fullerene = Huckel(fullerene_smiles)\n",
    "print(fullerene)\n",
    "fullerene.plot()"
   ]
  },
  {
   "attachments": {},
   "cell_type": "markdown",
   "metadata": {},
   "source": [
    "It is also possible to manually overwrite the Huckel matrix in order to deal with species such as pyridine:"
   ]
  },
  {
   "cell_type": "code",
   "execution_count": null,
   "metadata": {},
   "outputs": [
    {
     "data": {
      "image/png": "[encoded data removed]",
      "image/svg+xml": "<?xml version='1.0' encoding='iso-8859-1'?>\n<svg version='1.1' baseProfile='full'\n              xmlns='http://www.w3.org/2000/svg'\n                      xmlns:rdkit='http://www.rdkit.org/xml'\n                      xmlns:xlink='http://www.w3.org/1999/xlink'\n                  xml:space='preserve'\nwidth='450px' height='150px' viewBox='0 0 450 150'>\n<!-- END OF HEADER -->\n<rect style='opacity:1.0;fill:#FFFFFF;stroke:none' width='450.0' height='150.0' x='0.0' y='0.0'> </rect>\n<path class='bond-0 atom-0 atom-1' d='M 276.3,86.0 L 263.7,107.8' style='fill:none;fill-rule:evenodd;stroke:#0000FF;stroke-width:2.0px;stroke-linecap:butt;stroke-linejoin:miter;stroke-opacity:1' />\n<path class='bond-0 atom-0 atom-1' d='M 263.7,107.8 L 251.1,129.6' style='fill:none;fill-rule:evenodd;stroke:#000000;stroke-width:2.0px;stroke-linecap:butt;stroke-linejoin:miter;stroke-opacity:1' />\n<path class='bond-0 atom-0 atom-1' d='M 268.1,81.3 L 256.9,100.7' style='fill:none;fill-rule:evenodd;stroke:#0000FF;stroke-width:2.0px;stroke-linecap:butt;stroke-linejoin:miter;stroke-opacity:1' />\n<path class='bond-0 atom-0 atom-1' d='M 256.9,100.7 L 245.7,120.1' style='fill:none;fill-rule:evenodd;stroke:#000000;stroke-width:2.0px;stroke-linecap:butt;stroke-linejoin:miter;stroke-opacity:1' />\n<path class='bond-1 atom-1 atom-2' d='M 251.1,129.6 L 188.1,129.6' style='fill:none;fill-rule:evenodd;stroke:#000000;stroke-width:2.0px;stroke-linecap:butt;stroke-linejoin:miter;stroke-opacity:1' />\n<path class='bond-2 atom-2 atom-3' d='M 188.1,129.6 L 156.6,75.0' style='fill:none;fill-rule:evenodd;stroke:#000000;stroke-width:2.0px;stroke-linecap:butt;stroke-linejoin:miter;stroke-opacity:1' />\n<path class='bond-2 atom-2 atom-3' d='M 193.6,120.1 L 167.5,75.0' style='fill:none;fill-rule:evenodd;stroke:#000000;stroke-width:2.0px;stroke-linecap:butt;stroke-linejoin:miter;stroke-opacity:1' />\n<path class='bond-3 atom-3 atom-4' d='M 156.6,75.0 L 188.1,20.4' style='fill:none;fill-rule:evenodd;stroke:#000000;stroke-width:2.0px;stroke-linecap:butt;stroke-linejoin:miter;stroke-opacity:1' />\n<path class='bond-4 atom-4 atom-5' d='M 188.1,20.4 L 251.1,20.4' style='fill:none;fill-rule:evenodd;stroke:#000000;stroke-width:2.0px;stroke-linecap:butt;stroke-linejoin:miter;stroke-opacity:1' />\n<path class='bond-4 atom-4 atom-5' d='M 193.6,29.8 L 245.7,29.8' style='fill:none;fill-rule:evenodd;stroke:#000000;stroke-width:2.0px;stroke-linecap:butt;stroke-linejoin:miter;stroke-opacity:1' />\n<path class='bond-5 atom-5 atom-0' d='M 251.1,20.4 L 263.7,42.2' style='fill:none;fill-rule:evenodd;stroke:#000000;stroke-width:2.0px;stroke-linecap:butt;stroke-linejoin:miter;stroke-opacity:1' />\n<path class='bond-5 atom-5 atom-0' d='M 263.7,42.2 L 276.3,64.0' style='fill:none;fill-rule:evenodd;stroke:#0000FF;stroke-width:2.0px;stroke-linecap:butt;stroke-linejoin:miter;stroke-opacity:1' />\n<path d='M 251.8,128.5 L 251.1,129.6 L 248.0,129.6' style='fill:none;stroke:#000000;stroke-width:2.0px;stroke-linecap:butt;stroke-linejoin:miter;stroke-opacity:1;' />\n<path d='M 191.2,129.6 L 188.1,129.6 L 186.5,126.8' style='fill:none;stroke:#000000;stroke-width:2.0px;stroke-linecap:butt;stroke-linejoin:miter;stroke-opacity:1;' />\n<path d='M 158.2,77.7 L 156.6,75.0 L 158.2,72.2' style='fill:none;stroke:#000000;stroke-width:2.0px;stroke-linecap:butt;stroke-linejoin:miter;stroke-opacity:1;' />\n<path d='M 186.5,23.1 L 188.1,20.4 L 191.2,20.4' style='fill:none;stroke:#000000;stroke-width:2.0px;stroke-linecap:butt;stroke-linejoin:miter;stroke-opacity:1;' />\n<path d='M 248.0,20.4 L 251.1,20.4 L 251.8,21.5' style='fill:none;stroke:#000000;stroke-width:2.0px;stroke-linecap:butt;stroke-linejoin:miter;stroke-opacity:1;' />\n<path class='atom-0' d='M 278.7 66.0\nL 284.6 75.5\nQ 285.1 76.4, 286.1 78.1\nQ 287.0 79.8, 287.1 79.9\nL 287.1 66.0\nL 289.4 66.0\nL 289.4 83.9\nL 287.0 83.9\nL 280.7 73.6\nQ 280.0 72.4, 279.2 71.0\nQ 278.4 69.6, 278.2 69.1\nL 278.2 83.9\nL 275.9 83.9\nL 275.9 66.0\nL 278.7 66.0\n' fill='#0000FF'/>\n<path class='note' d='M 303.7 79.6\nQ 302.0 79.6, 301.2 78.4\nQ 300.4 77.2, 300.4 75.0\nQ 300.4 72.9, 301.2 71.7\nQ 302.0 70.5, 303.7 70.5\nQ 305.3 70.5, 306.1 71.7\nQ 306.9 72.9, 306.9 75.0\nQ 306.9 77.2, 306.1 78.4\nQ 305.3 79.6, 303.7 79.6\nM 303.7 78.6\nQ 304.6 78.6, 305.2 77.7\nQ 305.7 76.8, 305.7 75.0\nQ 305.7 73.3, 305.2 72.4\nQ 304.6 71.5, 303.7 71.5\nQ 302.7 71.5, 302.2 72.4\nQ 301.7 73.3, 301.7 75.0\nQ 301.7 76.8, 302.2 77.7\nQ 302.7 78.6, 303.7 78.6\n' fill='#000000'/>\n<path class='note' d='M 254.2 142.1\nL 256.1 142.1\nL 256.1 135.5\nL 254.0 136.1\nL 253.7 135.4\nL 256.4 134.2\nL 257.3 134.3\nL 257.3 142.1\nL 259.1 142.1\nL 259.1 143.2\nL 254.2 143.2\nL 254.2 142.1\n' fill='#000000'/>\n<path class='note' d='M 179.9 135.9\nQ 180.2 135.1, 181.0 134.6\nQ 181.8 134.2, 182.8 134.2\nQ 184.2 134.2, 184.9 134.9\nQ 185.7 135.6, 185.7 136.9\nQ 185.7 138.2, 184.7 139.5\nQ 183.7 140.7, 181.7 142.2\nL 185.8 142.2\nL 185.8 143.2\nL 179.8 143.2\nL 179.8 142.3\nQ 181.5 141.2, 182.5 140.3\nQ 183.5 139.4, 184.0 138.6\nQ 184.4 137.8, 184.4 137.0\nQ 184.4 136.1, 184.0 135.6\nQ 183.6 135.2, 182.8 135.2\nQ 182.1 135.2, 181.6 135.5\nQ 181.2 135.7, 180.8 136.4\nL 179.9 135.9\n' fill='#000000'/>\n<path class='note' d='M 147.4 74.8\nQ 148.2 75.0, 148.6 75.6\nQ 149.1 76.2, 149.1 77.0\nQ 149.1 77.8, 148.7 78.4\nQ 148.3 79.0, 147.6 79.3\nQ 146.9 79.6, 146.0 79.6\nQ 145.1 79.6, 144.3 79.3\nQ 143.6 78.9, 143.1 78.3\nL 143.8 77.5\nQ 144.3 78.1, 144.8 78.4\nQ 145.3 78.6, 146.0 78.6\nQ 146.8 78.6, 147.3 78.2\nQ 147.8 77.7, 147.8 77.0\nQ 147.8 76.1, 147.3 75.7\nQ 146.8 75.3, 145.7 75.3\nL 145.0 75.3\nL 145.0 74.4\nL 145.6 74.4\nQ 146.6 74.4, 147.1 74.0\nQ 147.6 73.5, 147.6 72.7\nQ 147.6 72.2, 147.2 71.8\nQ 146.8 71.5, 146.0 71.5\nQ 145.3 71.5, 144.8 71.7\nQ 144.4 72.0, 144.0 72.7\nL 143.1 72.2\nQ 143.5 71.5, 144.2 71.0\nQ 145.0 70.5, 146.0 70.5\nQ 147.3 70.5, 148.1 71.1\nQ 148.9 71.7, 148.9 72.7\nQ 148.9 73.5, 148.5 74.0\nQ 148.1 74.5, 147.4 74.8\n' fill='#000000'/>\n<path class='note' d='M 185.2 12.7\nL 186.3 12.7\nL 186.3 13.7\nL 185.2 13.7\nL 185.2 15.7\nL 184.0 15.7\nL 184.0 13.7\nL 179.4 13.7\nL 179.4 12.9\nL 183.3 6.8\nL 185.2 6.8\nL 185.2 12.7\nM 180.9 12.7\nL 184.0 12.7\nL 184.0 7.6\nL 180.9 12.7\n' fill='#000000'/>\n<path class='note' d='M 256.6 10.2\nQ 257.4 10.2, 258.0 10.5\nQ 258.7 10.8, 259.0 11.5\nQ 259.4 12.1, 259.4 12.9\nQ 259.4 13.8, 259.0 14.5\nQ 258.5 15.2, 257.8 15.5\nQ 257.0 15.8, 256.2 15.8\nQ 255.4 15.8, 254.6 15.5\nQ 253.9 15.2, 253.4 14.7\nL 254.1 13.9\nQ 254.5 14.3, 255.1 14.6\nQ 255.7 14.8, 256.3 14.8\nQ 257.0 14.8, 257.6 14.3\nQ 258.1 13.8, 258.1 12.9\nQ 258.1 12.0, 257.6 11.6\nQ 257.0 11.1, 256.2 11.1\nQ 255.4 11.1, 254.5 11.4\nL 253.8 11.1\nL 254.3 6.8\nL 258.9 6.8\nL 258.7 7.8\nL 255.3 7.8\nL 255.0 10.5\nQ 255.8 10.2, 256.6 10.2\n' fill='#000000'/>\n</svg>\n",
      "text/html": [
       "<?xml version='1.0' encoding='iso-8859-1'?>\n",
       "<svg version='1.1' baseProfile='full'\n",
       "              xmlns='http://www.w3.org/2000/svg'\n",
       "                      xmlns:rdkit='http://www.rdkit.org/xml'\n",
       "                      xmlns:xlink='http://www.w3.org/1999/xlink'\n",
       "                  xml:space='preserve'\n",
       "width='450px' height='150px' viewBox='0 0 450 150'>\n",
       "<!-- END OF HEADER -->\n",
       "<rect style='opacity:1.0;fill:#FFFFFF;stroke:none' width='450.0' height='150.0' x='0.0' y='0.0'> </rect>\n",
       "<path class='bond-0 atom-0 atom-1' d='M 276.3,86.0 L 263.7,107.8' style='fill:none;fill-rule:evenodd;stroke:#0000FF;stroke-width:2.0px;stroke-linecap:butt;stroke-linejoin:miter;stroke-opacity:1' />\n",
       "<path class='bond-0 atom-0 atom-1' d='M 263.7,107.8 L 251.1,129.6' style='fill:none;fill-rule:evenodd;stroke:#000000;stroke-width:2.0px;stroke-linecap:butt;stroke-linejoin:miter;stroke-opacity:1' />\n",
       "<path class='bond-0 atom-0 atom-1' d='M 268.1,81.3 L 256.9,100.7' style='fill:none;fill-rule:evenodd;stroke:#0000FF;stroke-width:2.0px;stroke-linecap:butt;stroke-linejoin:miter;stroke-opacity:1' />\n",
       "<path class='bond-0 atom-0 atom-1' d='M 256.9,100.7 L 245.7,120.1' style='fill:none;fill-rule:evenodd;stroke:#000000;stroke-width:2.0px;stroke-linecap:butt;stroke-linejoin:miter;stroke-opacity:1' />\n",
       "<path class='bond-1 atom-1 atom-2' d='M 251.1,129.6 L 188.1,129.6' style='fill:none;fill-rule:evenodd;stroke:#000000;stroke-width:2.0px;stroke-linecap:butt;stroke-linejoin:miter;stroke-opacity:1' />\n",
       "<path class='bond-2 atom-2 atom-3' d='M 188.1,129.6 L 156.6,75.0' style='fill:none;fill-rule:evenodd;stroke:#000000;stroke-width:2.0px;stroke-linecap:butt;stroke-linejoin:miter;stroke-opacity:1' />\n",
       "<path class='bond-2 atom-2 atom-3' d='M 193.6,120.1 L 167.5,75.0' style='fill:none;fill-rule:evenodd;stroke:#000000;stroke-width:2.0px;stroke-linecap:butt;stroke-linejoin:miter;stroke-opacity:1' />\n",
       "<path class='bond-3 atom-3 atom-4' d='M 156.6,75.0 L 188.1,20.4' style='fill:none;fill-rule:evenodd;stroke:#000000;stroke-width:2.0px;stroke-linecap:butt;stroke-linejoin:miter;stroke-opacity:1' />\n",
       "<path class='bond-4 atom-4 atom-5' d='M 188.1,20.4 L 251.1,20.4' style='fill:none;fill-rule:evenodd;stroke:#000000;stroke-width:2.0px;stroke-linecap:butt;stroke-linejoin:miter;stroke-opacity:1' />\n",
       "<path class='bond-4 atom-4 atom-5' d='M 193.6,29.8 L 245.7,29.8' style='fill:none;fill-rule:evenodd;stroke:#000000;stroke-width:2.0px;stroke-linecap:butt;stroke-linejoin:miter;stroke-opacity:1' />\n",
       "<path class='bond-5 atom-5 atom-0' d='M 251.1,20.4 L 263.7,42.2' style='fill:none;fill-rule:evenodd;stroke:#000000;stroke-width:2.0px;stroke-linecap:butt;stroke-linejoin:miter;stroke-opacity:1' />\n",
       "<path class='bond-5 atom-5 atom-0' d='M 263.7,42.2 L 276.3,64.0' style='fill:none;fill-rule:evenodd;stroke:#0000FF;stroke-width:2.0px;stroke-linecap:butt;stroke-linejoin:miter;stroke-opacity:1' />\n",
       "<path d='M 251.8,128.5 L 251.1,129.6 L 248.0,129.6' style='fill:none;stroke:#000000;stroke-width:2.0px;stroke-linecap:butt;stroke-linejoin:miter;stroke-opacity:1;' />\n",
       "<path d='M 191.2,129.6 L 188.1,129.6 L 186.5,126.8' style='fill:none;stroke:#000000;stroke-width:2.0px;stroke-linecap:butt;stroke-linejoin:miter;stroke-opacity:1;' />\n",
       "<path d='M 158.2,77.7 L 156.6,75.0 L 158.2,72.2' style='fill:none;stroke:#000000;stroke-width:2.0px;stroke-linecap:butt;stroke-linejoin:miter;stroke-opacity:1;' />\n",
       "<path d='M 186.5,23.1 L 188.1,20.4 L 191.2,20.4' style='fill:none;stroke:#000000;stroke-width:2.0px;stroke-linecap:butt;stroke-linejoin:miter;stroke-opacity:1;' />\n",
       "<path d='M 248.0,20.4 L 251.1,20.4 L 251.8,21.5' style='fill:none;stroke:#000000;stroke-width:2.0px;stroke-linecap:butt;stroke-linejoin:miter;stroke-opacity:1;' />\n",
       "<path class='atom-0' d='M 278.7 66.0\n",
       "L 284.6 75.5\n",
       "Q 285.1 76.4, 286.1 78.1\n",
       "Q 287.0 79.8, 287.1 79.9\n",
       "L 287.1 66.0\n",
       "L 289.4 66.0\n",
       "L 289.4 83.9\n",
       "L 287.0 83.9\n",
       "L 280.7 73.6\n",
       "Q 280.0 72.4, 279.2 71.0\n",
       "Q 278.4 69.6, 278.2 69.1\n",
       "L 278.2 83.9\n",
       "L 275.9 83.9\n",
       "L 275.9 66.0\n",
       "L 278.7 66.0\n",
       "' fill='#0000FF'/>\n",
       "<path class='note' d='M 303.7 79.6\n",
       "Q 302.0 79.6, 301.2 78.4\n",
       "Q 300.4 77.2, 300.4 75.0\n",
       "Q 300.4 72.9, 301.2 71.7\n",
       "Q 302.0 70.5, 303.7 70.5\n",
       "Q 305.3 70.5, 306.1 71.7\n",
       "Q 306.9 72.9, 306.9 75.0\n",
       "Q 306.9 77.2, 306.1 78.4\n",
       "Q 305.3 79.6, 303.7 79.6\n",
       "M 303.7 78.6\n",
       "Q 304.6 78.6, 305.2 77.7\n",
       "Q 305.7 76.8, 305.7 75.0\n",
       "Q 305.7 73.3, 305.2 72.4\n",
       "Q 304.6 71.5, 303.7 71.5\n",
       "Q 302.7 71.5, 302.2 72.4\n",
       "Q 301.7 73.3, 301.7 75.0\n",
       "Q 301.7 76.8, 302.2 77.7\n",
       "Q 302.7 78.6, 303.7 78.6\n",
       "' fill='#000000'/>\n",
       "<path class='note' d='M 254.2 142.1\n",
       "L 256.1 142.1\n",
       "L 256.1 135.5\n",
       "L 254.0 136.1\n",
       "L 253.7 135.4\n",
       "L 256.4 134.2\n",
       "L 257.3 134.3\n",
       "L 257.3 142.1\n",
       "L 259.1 142.1\n",
       "L 259.1 143.2\n",
       "L 254.2 143.2\n",
       "L 254.2 142.1\n",
       "' fill='#000000'/>\n",
       "<path class='note' d='M 179.9 135.9\n",
       "Q 180.2 135.1, 181.0 134.6\n",
       "Q 181.8 134.2, 182.8 134.2\n",
       "Q 184.2 134.2, 184.9 134.9\n",
       "Q 185.7 135.6, 185.7 136.9\n",
       "Q 185.7 138.2, 184.7 139.5\n",
       "Q 183.7 140.7, 181.7 142.2\n",
       "L 185.8 142.2\n",
       "L 185.8 143.2\n",
       "L 179.8 143.2\n",
       "L 179.8 142.3\n",
       "Q 181.5 141.2, 182.5 140.3\n",
       "Q 183.5 139.4, 184.0 138.6\n",
       "Q 184.4 137.8, 184.4 137.0\n",
       "Q 184.4 136.1, 184.0 135.6\n",
       "Q 183.6 135.2, 182.8 135.2\n",
       "Q 182.1 135.2, 181.6 135.5\n",
       "Q 181.2 135.7, 180.8 136.4\n",
       "L 179.9 135.9\n",
       "' fill='#000000'/>\n",
       "<path class='note' d='M 147.4 74.8\n",
       "Q 148.2 75.0, 148.6 75.6\n",
       "Q 149.1 76.2, 149.1 77.0\n",
       "Q 149.1 77.8, 148.7 78.4\n",
       "Q 148.3 79.0, 147.6 79.3\n",
       "Q 146.9 79.6, 146.0 79.6\n",
       "Q 145.1 79.6, 144.3 79.3\n",
       "Q 143.6 78.9, 143.1 78.3\n",
       "L 143.8 77.5\n",
       "Q 144.3 78.1, 144.8 78.4\n",
       "Q 145.3 78.6, 146.0 78.6\n",
       "Q 146.8 78.6, 147.3 78.2\n",
       "Q 147.8 77.7, 147.8 77.0\n",
       "Q 147.8 76.1, 147.3 75.7\n",
       "Q 146.8 75.3, 145.7 75.3\n",
       "L 145.0 75.3\n",
       "L 145.0 74.4\n",
       "L 145.6 74.4\n",
       "Q 146.6 74.4, 147.1 74.0\n",
       "Q 147.6 73.5, 147.6 72.7\n",
       "Q 147.6 72.2, 147.2 71.8\n",
       "Q 146.8 71.5, 146.0 71.5\n",
       "Q 145.3 71.5, 144.8 71.7\n",
       "Q 144.4 72.0, 144.0 72.7\n",
       "L 143.1 72.2\n",
       "Q 143.5 71.5, 144.2 71.0\n",
       "Q 145.0 70.5, 146.0 70.5\n",
       "Q 147.3 70.5, 148.1 71.1\n",
       "Q 148.9 71.7, 148.9 72.7\n",
       "Q 148.9 73.5, 148.5 74.0\n",
       "Q 148.1 74.5, 147.4 74.8\n",
       "' fill='#000000'/>\n",
       "<path class='note' d='M 185.2 12.7\n",
       "L 186.3 12.7\n",
       "L 186.3 13.7\n",
       "L 185.2 13.7\n",
       "L 185.2 15.7\n",
       "L 184.0 15.7\n",
       "L 184.0 13.7\n",
       "L 179.4 13.7\n",
       "L 179.4 12.9\n",
       "L 183.3 6.8\n",
       "L 185.2 6.8\n",
       "L 185.2 12.7\n",
       "M 180.9 12.7\n",
       "L 184.0 12.7\n",
       "L 184.0 7.6\n",
       "L 180.9 12.7\n",
       "' fill='#000000'/>\n",
       "<path class='note' d='M 256.6 10.2\n",
       "Q 257.4 10.2, 258.0 10.5\n",
       "Q 258.7 10.8, 259.0 11.5\n",
       "Q 259.4 12.1, 259.4 12.9\n",
       "Q 259.4 13.8, 259.0 14.5\n",
       "Q 258.5 15.2, 257.8 15.5\n",
       "Q 257.0 15.8, 256.2 15.8\n",
       "Q 255.4 15.8, 254.6 15.5\n",
       "Q 253.9 15.2, 253.4 14.7\n",
       "L 254.1 13.9\n",
       "Q 254.5 14.3, 255.1 14.6\n",
       "Q 255.7 14.8, 256.3 14.8\n",
       "Q 257.0 14.8, 257.6 14.3\n",
       "Q 258.1 13.8, 258.1 12.9\n",
       "Q 258.1 12.0, 257.6 11.6\n",
       "Q 257.0 11.1, 256.2 11.1\n",
       "Q 255.4 11.1, 254.5 11.4\n",
       "L 253.8 11.1\n",
       "L 254.3 6.8\n",
       "L 258.9 6.8\n",
       "L 258.7 7.8\n",
       "L 255.3 7.8\n",
       "L 255.0 10.5\n",
       "Q 255.8 10.2, 256.6 10.2\n",
       "' fill='#000000'/>\n",
       "</svg>\n"
      ],
      "text/plain": [
       "<rdkit.Chem.rdchem.Mol>"
      ]
     },
     "execution_count": null,
     "metadata": {},
     "output_type": "execute_result"
    }
   ],
   "source": [
    "pyridine = Huckel('n1ccccc1')\n",
    "pyridine.molecule"
   ]
  },
  {
   "attachments": {},
   "cell_type": "markdown",
   "metadata": {},
   "source": [
    "The Huckel matrix at the moment is still only the negative of the adjacency matrix, and so is the same as that of benzene"
   ]
  },
  {
   "cell_type": "code",
   "execution_count": null,
   "metadata": {},
   "outputs": [
    {
     "data": {
      "text/plain": [
       "array([[ 0, -1,  0,  0,  0, -1],\n",
       "       [-1,  0, -1,  0,  0,  0],\n",
       "       [ 0, -1,  0, -1,  0,  0],\n",
       "       [ 0,  0, -1,  0, -1,  0],\n",
       "       [ 0,  0,  0, -1,  0, -1],\n",
       "       [-1,  0,  0,  0, -1,  0]], dtype=int32)"
      ]
     },
     "execution_count": null,
     "metadata": {},
     "output_type": "execute_result"
    }
   ],
   "source": [
    "pyridine.matrix"
   ]
  },
  {
   "attachments": {},
   "cell_type": "markdown",
   "metadata": {},
   "source": [
    "We can overwrite this matrix: taking the assumption in the A4 course, that $\\alpha_{N} = \\alpha+\\beta/2$ and $\\beta_{NC}=0.8\\beta$"
   ]
  },
  {
   "cell_type": "code",
   "execution_count": null,
   "metadata": {},
   "outputs": [],
   "source": [
    "pyridine.matrix = np.array([[ -1/2, -0.8,  0,  0,  0, -0.8],\n",
    "       [-0.8,  0, -1,  0,  0,  0],\n",
    "       [ 0, -1,  0, -1,  0,  0],\n",
    "       [ 0,  0, -1,  0, -1,  0],\n",
    "       [ 0,  0,  0, -1,  0, -1],\n",
    "       [-0.8,  0,  0,  0, -1,  0]])"
   ]
  },
  {
   "cell_type": "code",
   "execution_count": null,
   "metadata": {},
   "outputs": [
    {
     "name": "stdout",
     "output_type": "stream",
     "text": [
      "Huckel Energies (degeneracy) for n1ccccc1: [-1.954 (1)]  [-1.062 (1)]  [-1.000 (1)]  [0.667 (1)]  [1.000 (1)]  [1.849 (1)] \n"
     ]
    },
    {
     "data": {
      "image/png": "[encoded data removed]",
      "text/plain": [
       "<Figure size 432x288 with 1 Axes>"
      ]
     },
     "metadata": {
      "needs_background": "light"
     },
     "output_type": "display_data"
    }
   ],
   "source": [
    "print(pyridine)\n",
    "pyridine.plot()"
   ]
  },
  {
   "cell_type": "code",
   "execution_count": null,
   "metadata": {},
   "outputs": [],
   "source": [
    "#| hide\n",
    "import nbdev; nbdev.nbdev_export()"
   ]
  }
 ],
 "metadata": {
  "kernelspec": {
   "display_name": "ChemII",
   "language": "python",
   "name": "python3"
  },
  "language_info": {
   "name": "python",
   "version": "3.9.12 (main, Apr  4 2022, 05:22:27) [MSC v.1916 64 bit (AMD64)]"
  },
  "vscode": {
   "interpreter": {
    "hash": "2cefd222352627b98a8e76a028a7de5165fcd2ec982ec422756143c732cb43ce"
   }
  }
 },
 "nbformat": 4,
 "nbformat_minor": 4
}
