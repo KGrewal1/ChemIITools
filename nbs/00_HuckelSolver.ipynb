{
 "cells": [
  {
   "cell_type": "markdown",
   "metadata": {},
   "source": [
    "# Generalised Huckel Solver\n",
    "\n",
    "> Constructs the Huckel matrix and solves for the values, based on Ex 3.1 instructions"
   ]
  },
  {
   "cell_type": "markdown",
   "metadata": {},
   "source": [
    "This solver will only work if all $p$ orbitals are equivalent (it will not consider for instance perturbations due to nitrogen in pyridine).\n",
    "The Huckel theory assumptions are:\n",
    "$$ H_{ij}= \\begin{cases} \\alpha,\\  i=j\\\\ \\beta,\\  i \\text{ adjacent to } j\\\\ 0,\\  \\text{otherwise}\\end{cases} $$\n",
    "with scaling such that $\\alpha = 0$ and $\\beta =-1$. As such, it can be seen that the resulting Huckel matrix is the negative of the adjacency matrix $A$ where: \n",
    "$$ A_{ij}= \\begin{cases}  1,\\  i \\text{ adjacent to } j\\\\ 0,\\  \\text{otherwise}\\end{cases} $$"
   ]
  },
  {
   "cell_type": "code",
   "execution_count": null,
   "metadata": {},
   "outputs": [],
   "source": [
    "#| default_exp huckel"
   ]
  },
  {
   "cell_type": "code",
   "execution_count": null,
   "metadata": {},
   "outputs": [],
   "source": [
    "#| export\n",
    "#| echo: false\n",
    "from rdkit import Chem\n",
    "from rdkit.Chem.Draw import rdMolDraw2D\n",
    "from rdkit.Chem.Draw import IPythonConsole\n",
    "from rdkit.Chem import Draw\n",
    "from IPython.display import SVG, Image\n",
    "import numpy as np\n",
    "import matplotlib\n",
    "import matplotlib.pyplot as plt\n",
    "import matplotlib.cm as cm"
   ]
  },
  {
   "cell_type": "code",
   "execution_count": null,
   "metadata": {},
   "outputs": [],
   "source": [
    "#| export\n",
    "IPythonConsole.ipython_useSVG=True  #< set this to False if you want PNGs instead of SVGs\n",
    "IPythonConsole.drawOptions.addAtomIndices = True\n",
    "norm = matplotlib.colors.Normalize(vmin=-1, vmax=1, clip=True)\n",
    "mapper = cm.ScalarMappable(norm=norm, cmap='coolwarm')"
   ]
  },
  {
   "cell_type": "code",
   "execution_count": null,
   "metadata": {},
   "outputs": [],
   "source": [
    "#| export\n",
    "def generate_smiles(type, n):\n",
    "    \"\"\"\n",
    "    generate the smiles of either a straight chain or ring polyene, with n atoms.\n",
    "    All carbons will be sp2 hybridised.\n",
    "    For linear molecules with an odd number of atoms it will return the anion\n",
    "    For rings with 4n+1 atoms it will return the anion eg C5H5-    \n",
    "    For rings with 4n+3 atoms it will return the cation eg C7H7+   \n",
    "    \"\"\"\n",
    "    unit = 'C=C'# the base 2 carbon double bond unit\n",
    "    if n<3: type = 'linear' #ring needs at least 3 atoms\n",
    "    if n <=1: \n",
    "        raise Exception(\"More than 1 Carbon atoms is needed\")\n",
    "    if not isinstance(n, int): \n",
    "        raise Exception(\"An integer number of atoms is needed\")\n",
    "    if type == 'linear':\n",
    "        repeats = n//2 # repeats of the base unit of 2 carbons\n",
    "        terminal = n%2 # whether or not a terminal carbon is needed\n",
    "        output = repeats*unit +terminal*\"[CH2+]\"\n",
    "    if type == 'ring':\n",
    "        repeats = n//2 # repeats of the base unit of 2 carbons\n",
    "        cation_terminal = 1 if n%4==3 else 0 # if 4n+3 carbon atoms: cation eg C7H7+\n",
    "        anion_terminal = 1 if n%4==1 else 0 # if 4n+3 carbon atoms: cation eg C5H5-\n",
    "        output = \"C1=C\" +(repeats-1)*unit +anion_terminal*\"[CH-]\"+cation_terminal*\"[CH+]\"+\"1\"\n",
    "    return(output)"
   ]
  },
  {
   "cell_type": "code",
   "execution_count": null,
   "metadata": {},
   "outputs": [],
   "source": [
    "#| export\n",
    "def Huckel_solve(SMILES):\n",
    "    \"\"\"\n",
    "    From a SMILES input, create an adjacency matrix, and use that to solve the for the Huckel pi system\n",
    "    Returns a dictionary of energy levels with the associated (possibly degenerate) wavefunctions and the RDKit molecule\n",
    "    This only considers 1 sort of p orbital and treats alpha =0 and beta = -1\n",
    "    \"\"\"\n",
    "    molecule = Chem.MolFromSmiles(SMILES)\n",
    "    mat = -Chem.GetAdjacencyMatrix(molecule)\n",
    "    vals, vecs = np.linalg.eig(mat)\n",
    "    # create dictionary where each eigenvalue has a list of the associated eigenvectors\n",
    "    energy_dict = {}\n",
    "    for i, val in enumerate(vals):\n",
    "        # pythons eigenvalues sometimes produce rounding errors at the 14th dp: eg eigenvalues for benzene being 1.0 and 0.9999999999999998\n",
    "        # similarly, trivial imaginary parts are occasionally produced: on the order of 10^-16 i\n",
    "        val = round(np.real(val), 3) \n",
    "        if val in energy_dict:energy_dict[val].append(vecs[:,i])\n",
    "        else: energy_dict[val]=[vecs[:,i]]\n",
    "    return molecule, energy_dict "
   ]
  },
  {
   "cell_type": "code",
   "execution_count": null,
   "metadata": {},
   "outputs": [],
   "source": [
    "#| export\n",
    "def MO_plot(dict):\n",
    "    \"\"\"\n",
    "    Plots an MO diagram based on a dictionary of energy levels and associated wavefunctions\n",
    "    \"\"\"\n",
    "    fig, ax = plt.subplots()\n",
    "    plt.tick_params(\n",
    "    axis='x',          # changes apply to the x-axis\n",
    "    which='both',      # both major and minor ticks are affected\n",
    "    bottom=False,      # ticks along the bottom edge are off\n",
    "    top=False,         # ticks along the top edge are off\n",
    "    labelbottom=False) # labels along the bottom edge are off\n",
    "    for level in dict:\n",
    "        degeneracy = len(dict[level])\n",
    "        x = np.arange(-(0.5*(degeneracy - 1)),(0.5*(degeneracy)), 1)\n",
    "        y = [level]*(degeneracy)\n",
    "        ax.scatter(x, y, s =900, marker = '_', linewidth = 3)\n",
    "    plt.show"
   ]
  },
  {
   "cell_type": "markdown",
   "metadata": {},
   "source": [
    "This works in a straightforward manner for chains and rings"
   ]
  },
  {
   "cell_type": "code",
   "execution_count": null,
   "metadata": {},
   "outputs": [
    {
     "data": {
      "image/png": "[encoded data removed]",
      "image/svg+xml": "<?xml version='1.0' encoding='iso-8859-1'?>\n<svg version='1.1' baseProfile='full'\n              xmlns='http://www.w3.org/2000/svg'\n                      xmlns:rdkit='http://www.rdkit.org/xml'\n                      xmlns:xlink='http://www.w3.org/1999/xlink'\n                  xml:space='preserve'\nwidth='450px' height='150px' viewBox='0 0 450 150'>\n<!-- END OF HEADER -->\n<rect style='opacity:1.0;fill:#FFFFFF;stroke:none' width='450.0' height='150.0' x='0.0' y='0.0'> </rect>\n<path class='bond-0 atom-0 atom-1' d='M 25.0,79.7 L 69.3,55.1' style='fill:none;fill-rule:evenodd;stroke:#000000;stroke-width:2.0px;stroke-linecap:butt;stroke-linejoin:miter;stroke-opacity:1' />\n<path class='bond-0 atom-0 atom-1' d='M 29.9,88.5 L 74.2,64.0' style='fill:none;fill-rule:evenodd;stroke:#000000;stroke-width:2.0px;stroke-linecap:butt;stroke-linejoin:miter;stroke-opacity:1' />\n<path class='bond-1 atom-1 atom-2' d='M 71.7,59.6 L 115.2,85.7' style='fill:none;fill-rule:evenodd;stroke:#000000;stroke-width:2.0px;stroke-linecap:butt;stroke-linejoin:miter;stroke-opacity:1' />\n<path class='bond-2 atom-2 atom-3' d='M 115.2,85.7 L 159.5,61.1' style='fill:none;fill-rule:evenodd;stroke:#000000;stroke-width:2.0px;stroke-linecap:butt;stroke-linejoin:miter;stroke-opacity:1' />\n<path class='bond-2 atom-2 atom-3' d='M 116.9,73.1 L 147.9,55.9' style='fill:none;fill-rule:evenodd;stroke:#000000;stroke-width:2.0px;stroke-linecap:butt;stroke-linejoin:miter;stroke-opacity:1' />\n<path class='bond-3 atom-3 atom-4' d='M 159.5,61.1 L 202.9,87.2' style='fill:none;fill-rule:evenodd;stroke:#000000;stroke-width:2.0px;stroke-linecap:butt;stroke-linejoin:miter;stroke-opacity:1' />\n<path class='bond-4 atom-4 atom-5' d='M 202.9,87.2 L 247.2,62.7' style='fill:none;fill-rule:evenodd;stroke:#000000;stroke-width:2.0px;stroke-linecap:butt;stroke-linejoin:miter;stroke-opacity:1' />\n<path class='bond-4 atom-4 atom-5' d='M 204.6,74.7 L 235.7,57.5' style='fill:none;fill-rule:evenodd;stroke:#000000;stroke-width:2.0px;stroke-linecap:butt;stroke-linejoin:miter;stroke-opacity:1' />\n<path class='bond-5 atom-5 atom-6' d='M 247.2,62.7 L 290.6,88.8' style='fill:none;fill-rule:evenodd;stroke:#000000;stroke-width:2.0px;stroke-linecap:butt;stroke-linejoin:miter;stroke-opacity:1' />\n<path class='bond-6 atom-6 atom-7' d='M 290.6,88.8 L 335.0,64.2' style='fill:none;fill-rule:evenodd;stroke:#000000;stroke-width:2.0px;stroke-linecap:butt;stroke-linejoin:miter;stroke-opacity:1' />\n<path class='bond-6 atom-6 atom-7' d='M 292.4,76.2 L 323.4,59.0' style='fill:none;fill-rule:evenodd;stroke:#000000;stroke-width:2.0px;stroke-linecap:butt;stroke-linejoin:miter;stroke-opacity:1' />\n<path class='bond-7 atom-7 atom-8' d='M 335.0,64.2 L 378.4,90.3' style='fill:none;fill-rule:evenodd;stroke:#000000;stroke-width:2.0px;stroke-linecap:butt;stroke-linejoin:miter;stroke-opacity:1' />\n<path class='bond-8 atom-8 atom-9' d='M 375.9,85.9 L 420.3,61.3' style='fill:none;fill-rule:evenodd;stroke:#000000;stroke-width:2.0px;stroke-linecap:butt;stroke-linejoin:miter;stroke-opacity:1' />\n<path class='bond-8 atom-8 atom-9' d='M 380.8,94.7 L 425.2,70.2' style='fill:none;fill-rule:evenodd;stroke:#000000;stroke-width:2.0px;stroke-linecap:butt;stroke-linejoin:miter;stroke-opacity:1' />\n<path class='note' d='M 23.1 95.1\nQ 21.8 95.1, 21.1 94.1\nQ 20.5 93.1, 20.5 91.4\nQ 20.5 89.7, 21.1 88.7\nQ 21.8 87.7, 23.1 87.7\nQ 24.4 87.7, 25.1 88.7\nQ 25.7 89.7, 25.7 91.4\nQ 25.7 93.1, 25.0 94.1\nQ 24.4 95.1, 23.1 95.1\nM 23.1 94.3\nQ 23.9 94.3, 24.3 93.5\nQ 24.7 92.8, 24.7 91.4\nQ 24.7 90.0, 24.3 89.3\nQ 23.9 88.5, 23.1 88.5\nQ 22.3 88.5, 21.9 89.3\nQ 21.5 90.0, 21.5 91.4\nQ 21.5 92.8, 21.9 93.5\nQ 22.3 94.3, 23.1 94.3\n' fill='#000000'/>\n<path class='note' d='M 74.3 55.1\nL 75.9 55.1\nL 75.9 49.8\nL 74.2 50.3\nL 73.9 49.7\nL 76.1 48.7\nL 76.9 48.8\nL 76.9 55.1\nL 78.3 55.1\nL 78.3 55.9\nL 74.3 55.9\nL 74.3 55.1\n' fill='#000000'/>\n<path class='note' d='M 112.6 91.9\nQ 112.9 91.2, 113.5 90.9\nQ 114.1 90.5, 115.0 90.5\nQ 116.1 90.5, 116.7 91.1\nQ 117.3 91.7, 117.3 92.7\nQ 117.3 93.8, 116.5 94.8\nQ 115.7 95.7, 114.1 96.9\nL 117.4 96.9\nL 117.4 97.7\nL 112.6 97.7\nL 112.6 97.1\nQ 113.9 96.1, 114.7 95.4\nQ 115.5 94.7, 115.9 94.0\nQ 116.3 93.4, 116.3 92.8\nQ 116.3 92.1, 116.0 91.7\nQ 115.6 91.3, 115.0 91.3\nQ 114.4 91.3, 114.1 91.5\nQ 113.7 91.8, 113.4 92.3\nL 112.6 91.9\n' fill='#000000'/>\n<path class='note' d='M 160.7 52.5\nQ 161.4 52.7, 161.7 53.2\nQ 162.0 53.6, 162.0 54.3\nQ 162.0 54.9, 161.7 55.4\nQ 161.4 55.9, 160.9 56.1\nQ 160.3 56.4, 159.6 56.4\nQ 158.8 56.4, 158.2 56.1\nQ 157.7 55.9, 157.2 55.3\nL 157.8 54.7\nQ 158.2 55.2, 158.6 55.4\nQ 159.0 55.6, 159.6 55.6\nQ 160.2 55.6, 160.6 55.2\nQ 161.0 54.9, 161.0 54.3\nQ 161.0 53.6, 160.6 53.3\nQ 160.2 52.9, 159.3 52.9\nL 158.8 52.9\nL 158.8 52.2\nL 159.3 52.2\nQ 160.1 52.2, 160.5 51.9\nQ 160.9 51.5, 160.9 50.9\nQ 160.9 50.4, 160.5 50.1\nQ 160.2 49.9, 159.6 49.9\nQ 159.0 49.9, 158.6 50.1\nQ 158.3 50.3, 158.0 50.8\nL 157.3 50.4\nQ 157.5 49.8, 158.1 49.4\nQ 158.8 49.0, 159.6 49.0\nQ 160.7 49.0, 161.3 49.5\nQ 161.9 50.0, 161.9 50.9\nQ 161.9 51.5, 161.6 51.9\nQ 161.3 52.3, 160.7 52.5\n' fill='#000000'/>\n<path class='note' d='M 204.7 96.8\nL 205.5 96.8\nL 205.5 97.6\nL 204.7 97.6\nL 204.7 99.2\nL 203.7 99.2\nL 203.7 97.6\nL 200.0 97.6\nL 200.0 97.0\nL 203.1 92.1\nL 204.7 92.1\nL 204.7 96.8\nM 201.2 96.8\nL 203.7 96.8\nL 203.7 92.7\nL 201.2 96.8\n' fill='#000000'/>\n<path class='note' d='M 247.6 53.3\nQ 248.2 53.3, 248.7 53.6\nQ 249.2 53.9, 249.5 54.4\nQ 249.8 54.9, 249.8 55.5\nQ 249.8 56.3, 249.4 56.8\nQ 249.1 57.3, 248.5 57.6\nQ 247.9 57.9, 247.2 57.9\nQ 246.6 57.9, 246.0 57.6\nQ 245.4 57.4, 244.9 56.9\nL 245.6 56.3\nQ 245.9 56.7, 246.3 56.9\nQ 246.8 57.1, 247.3 57.1\nQ 247.9 57.1, 248.3 56.7\nQ 248.8 56.3, 248.8 55.6\nQ 248.8 54.8, 248.3 54.4\nQ 247.9 54.1, 247.2 54.1\nQ 246.6 54.1, 245.9 54.4\nL 245.3 54.1\nL 245.7 50.6\nL 249.4 50.6\nL 249.3 51.4\nL 246.5 51.4\nL 246.3 53.6\nQ 246.9 53.3, 247.6 53.3\n' fill='#000000'/>\n<path class='note' d='M 290.8 96.4\nQ 291.4 96.4, 291.9 96.6\nQ 292.4 96.9, 292.7 97.4\nQ 293.0 97.9, 293.0 98.5\nQ 293.0 99.2, 292.7 99.8\nQ 292.4 100.3, 291.8 100.6\nQ 291.3 100.9, 290.6 100.9\nQ 289.3 100.9, 288.7 100.1\nQ 288.0 99.2, 288.0 97.5\nQ 288.0 95.6, 288.8 94.6\nQ 289.6 93.6, 291.1 93.6\nQ 291.6 93.6, 292.0 93.7\nQ 292.3 93.8, 292.7 94.0\nL 292.3 94.7\nQ 291.8 94.4, 291.1 94.4\nQ 290.1 94.4, 289.6 95.1\nQ 289.1 95.7, 289.0 97.0\nQ 289.4 96.7, 289.9 96.5\nQ 290.3 96.4, 290.8 96.4\nM 290.6 100.1\nQ 291.0 100.1, 291.3 99.9\nQ 291.6 99.7, 291.8 99.3\nQ 292.0 99.0, 292.0 98.5\nQ 292.0 97.9, 291.6 97.5\nQ 291.3 97.2, 290.6 97.2\nQ 290.2 97.2, 289.8 97.4\nQ 289.3 97.5, 289.0 97.8\nQ 289.1 99.0, 289.5 99.5\nQ 289.8 100.1, 290.6 100.1\n' fill='#000000'/>\n<path class='note' d='M 336.5 53.0\nL 332.7 53.0\nL 332.7 52.2\nL 337.5 52.2\nL 337.5 52.9\nL 334.6 59.4\nL 333.6 59.4\nL 336.5 53.0\n' fill='#000000'/>\n<path class='note' d='M 375.2 97.4\nQ 375.8 97.7, 376.2 98.1\nQ 376.6 98.5, 376.6 99.2\nQ 376.6 99.8, 376.3 100.3\nQ 375.9 100.8, 375.4 101.0\nQ 374.8 101.3, 374.1 101.3\nQ 372.9 101.3, 372.2 100.7\nQ 371.5 100.2, 371.5 99.2\nQ 371.5 98.6, 371.8 98.2\nQ 372.1 97.7, 372.7 97.4\nQ 372.3 97.1, 372.0 96.8\nQ 371.8 96.4, 371.8 95.8\nQ 371.8 94.9, 372.4 94.4\nQ 373.0 93.9, 374.0 93.9\nQ 375.1 93.9, 375.7 94.4\nQ 376.3 94.9, 376.3 95.8\nQ 376.3 96.3, 376.0 96.7\nQ 375.7 97.1, 375.2 97.4\nM 374.0 94.7\nQ 373.4 94.7, 373.1 95.0\nQ 372.8 95.3, 372.8 95.8\nQ 372.8 96.1, 373.0 96.4\nQ 373.2 96.6, 373.5 96.8\nQ 373.9 96.9, 374.5 97.1\nQ 374.9 96.8, 375.1 96.5\nQ 375.3 96.2, 375.3 95.8\nQ 375.3 95.3, 375.0 95.0\nQ 374.6 94.7, 374.0 94.7\nM 374.1 100.5\nQ 374.7 100.5, 375.2 100.2\nQ 375.6 99.8, 375.6 99.2\nQ 375.6 98.8, 375.3 98.6\nQ 375.1 98.3, 374.8 98.2\nQ 374.5 98.0, 373.9 97.9\nL 373.5 97.7\nQ 373.0 98.0, 372.7 98.4\nQ 372.5 98.7, 372.5 99.2\nQ 372.5 99.8, 372.9 100.2\nQ 373.4 100.5, 374.1 100.5\n' fill='#000000'/>\n<path class='note' d='M 427.0 54.9\nQ 428.3 54.9, 428.9 55.8\nQ 429.5 56.6, 429.5 58.4\nQ 429.5 60.3, 428.7 61.3\nQ 428.0 62.2, 426.4 62.2\nQ 426.0 62.2, 425.6 62.1\nQ 425.2 62.0, 424.9 61.8\nL 425.2 61.1\nQ 425.8 61.4, 426.4 61.4\nQ 427.4 61.4, 427.9 60.8\nQ 428.5 60.1, 428.5 58.8\nQ 428.2 59.1, 427.7 59.3\nQ 427.2 59.5, 426.7 59.5\nQ 426.1 59.5, 425.6 59.2\nQ 425.1 58.9, 424.8 58.4\nQ 424.6 57.9, 424.6 57.3\nQ 424.6 56.6, 424.9 56.1\nQ 425.2 55.5, 425.7 55.2\nQ 426.3 54.9, 427.0 54.9\nM 425.6 57.3\nQ 425.6 57.9, 425.9 58.3\nQ 426.3 58.6, 426.9 58.6\nQ 427.4 58.6, 427.8 58.5\nQ 428.2 58.3, 428.5 58.0\nQ 428.5 56.8, 428.1 56.3\nQ 427.7 55.7, 427.0 55.7\nQ 426.6 55.7, 426.3 55.9\nQ 425.9 56.1, 425.8 56.5\nQ 425.6 56.8, 425.6 57.3\n' fill='#000000'/>\n</svg>\n",
      "text/html": [
       "<?xml version='1.0' encoding='iso-8859-1'?>\n",
       "<svg version='1.1' baseProfile='full'\n",
       "              xmlns='http://www.w3.org/2000/svg'\n",
       "                      xmlns:rdkit='http://www.rdkit.org/xml'\n",
       "                      xmlns:xlink='http://www.w3.org/1999/xlink'\n",
       "                  xml:space='preserve'\n",
       "width='450px' height='150px' viewBox='0 0 450 150'>\n",
       "<!-- END OF HEADER -->\n",
       "<rect style='opacity:1.0;fill:#FFFFFF;stroke:none' width='450.0' height='150.0' x='0.0' y='0.0'> </rect>\n",
       "<path class='bond-0 atom-0 atom-1' d='M 25.0,79.7 L 69.3,55.1' style='fill:none;fill-rule:evenodd;stroke:#000000;stroke-width:2.0px;stroke-linecap:butt;stroke-linejoin:miter;stroke-opacity:1' />\n",
       "<path class='bond-0 atom-0 atom-1' d='M 29.9,88.5 L 74.2,64.0' style='fill:none;fill-rule:evenodd;stroke:#000000;stroke-width:2.0px;stroke-linecap:butt;stroke-linejoin:miter;stroke-opacity:1' />\n",
       "<path class='bond-1 atom-1 atom-2' d='M 71.7,59.6 L 115.2,85.7' style='fill:none;fill-rule:evenodd;stroke:#000000;stroke-width:2.0px;stroke-linecap:butt;stroke-linejoin:miter;stroke-opacity:1' />\n",
       "<path class='bond-2 atom-2 atom-3' d='M 115.2,85.7 L 159.5,61.1' style='fill:none;fill-rule:evenodd;stroke:#000000;stroke-width:2.0px;stroke-linecap:butt;stroke-linejoin:miter;stroke-opacity:1' />\n",
       "<path class='bond-2 atom-2 atom-3' d='M 116.9,73.1 L 147.9,55.9' style='fill:none;fill-rule:evenodd;stroke:#000000;stroke-width:2.0px;stroke-linecap:butt;stroke-linejoin:miter;stroke-opacity:1' />\n",
       "<path class='bond-3 atom-3 atom-4' d='M 159.5,61.1 L 202.9,87.2' style='fill:none;fill-rule:evenodd;stroke:#000000;stroke-width:2.0px;stroke-linecap:butt;stroke-linejoin:miter;stroke-opacity:1' />\n",
       "<path class='bond-4 atom-4 atom-5' d='M 202.9,87.2 L 247.2,62.7' style='fill:none;fill-rule:evenodd;stroke:#000000;stroke-width:2.0px;stroke-linecap:butt;stroke-linejoin:miter;stroke-opacity:1' />\n",
       "<path class='bond-4 atom-4 atom-5' d='M 204.6,74.7 L 235.7,57.5' style='fill:none;fill-rule:evenodd;stroke:#000000;stroke-width:2.0px;stroke-linecap:butt;stroke-linejoin:miter;stroke-opacity:1' />\n",
       "<path class='bond-5 atom-5 atom-6' d='M 247.2,62.7 L 290.6,88.8' style='fill:none;fill-rule:evenodd;stroke:#000000;stroke-width:2.0px;stroke-linecap:butt;stroke-linejoin:miter;stroke-opacity:1' />\n",
       "<path class='bond-6 atom-6 atom-7' d='M 290.6,88.8 L 335.0,64.2' style='fill:none;fill-rule:evenodd;stroke:#000000;stroke-width:2.0px;stroke-linecap:butt;stroke-linejoin:miter;stroke-opacity:1' />\n",
       "<path class='bond-6 atom-6 atom-7' d='M 292.4,76.2 L 323.4,59.0' style='fill:none;fill-rule:evenodd;stroke:#000000;stroke-width:2.0px;stroke-linecap:butt;stroke-linejoin:miter;stroke-opacity:1' />\n",
       "<path class='bond-7 atom-7 atom-8' d='M 335.0,64.2 L 378.4,90.3' style='fill:none;fill-rule:evenodd;stroke:#000000;stroke-width:2.0px;stroke-linecap:butt;stroke-linejoin:miter;stroke-opacity:1' />\n",
       "<path class='bond-8 atom-8 atom-9' d='M 375.9,85.9 L 420.3,61.3' style='fill:none;fill-rule:evenodd;stroke:#000000;stroke-width:2.0px;stroke-linecap:butt;stroke-linejoin:miter;stroke-opacity:1' />\n",
       "<path class='bond-8 atom-8 atom-9' d='M 380.8,94.7 L 425.2,70.2' style='fill:none;fill-rule:evenodd;stroke:#000000;stroke-width:2.0px;stroke-linecap:butt;stroke-linejoin:miter;stroke-opacity:1' />\n",
       "<path class='note' d='M 23.1 95.1\n",
       "Q 21.8 95.1, 21.1 94.1\n",
       "Q 20.5 93.1, 20.5 91.4\n",
       "Q 20.5 89.7, 21.1 88.7\n",
       "Q 21.8 87.7, 23.1 87.7\n",
       "Q 24.4 87.7, 25.1 88.7\n",
       "Q 25.7 89.7, 25.7 91.4\n",
       "Q 25.7 93.1, 25.0 94.1\n",
       "Q 24.4 95.1, 23.1 95.1\n",
       "M 23.1 94.3\n",
       "Q 23.9 94.3, 24.3 93.5\n",
       "Q 24.7 92.8, 24.7 91.4\n",
       "Q 24.7 90.0, 24.3 89.3\n",
       "Q 23.9 88.5, 23.1 88.5\n",
       "Q 22.3 88.5, 21.9 89.3\n",
       "Q 21.5 90.0, 21.5 91.4\n",
       "Q 21.5 92.8, 21.9 93.5\n",
       "Q 22.3 94.3, 23.1 94.3\n",
       "' fill='#000000'/>\n",
       "<path class='note' d='M 74.3 55.1\n",
       "L 75.9 55.1\n",
       "L 75.9 49.8\n",
       "L 74.2 50.3\n",
       "L 73.9 49.7\n",
       "L 76.1 48.7\n",
       "L 76.9 48.8\n",
       "L 76.9 55.1\n",
       "L 78.3 55.1\n",
       "L 78.3 55.9\n",
       "L 74.3 55.9\n",
       "L 74.3 55.1\n",
       "' fill='#000000'/>\n",
       "<path class='note' d='M 112.6 91.9\n",
       "Q 112.9 91.2, 113.5 90.9\n",
       "Q 114.1 90.5, 115.0 90.5\n",
       "Q 116.1 90.5, 116.7 91.1\n",
       "Q 117.3 91.7, 117.3 92.7\n",
       "Q 117.3 93.8, 116.5 94.8\n",
       "Q 115.7 95.7, 114.1 96.9\n",
       "L 117.4 96.9\n",
       "L 117.4 97.7\n",
       "L 112.6 97.7\n",
       "L 112.6 97.1\n",
       "Q 113.9 96.1, 114.7 95.4\n",
       "Q 115.5 94.7, 115.9 94.0\n",
       "Q 116.3 93.4, 116.3 92.8\n",
       "Q 116.3 92.1, 116.0 91.7\n",
       "Q 115.6 91.3, 115.0 91.3\n",
       "Q 114.4 91.3, 114.1 91.5\n",
       "Q 113.7 91.8, 113.4 92.3\n",
       "L 112.6 91.9\n",
       "' fill='#000000'/>\n",
       "<path class='note' d='M 160.7 52.5\n",
       "Q 161.4 52.7, 161.7 53.2\n",
       "Q 162.0 53.6, 162.0 54.3\n",
       "Q 162.0 54.9, 161.7 55.4\n",
       "Q 161.4 55.9, 160.9 56.1\n",
       "Q 160.3 56.4, 159.6 56.4\n",
       "Q 158.8 56.4, 158.2 56.1\n",
       "Q 157.7 55.9, 157.2 55.3\n",
       "L 157.8 54.7\n",
       "Q 158.2 55.2, 158.6 55.4\n",
       "Q 159.0 55.6, 159.6 55.6\n",
       "Q 160.2 55.6, 160.6 55.2\n",
       "Q 161.0 54.9, 161.0 54.3\n",
       "Q 161.0 53.6, 160.6 53.3\n",
       "Q 160.2 52.9, 159.3 52.9\n",
       "L 158.8 52.9\n",
       "L 158.8 52.2\n",
       "L 159.3 52.2\n",
       "Q 160.1 52.2, 160.5 51.9\n",
       "Q 160.9 51.5, 160.9 50.9\n",
       "Q 160.9 50.4, 160.5 50.1\n",
       "Q 160.2 49.9, 159.6 49.9\n",
       "Q 159.0 49.9, 158.6 50.1\n",
       "Q 158.3 50.3, 158.0 50.8\n",
       "L 157.3 50.4\n",
       "Q 157.5 49.8, 158.1 49.4\n",
       "Q 158.8 49.0, 159.6 49.0\n",
       "Q 160.7 49.0, 161.3 49.5\n",
       "Q 161.9 50.0, 161.9 50.9\n",
       "Q 161.9 51.5, 161.6 51.9\n",
       "Q 161.3 52.3, 160.7 52.5\n",
       "' fill='#000000'/>\n",
       "<path class='note' d='M 204.7 96.8\n",
       "L 205.5 96.8\n",
       "L 205.5 97.6\n",
       "L 204.7 97.6\n",
       "L 204.7 99.2\n",
       "L 203.7 99.2\n",
       "L 203.7 97.6\n",
       "L 200.0 97.6\n",
       "L 200.0 97.0\n",
       "L 203.1 92.1\n",
       "L 204.7 92.1\n",
       "L 204.7 96.8\n",
       "M 201.2 96.8\n",
       "L 203.7 96.8\n",
       "L 203.7 92.7\n",
       "L 201.2 96.8\n",
       "' fill='#000000'/>\n",
       "<path class='note' d='M 247.6 53.3\n",
       "Q 248.2 53.3, 248.7 53.6\n",
       "Q 249.2 53.9, 249.5 54.4\n",
       "Q 249.8 54.9, 249.8 55.5\n",
       "Q 249.8 56.3, 249.4 56.8\n",
       "Q 249.1 57.3, 248.5 57.6\n",
       "Q 247.9 57.9, 247.2 57.9\n",
       "Q 246.6 57.9, 246.0 57.6\n",
       "Q 245.4 57.4, 244.9 56.9\n",
       "L 245.6 56.3\n",
       "Q 245.9 56.7, 246.3 56.9\n",
       "Q 246.8 57.1, 247.3 57.1\n",
       "Q 247.9 57.1, 248.3 56.7\n",
       "Q 248.8 56.3, 248.8 55.6\n",
       "Q 248.8 54.8, 248.3 54.4\n",
       "Q 247.9 54.1, 247.2 54.1\n",
       "Q 246.6 54.1, 245.9 54.4\n",
       "L 245.3 54.1\n",
       "L 245.7 50.6\n",
       "L 249.4 50.6\n",
       "L 249.3 51.4\n",
       "L 246.5 51.4\n",
       "L 246.3 53.6\n",
       "Q 246.9 53.3, 247.6 53.3\n",
       "' fill='#000000'/>\n",
       "<path class='note' d='M 290.8 96.4\n",
       "Q 291.4 96.4, 291.9 96.6\n",
       "Q 292.4 96.9, 292.7 97.4\n",
       "Q 293.0 97.9, 293.0 98.5\n",
       "Q 293.0 99.2, 292.7 99.8\n",
       "Q 292.4 100.3, 291.8 100.6\n",
       "Q 291.3 100.9, 290.6 100.9\n",
       "Q 289.3 100.9, 288.7 100.1\n",
       "Q 288.0 99.2, 288.0 97.5\n",
       "Q 288.0 95.6, 288.8 94.6\n",
       "Q 289.6 93.6, 291.1 93.6\n",
       "Q 291.6 93.6, 292.0 93.7\n",
       "Q 292.3 93.8, 292.7 94.0\n",
       "L 292.3 94.7\n",
       "Q 291.8 94.4, 291.1 94.4\n",
       "Q 290.1 94.4, 289.6 95.1\n",
       "Q 289.1 95.7, 289.0 97.0\n",
       "Q 289.4 96.7, 289.9 96.5\n",
       "Q 290.3 96.4, 290.8 96.4\n",
       "M 290.6 100.1\n",
       "Q 291.0 100.1, 291.3 99.9\n",
       "Q 291.6 99.7, 291.8 99.3\n",
       "Q 292.0 99.0, 292.0 98.5\n",
       "Q 292.0 97.9, 291.6 97.5\n",
       "Q 291.3 97.2, 290.6 97.2\n",
       "Q 290.2 97.2, 289.8 97.4\n",
       "Q 289.3 97.5, 289.0 97.8\n",
       "Q 289.1 99.0, 289.5 99.5\n",
       "Q 289.8 100.1, 290.6 100.1\n",
       "' fill='#000000'/>\n",
       "<path class='note' d='M 336.5 53.0\n",
       "L 332.7 53.0\n",
       "L 332.7 52.2\n",
       "L 337.5 52.2\n",
       "L 337.5 52.9\n",
       "L 334.6 59.4\n",
       "L 333.6 59.4\n",
       "L 336.5 53.0\n",
       "' fill='#000000'/>\n",
       "<path class='note' d='M 375.2 97.4\n",
       "Q 375.8 97.7, 376.2 98.1\n",
       "Q 376.6 98.5, 376.6 99.2\n",
       "Q 376.6 99.8, 376.3 100.3\n",
       "Q 375.9 100.8, 375.4 101.0\n",
       "Q 374.8 101.3, 374.1 101.3\n",
       "Q 372.9 101.3, 372.2 100.7\n",
       "Q 371.5 100.2, 371.5 99.2\n",
       "Q 371.5 98.6, 371.8 98.2\n",
       "Q 372.1 97.7, 372.7 97.4\n",
       "Q 372.3 97.1, 372.0 96.8\n",
       "Q 371.8 96.4, 371.8 95.8\n",
       "Q 371.8 94.9, 372.4 94.4\n",
       "Q 373.0 93.9, 374.0 93.9\n",
       "Q 375.1 93.9, 375.7 94.4\n",
       "Q 376.3 94.9, 376.3 95.8\n",
       "Q 376.3 96.3, 376.0 96.7\n",
       "Q 375.7 97.1, 375.2 97.4\n",
       "M 374.0 94.7\n",
       "Q 373.4 94.7, 373.1 95.0\n",
       "Q 372.8 95.3, 372.8 95.8\n",
       "Q 372.8 96.1, 373.0 96.4\n",
       "Q 373.2 96.6, 373.5 96.8\n",
       "Q 373.9 96.9, 374.5 97.1\n",
       "Q 374.9 96.8, 375.1 96.5\n",
       "Q 375.3 96.2, 375.3 95.8\n",
       "Q 375.3 95.3, 375.0 95.0\n",
       "Q 374.6 94.7, 374.0 94.7\n",
       "M 374.1 100.5\n",
       "Q 374.7 100.5, 375.2 100.2\n",
       "Q 375.6 99.8, 375.6 99.2\n",
       "Q 375.6 98.8, 375.3 98.6\n",
       "Q 375.1 98.3, 374.8 98.2\n",
       "Q 374.5 98.0, 373.9 97.9\n",
       "L 373.5 97.7\n",
       "Q 373.0 98.0, 372.7 98.4\n",
       "Q 372.5 98.7, 372.5 99.2\n",
       "Q 372.5 99.8, 372.9 100.2\n",
       "Q 373.4 100.5, 374.1 100.5\n",
       "' fill='#000000'/>\n",
       "<path class='note' d='M 427.0 54.9\n",
       "Q 428.3 54.9, 428.9 55.8\n",
       "Q 429.5 56.6, 429.5 58.4\n",
       "Q 429.5 60.3, 428.7 61.3\n",
       "Q 428.0 62.2, 426.4 62.2\n",
       "Q 426.0 62.2, 425.6 62.1\n",
       "Q 425.2 62.0, 424.9 61.8\n",
       "L 425.2 61.1\n",
       "Q 425.8 61.4, 426.4 61.4\n",
       "Q 427.4 61.4, 427.9 60.8\n",
       "Q 428.5 60.1, 428.5 58.8\n",
       "Q 428.2 59.1, 427.7 59.3\n",
       "Q 427.2 59.5, 426.7 59.5\n",
       "Q 426.1 59.5, 425.6 59.2\n",
       "Q 425.1 58.9, 424.8 58.4\n",
       "Q 424.6 57.9, 424.6 57.3\n",
       "Q 424.6 56.6, 424.9 56.1\n",
       "Q 425.2 55.5, 425.7 55.2\n",
       "Q 426.3 54.9, 427.0 54.9\n",
       "M 425.6 57.3\n",
       "Q 425.6 57.9, 425.9 58.3\n",
       "Q 426.3 58.6, 426.9 58.6\n",
       "Q 427.4 58.6, 427.8 58.5\n",
       "Q 428.2 58.3, 428.5 58.0\n",
       "Q 428.5 56.8, 428.1 56.3\n",
       "Q 427.7 55.7, 427.0 55.7\n",
       "Q 426.6 55.7, 426.3 55.9\n",
       "Q 425.9 56.1, 425.8 56.5\n",
       "Q 425.6 56.8, 425.6 57.3\n",
       "' fill='#000000'/>\n",
       "</svg>\n"
      ],
      "text/plain": [
       "<rdkit.Chem.rdchem.Mol>"
      ]
     },
     "execution_count": null,
     "metadata": {},
     "output_type": "execute_result"
    }
   ],
   "source": [
    "mol = generate_smiles('linear', 10)\n",
    "molecule, energy_dict = Huckel_solve(mol)\n",
    "molecule"
   ]
  },
  {
   "cell_type": "code",
   "execution_count": null,
   "metadata": {},
   "outputs": [
    {
     "data": {
      "image/png": "[encoded data removed]",
      "text/plain": [
       "<Figure size 432x288 with 1 Axes>"
      ]
     },
     "metadata": {
      "needs_background": "light"
     },
     "output_type": "display_data"
    }
   ],
   "source": [
    "MO_plot(energy_dict)"
   ]
  },
  {
   "cell_type": "code",
   "execution_count": null,
   "metadata": {},
   "outputs": [
    {
     "data": {
      "image/png": "[encoded data removed]",
      "image/svg+xml": "<?xml version='1.0' encoding='iso-8859-1'?>\n<svg version='1.1' baseProfile='full'\n              xmlns='http://www.w3.org/2000/svg'\n                      xmlns:rdkit='http://www.rdkit.org/xml'\n                      xmlns:xlink='http://www.w3.org/1999/xlink'\n                  xml:space='preserve'\nwidth='450px' height='150px' viewBox='0 0 450 150'>\n<!-- END OF HEADER -->\n<rect style='opacity:1.0;fill:#FFFFFF;stroke:none' width='450.0' height='150.0' x='0.0' y='0.0'> </rect>\n<path class='bond-0 atom-0 atom-1' d='M 287.9,75.0 L 256.4,129.6' style='fill:none;fill-rule:evenodd;stroke:#000000;stroke-width:2.0px;stroke-linecap:butt;stroke-linejoin:miter;stroke-opacity:1' />\n<path class='bond-0 atom-0 atom-1' d='M 272.3,76.9 L 250.2,115.1' style='fill:none;fill-rule:evenodd;stroke:#000000;stroke-width:2.0px;stroke-linecap:butt;stroke-linejoin:miter;stroke-opacity:1' />\n<path class='bond-1 atom-1 atom-2' d='M 256.4,129.6 L 193.3,129.6' style='fill:none;fill-rule:evenodd;stroke:#000000;stroke-width:2.0px;stroke-linecap:butt;stroke-linejoin:miter;stroke-opacity:1' />\n<path class='bond-2 atom-2 atom-3' d='M 193.3,129.6 L 161.8,75.0' style='fill:none;fill-rule:evenodd;stroke:#000000;stroke-width:2.0px;stroke-linecap:butt;stroke-linejoin:miter;stroke-opacity:1' />\n<path class='bond-2 atom-2 atom-3' d='M 199.5,115.1 L 177.5,76.9' style='fill:none;fill-rule:evenodd;stroke:#000000;stroke-width:2.0px;stroke-linecap:butt;stroke-linejoin:miter;stroke-opacity:1' />\n<path class='bond-3 atom-3 atom-4' d='M 161.8,75.0 L 193.3,20.4' style='fill:none;fill-rule:evenodd;stroke:#000000;stroke-width:2.0px;stroke-linecap:butt;stroke-linejoin:miter;stroke-opacity:1' />\n<path class='bond-4 atom-4 atom-5' d='M 193.3,20.4 L 256.4,20.4' style='fill:none;fill-rule:evenodd;stroke:#000000;stroke-width:2.0px;stroke-linecap:butt;stroke-linejoin:miter;stroke-opacity:1' />\n<path class='bond-4 atom-4 atom-5' d='M 202.8,33.0 L 246.9,33.0' style='fill:none;fill-rule:evenodd;stroke:#000000;stroke-width:2.0px;stroke-linecap:butt;stroke-linejoin:miter;stroke-opacity:1' />\n<path class='bond-5 atom-5 atom-0' d='M 256.4,20.4 L 287.9,75.0' style='fill:none;fill-rule:evenodd;stroke:#000000;stroke-width:2.0px;stroke-linecap:butt;stroke-linejoin:miter;stroke-opacity:1' />\n<path class='note' d='M 298.4 79.6\nQ 296.8 79.6, 296.0 78.4\nQ 295.1 77.2, 295.1 75.0\nQ 295.1 72.9, 296.0 71.7\nQ 296.8 70.5, 298.4 70.5\nQ 300.1 70.5, 300.9 71.7\nQ 301.7 72.9, 301.7 75.0\nQ 301.7 77.2, 300.9 78.4\nQ 300.1 79.6, 298.4 79.6\nM 298.4 78.6\nQ 299.4 78.6, 299.9 77.7\nQ 300.4 76.8, 300.4 75.0\nQ 300.4 73.3, 299.9 72.4\nQ 299.4 71.5, 298.4 71.5\nQ 297.5 71.5, 296.9 72.4\nQ 296.4 73.3, 296.4 75.0\nQ 296.4 76.8, 296.9 77.7\nQ 297.5 78.6, 298.4 78.6\n' fill='#000000'/>\n<path class='note' d='M 259.4 142.1\nL 261.4 142.1\nL 261.4 135.5\nL 259.2 136.1\nL 258.9 135.4\nL 261.7 134.2\nL 262.6 134.3\nL 262.6 142.1\nL 264.3 142.1\nL 264.3 143.2\nL 259.4 143.2\nL 259.4 142.1\n' fill='#000000'/>\n<path class='note' d='M 185.1 135.9\nQ 185.4 135.1, 186.2 134.6\nQ 187.0 134.2, 188.1 134.2\nQ 189.4 134.2, 190.2 134.9\nQ 190.9 135.6, 190.9 136.9\nQ 190.9 138.2, 190.0 139.5\nQ 189.0 140.7, 187.0 142.2\nL 191.1 142.2\nL 191.1 143.2\nL 185.1 143.2\nL 185.1 142.3\nQ 186.8 141.2, 187.7 140.3\nQ 188.7 139.4, 189.2 138.6\nQ 189.7 137.8, 189.7 137.0\nQ 189.7 136.1, 189.3 135.6\nQ 188.8 135.2, 188.1 135.2\nQ 187.4 135.2, 186.9 135.5\nQ 186.4 135.7, 186.1 136.4\nL 185.1 135.9\n' fill='#000000'/>\n<path class='note' d='M 152.6 74.8\nQ 153.5 75.0, 153.9 75.6\nQ 154.3 76.2, 154.3 77.0\nQ 154.3 77.8, 153.9 78.4\nQ 153.6 79.0, 152.9 79.3\nQ 152.2 79.6, 151.3 79.6\nQ 150.3 79.6, 149.6 79.3\nQ 148.9 78.9, 148.3 78.3\nL 149.0 77.5\nQ 149.6 78.1, 150.1 78.4\nQ 150.5 78.6, 151.3 78.6\nQ 152.1 78.6, 152.6 78.2\nQ 153.1 77.7, 153.1 77.0\nQ 153.1 76.1, 152.5 75.7\nQ 152.0 75.3, 150.9 75.3\nL 150.3 75.3\nL 150.3 74.4\nL 150.9 74.4\nQ 151.8 74.4, 152.4 74.0\nQ 152.9 73.5, 152.9 72.7\nQ 152.9 72.2, 152.4 71.8\nQ 152.0 71.5, 151.3 71.5\nQ 150.5 71.5, 150.1 71.7\nQ 149.6 72.0, 149.3 72.7\nL 148.4 72.2\nQ 148.7 71.5, 149.5 71.0\nQ 150.2 70.5, 151.3 70.5\nQ 152.6 70.5, 153.4 71.1\nQ 154.1 71.7, 154.1 72.7\nQ 154.1 73.5, 153.7 74.0\nQ 153.4 74.5, 152.6 74.8\n' fill='#000000'/>\n<path class='note' d='M 190.5 12.7\nL 191.5 12.7\nL 191.5 13.7\nL 190.5 13.7\nL 190.5 15.7\nL 189.3 15.7\nL 189.3 13.7\nL 184.7 13.7\nL 184.7 12.9\nL 188.6 6.8\nL 190.5 6.8\nL 190.5 12.7\nM 186.1 12.7\nL 189.3 12.7\nL 189.3 7.6\nL 186.1 12.7\n' fill='#000000'/>\n<path class='note' d='M 261.9 10.2\nQ 262.6 10.2, 263.3 10.5\nQ 263.9 10.8, 264.3 11.5\nQ 264.7 12.1, 264.7 12.9\nQ 264.7 13.8, 264.2 14.5\nQ 263.8 15.2, 263.0 15.5\nQ 262.3 15.8, 261.5 15.8\nQ 260.7 15.8, 259.9 15.5\nQ 259.1 15.2, 258.6 14.7\nL 259.4 13.9\nQ 259.8 14.3, 260.4 14.6\nQ 260.9 14.8, 261.5 14.8\nQ 262.3 14.8, 262.8 14.3\nQ 263.4 13.8, 263.4 12.9\nQ 263.4 12.0, 262.8 11.6\nQ 262.3 11.1, 261.4 11.1\nQ 260.7 11.1, 259.8 11.4\nL 259.1 11.1\nL 259.5 6.8\nL 264.1 6.8\nL 264.0 7.8\nL 260.6 7.8\nL 260.3 10.5\nQ 261.1 10.2, 261.9 10.2\n' fill='#000000'/>\n</svg>\n",
      "text/html": [
       "<?xml version='1.0' encoding='iso-8859-1'?>\n",
       "<svg version='1.1' baseProfile='full'\n",
       "              xmlns='http://www.w3.org/2000/svg'\n",
       "                      xmlns:rdkit='http://www.rdkit.org/xml'\n",
       "                      xmlns:xlink='http://www.w3.org/1999/xlink'\n",
       "                  xml:space='preserve'\n",
       "width='450px' height='150px' viewBox='0 0 450 150'>\n",
       "<!-- END OF HEADER -->\n",
       "<rect style='opacity:1.0;fill:#FFFFFF;stroke:none' width='450.0' height='150.0' x='0.0' y='0.0'> </rect>\n",
       "<path class='bond-0 atom-0 atom-1' d='M 287.9,75.0 L 256.4,129.6' style='fill:none;fill-rule:evenodd;stroke:#000000;stroke-width:2.0px;stroke-linecap:butt;stroke-linejoin:miter;stroke-opacity:1' />\n",
       "<path class='bond-0 atom-0 atom-1' d='M 272.3,76.9 L 250.2,115.1' style='fill:none;fill-rule:evenodd;stroke:#000000;stroke-width:2.0px;stroke-linecap:butt;stroke-linejoin:miter;stroke-opacity:1' />\n",
       "<path class='bond-1 atom-1 atom-2' d='M 256.4,129.6 L 193.3,129.6' style='fill:none;fill-rule:evenodd;stroke:#000000;stroke-width:2.0px;stroke-linecap:butt;stroke-linejoin:miter;stroke-opacity:1' />\n",
       "<path class='bond-2 atom-2 atom-3' d='M 193.3,129.6 L 161.8,75.0' style='fill:none;fill-rule:evenodd;stroke:#000000;stroke-width:2.0px;stroke-linecap:butt;stroke-linejoin:miter;stroke-opacity:1' />\n",
       "<path class='bond-2 atom-2 atom-3' d='M 199.5,115.1 L 177.5,76.9' style='fill:none;fill-rule:evenodd;stroke:#000000;stroke-width:2.0px;stroke-linecap:butt;stroke-linejoin:miter;stroke-opacity:1' />\n",
       "<path class='bond-3 atom-3 atom-4' d='M 161.8,75.0 L 193.3,20.4' style='fill:none;fill-rule:evenodd;stroke:#000000;stroke-width:2.0px;stroke-linecap:butt;stroke-linejoin:miter;stroke-opacity:1' />\n",
       "<path class='bond-4 atom-4 atom-5' d='M 193.3,20.4 L 256.4,20.4' style='fill:none;fill-rule:evenodd;stroke:#000000;stroke-width:2.0px;stroke-linecap:butt;stroke-linejoin:miter;stroke-opacity:1' />\n",
       "<path class='bond-4 atom-4 atom-5' d='M 202.8,33.0 L 246.9,33.0' style='fill:none;fill-rule:evenodd;stroke:#000000;stroke-width:2.0px;stroke-linecap:butt;stroke-linejoin:miter;stroke-opacity:1' />\n",
       "<path class='bond-5 atom-5 atom-0' d='M 256.4,20.4 L 287.9,75.0' style='fill:none;fill-rule:evenodd;stroke:#000000;stroke-width:2.0px;stroke-linecap:butt;stroke-linejoin:miter;stroke-opacity:1' />\n",
       "<path class='note' d='M 298.4 79.6\n",
       "Q 296.8 79.6, 296.0 78.4\n",
       "Q 295.1 77.2, 295.1 75.0\n",
       "Q 295.1 72.9, 296.0 71.7\n",
       "Q 296.8 70.5, 298.4 70.5\n",
       "Q 300.1 70.5, 300.9 71.7\n",
       "Q 301.7 72.9, 301.7 75.0\n",
       "Q 301.7 77.2, 300.9 78.4\n",
       "Q 300.1 79.6, 298.4 79.6\n",
       "M 298.4 78.6\n",
       "Q 299.4 78.6, 299.9 77.7\n",
       "Q 300.4 76.8, 300.4 75.0\n",
       "Q 300.4 73.3, 299.9 72.4\n",
       "Q 299.4 71.5, 298.4 71.5\n",
       "Q 297.5 71.5, 296.9 72.4\n",
       "Q 296.4 73.3, 296.4 75.0\n",
       "Q 296.4 76.8, 296.9 77.7\n",
       "Q 297.5 78.6, 298.4 78.6\n",
       "' fill='#000000'/>\n",
       "<path class='note' d='M 259.4 142.1\n",
       "L 261.4 142.1\n",
       "L 261.4 135.5\n",
       "L 259.2 136.1\n",
       "L 258.9 135.4\n",
       "L 261.7 134.2\n",
       "L 262.6 134.3\n",
       "L 262.6 142.1\n",
       "L 264.3 142.1\n",
       "L 264.3 143.2\n",
       "L 259.4 143.2\n",
       "L 259.4 142.1\n",
       "' fill='#000000'/>\n",
       "<path class='note' d='M 185.1 135.9\n",
       "Q 185.4 135.1, 186.2 134.6\n",
       "Q 187.0 134.2, 188.1 134.2\n",
       "Q 189.4 134.2, 190.2 134.9\n",
       "Q 190.9 135.6, 190.9 136.9\n",
       "Q 190.9 138.2, 190.0 139.5\n",
       "Q 189.0 140.7, 187.0 142.2\n",
       "L 191.1 142.2\n",
       "L 191.1 143.2\n",
       "L 185.1 143.2\n",
       "L 185.1 142.3\n",
       "Q 186.8 141.2, 187.7 140.3\n",
       "Q 188.7 139.4, 189.2 138.6\n",
       "Q 189.7 137.8, 189.7 137.0\n",
       "Q 189.7 136.1, 189.3 135.6\n",
       "Q 188.8 135.2, 188.1 135.2\n",
       "Q 187.4 135.2, 186.9 135.5\n",
       "Q 186.4 135.7, 186.1 136.4\n",
       "L 185.1 135.9\n",
       "' fill='#000000'/>\n",
       "<path class='note' d='M 152.6 74.8\n",
       "Q 153.5 75.0, 153.9 75.6\n",
       "Q 154.3 76.2, 154.3 77.0\n",
       "Q 154.3 77.8, 153.9 78.4\n",
       "Q 153.6 79.0, 152.9 79.3\n",
       "Q 152.2 79.6, 151.3 79.6\n",
       "Q 150.3 79.6, 149.6 79.3\n",
       "Q 148.9 78.9, 148.3 78.3\n",
       "L 149.0 77.5\n",
       "Q 149.6 78.1, 150.1 78.4\n",
       "Q 150.5 78.6, 151.3 78.6\n",
       "Q 152.1 78.6, 152.6 78.2\n",
       "Q 153.1 77.7, 153.1 77.0\n",
       "Q 153.1 76.1, 152.5 75.7\n",
       "Q 152.0 75.3, 150.9 75.3\n",
       "L 150.3 75.3\n",
       "L 150.3 74.4\n",
       "L 150.9 74.4\n",
       "Q 151.8 74.4, 152.4 74.0\n",
       "Q 152.9 73.5, 152.9 72.7\n",
       "Q 152.9 72.2, 152.4 71.8\n",
       "Q 152.0 71.5, 151.3 71.5\n",
       "Q 150.5 71.5, 150.1 71.7\n",
       "Q 149.6 72.0, 149.3 72.7\n",
       "L 148.4 72.2\n",
       "Q 148.7 71.5, 149.5 71.0\n",
       "Q 150.2 70.5, 151.3 70.5\n",
       "Q 152.6 70.5, 153.4 71.1\n",
       "Q 154.1 71.7, 154.1 72.7\n",
       "Q 154.1 73.5, 153.7 74.0\n",
       "Q 153.4 74.5, 152.6 74.8\n",
       "' fill='#000000'/>\n",
       "<path class='note' d='M 190.5 12.7\n",
       "L 191.5 12.7\n",
       "L 191.5 13.7\n",
       "L 190.5 13.7\n",
       "L 190.5 15.7\n",
       "L 189.3 15.7\n",
       "L 189.3 13.7\n",
       "L 184.7 13.7\n",
       "L 184.7 12.9\n",
       "L 188.6 6.8\n",
       "L 190.5 6.8\n",
       "L 190.5 12.7\n",
       "M 186.1 12.7\n",
       "L 189.3 12.7\n",
       "L 189.3 7.6\n",
       "L 186.1 12.7\n",
       "' fill='#000000'/>\n",
       "<path class='note' d='M 261.9 10.2\n",
       "Q 262.6 10.2, 263.3 10.5\n",
       "Q 263.9 10.8, 264.3 11.5\n",
       "Q 264.7 12.1, 264.7 12.9\n",
       "Q 264.7 13.8, 264.2 14.5\n",
       "Q 263.8 15.2, 263.0 15.5\n",
       "Q 262.3 15.8, 261.5 15.8\n",
       "Q 260.7 15.8, 259.9 15.5\n",
       "Q 259.1 15.2, 258.6 14.7\n",
       "L 259.4 13.9\n",
       "Q 259.8 14.3, 260.4 14.6\n",
       "Q 260.9 14.8, 261.5 14.8\n",
       "Q 262.3 14.8, 262.8 14.3\n",
       "Q 263.4 13.8, 263.4 12.9\n",
       "Q 263.4 12.0, 262.8 11.6\n",
       "Q 262.3 11.1, 261.4 11.1\n",
       "Q 260.7 11.1, 259.8 11.4\n",
       "L 259.1 11.1\n",
       "L 259.5 6.8\n",
       "L 264.1 6.8\n",
       "L 264.0 7.8\n",
       "L 260.6 7.8\n",
       "L 260.3 10.5\n",
       "Q 261.1 10.2, 261.9 10.2\n",
       "' fill='#000000'/>\n",
       "</svg>\n"
      ],
      "text/plain": [
       "<rdkit.Chem.rdchem.Mol>"
      ]
     },
     "execution_count": null,
     "metadata": {},
     "output_type": "execute_result"
    }
   ],
   "source": [
    "mol = generate_smiles('ring', 6)\n",
    "molecule, energy_dict = Huckel_solve(mol)\n",
    "molecule"
   ]
  },
  {
   "cell_type": "code",
   "execution_count": null,
   "metadata": {},
   "outputs": [
    {
     "name": "stdout",
     "output_type": "stream",
     "text": [
      "{-2.0: [array([0.40824829, 0.40824829, 0.40824829, 0.40824829, 0.40824829,\n",
      "       0.40824829])], -1.0: [array([ 0.57735027,  0.28867513, -0.28867513, -0.57735027, -0.28867513,\n",
      "        0.28867513]), array([ 0.01992069, -0.48974194, -0.50966263, -0.01992069,  0.48974194,\n",
      "        0.50966263])], 2.0: [array([ 0.40824829, -0.40824829,  0.40824829, -0.40824829,  0.40824829,\n",
      "       -0.40824829])], 1.0: [array([ 0.57735027, -0.28867513, -0.28867513,  0.57735027, -0.28867513,\n",
      "       -0.28867513]), array([-0.11404433, -0.4331262 ,  0.54717053, -0.11404433, -0.4331262 ,\n",
      "        0.54717053])]}\n"
     ]
    },
    {
     "data": {
      "image/png": "[encoded data removed]",
      "text/plain": [
       "<Figure size 432x288 with 1 Axes>"
      ]
     },
     "metadata": {
      "needs_background": "light"
     },
     "output_type": "display_data"
    }
   ],
   "source": [
    "print(energy_dict)\n",
    "MO_plot(energy_dict)"
   ]
  },
  {
   "cell_type": "code",
   "execution_count": null,
   "metadata": {},
   "outputs": [],
   "source": [
    "# wf = energy_dict[-2][0]\n",
    "# molecule = Chem.MolFromSmiles(mol)\n",
    "# hit_ats = []\n",
    "# atom_cols = {}\n",
    "# for i, coeff in enumerate(wf):\n",
    "#     hit_ats.append(i)\n",
    "#     atom_cols[i] = mapper.to_rgba(coeff)\n",
    "#     # col = mapper.to_rgba(coeff)\n",
    "#     # colors.append((0.8,0.0,0.8))\n",
    "# d = rdMolDraw2D.MolDraw2DSVG(400, 400)\n",
    "# rdMolDraw2D.PrepareAndDrawMolecule(d, molecule , highlightAtoms=hit_ats,\n",
    "#                                        highlightAtomColors=atom_cols)"
   ]
  },
  {
   "cell_type": "markdown",
   "metadata": {},
   "source": [
    "Similarly, it works for more complkex 3d structures (though rdkit struggles to show their structure in the output skeletal diagram)"
   ]
  },
  {
   "cell_type": "code",
   "execution_count": null,
   "metadata": {},
   "outputs": [],
   "source": [
    "tetrahedrane_smiles = 'C12C3C1C23'\n",
    "cubane_smiles = 'C12C3C4C1C5C2C3C45'\n",
    "dodecahedrane_smiles = 'C12C3C4C5C1C6C7C2C8C3C9C4C1C5C6C2C7C8C9C12'\n",
    "fullerene_smiles = \"c12c3c4c5c2c2c6c7c1c1c8c3c3c9c4c4c%10c5c5c2c2c6c6c%11c7c1c1c7c8c3c3c8c9c4c4c9c%10c5c5c2c2c6c6c%11c1c1c7c3c3c8c4c4c9c5c2c2c6c1c3c42\""
   ]
  },
  {
   "cell_type": "code",
   "execution_count": null,
   "metadata": {},
   "outputs": [
    {
     "name": "stdout",
     "output_type": "stream",
     "text": [
      "[[ 0 -1  0 -1  0 -1  0  0]\n",
      " [-1  0 -1  0  0  0 -1  0]\n",
      " [ 0 -1  0 -1  0  0  0 -1]\n",
      " [-1  0 -1  0 -1  0  0  0]\n",
      " [ 0  0  0 -1  0 -1  0 -1]\n",
      " [-1  0  0  0 -1  0 -1  0]\n",
      " [ 0 -1  0  0  0 -1  0 -1]\n",
      " [ 0  0 -1  0 -1  0 -1  0]]\n"
     ]
    }
   ],
   "source": [
    "# rdkit does consider all bonds, even if all are not shown on the output skeletal diagram: this is mostly apparent for cubane\n",
    "molecule = Chem.MolFromSmiles(cubane_smiles)\n",
    "mat = -Chem.GetAdjacencyMatrix(molecule)\n",
    "print(mat)"
   ]
  },
  {
   "cell_type": "code",
   "execution_count": null,
   "metadata": {},
   "outputs": [
    {
     "data": {
      "image/png": "[encoded data removed]",
      "text/plain": [
       "<Figure size 432x288 with 1 Axes>"
      ]
     },
     "metadata": {
      "needs_background": "light"
     },
     "output_type": "display_data"
    }
   ],
   "source": [
    "molecule, energy_dict = Huckel_solve(tetrahedrane_smiles)\n",
    "MO_plot(energy_dict)"
   ]
  },
  {
   "cell_type": "code",
   "execution_count": null,
   "metadata": {},
   "outputs": [
    {
     "data": {
      "image/png": "[encoded data removed]",
      "text/plain": [
       "<Figure size 432x288 with 1 Axes>"
      ]
     },
     "metadata": {
      "needs_background": "light"
     },
     "output_type": "display_data"
    }
   ],
   "source": [
    "molecule, energy_dict = Huckel_solve(cubane_smiles)\n",
    "MO_plot(energy_dict)"
   ]
  },
  {
   "cell_type": "code",
   "execution_count": null,
   "metadata": {},
   "outputs": [
    {
     "data": {
      "image/png": "[encoded data removed]",
      "text/plain": [
       "<Figure size 432x288 with 1 Axes>"
      ]
     },
     "metadata": {
      "needs_background": "light"
     },
     "output_type": "display_data"
    }
   ],
   "source": [
    "molecule, energy_dict = Huckel_solve(dodecahedrane_smiles)\n",
    "MO_plot(energy_dict)"
   ]
  },
  {
   "cell_type": "code",
   "execution_count": null,
   "metadata": {},
   "outputs": [
    {
     "data": {
      "image/png": "[encoded data removed]",
      "text/plain": [
       "<Figure size 432x288 with 1 Axes>"
      ]
     },
     "metadata": {
      "needs_background": "light"
     },
     "output_type": "display_data"
    }
   ],
   "source": [
    "molecule, energy_dict = Huckel_solve(fullerene_smiles)\n",
    "MO_plot(energy_dict)"
   ]
  },
  {
   "cell_type": "code",
   "execution_count": null,
   "metadata": {},
   "outputs": [],
   "source": [
    "#| hide\n",
    "import nbdev; nbdev.nbdev_export()"
   ]
  }
 ],
 "metadata": {
  "kernelspec": {
   "display_name": "ChemII",
   "language": "python",
   "name": "python3"
  }
 },
 "nbformat": 4,
 "nbformat_minor": 4
}
