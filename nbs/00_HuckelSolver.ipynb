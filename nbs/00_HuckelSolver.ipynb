{
 "cells": [
  {
   "cell_type": "markdown",
   "metadata": {},
   "source": [
    "# Generalise Huckel Solver\n",
    "\n",
    "> Constructs the Huckel matrix and solves for the values, based on Ex 3.1 instructions"
   ]
  },
  {
   "cell_type": "markdown",
   "metadata": {},
   "source": [
    "This solver will only work if all $p$ orbitals are equivalent (it will not consider for instance perturbations due to nitrogen in pyridine).\n",
    "The Huckel theory assumptions are:\n",
    "$$ H_{ij}= \\begin{cases} \\alpha,\\  i=j\\\\ \\beta,\\  i \\text{ adjacent to } j\\\\ 0,\\  \\text{otherwise}\\end{cases} $$\n",
    "with scaling such that $\\alpha = 0$ and $\\beta =-1$. As such, it can be seen that the resulting Huckel matrix is the negative of the adjacency matrix $A$ where: \n",
    "$$ A_{ij}= \\begin{cases}  1,\\  i \\text{ adjacent to } j\\\\ 0,\\  \\text{otherwise}\\end{cases} $$"
   ]
  },
  {
   "cell_type": "code",
   "execution_count": null,
   "metadata": {},
   "outputs": [],
   "source": [
    "#| default_exp huckel"
   ]
  },
  {
   "cell_type": "code",
   "execution_count": null,
   "metadata": {},
   "outputs": [],
   "source": [
    "from rdkit import Chem\n",
    "from rdkit.Chem.Draw import IPythonConsole\n",
    "from rdkit.Chem import Draw\n",
    "\n",
    "import numpy as np\n",
    "import matplotlib.pyplot as plt"
   ]
  },
  {
   "cell_type": "code",
   "execution_count": null,
   "metadata": {},
   "outputs": [],
   "source": [
    "#| export\n",
    "IPythonConsole.ipython_useSVG=True  #< set this to False if you want PNGs instead of SVGs\n",
    "IPythonConsole.drawOptions.addAtomIndices = True"
   ]
  },
  {
   "cell_type": "code",
   "execution_count": null,
   "metadata": {},
   "outputs": [],
   "source": [
    "#| export\n",
    "def generate_smiles(type, n):\n",
    "    \"\"\"\n",
    "    generate the smiles of either a straight chain or ring polyene, with n atoms.\n",
    "    All carbons will be sp2 hybridised.\n",
    "    For linear molecules with an odd number of atoms it will return the anion\n",
    "    For rings with 4n+1 atoms it will return the anion eg C5H5-    \n",
    "    For rings with 4n+3 atoms it will return the cation eg C7H7+   \n",
    "    \"\"\"\n",
    "    unit = 'C=C'# the base 2 carbon double bond unit\n",
    "    if n<3: type = 'linear' #ring needs at least 3 atoms\n",
    "    if n <=1: \n",
    "        raise Exception(\"More than 1 Carbon atoms is needed\")\n",
    "    if not isinstance(n, int): \n",
    "        raise Exception(\"An integer number of atoms is needed\")\n",
    "    if type == 'linear':\n",
    "        repeats = n//2 # repeats of the base unit of 2 carbons\n",
    "        terminal = n%2 # whether or not a terminal carbon is needed\n",
    "        output = repeats*unit +terminal*\"[CH2+]\"\n",
    "    if type == 'ring':\n",
    "        repeats = n//2 # repeats of the base unit of 2 carbons\n",
    "        cation_terminal = 1 if n%4==3 else 0 # if 4n+3 carbon atoms: cation eg C7H7+\n",
    "        anion_terminal = 1 if n%4==1 else 0 # if 4n+3 carbon atoms: cation eg C5H5-\n",
    "        output = \"C1=C\" +(repeats-1)*unit +anion_terminal*\"[CH-]\"+cation_terminal*\"[CH+]\"+\"1\"\n",
    "    return(output)"
   ]
  },
  {
   "cell_type": "code",
   "execution_count": null,
   "metadata": {},
   "outputs": [],
   "source": [
    "#| export\n",
    "def Huckel_solve(SMILES):\n",
    "    \"\"\"\n",
    "    From a SMILES input, create an adjacency matrix, and use that to solve the for the Huckel pi system\n",
    "    Returns a dictionary of energy levels with the associated (possibly degenerate) wavefunctions and the RDKit molecule\n",
    "    This only considers 1 sort of p orbital and treats alpha =0 and beta = -1\n",
    "    \"\"\"\n",
    "    molecule = Chem.MolFromSmiles(SMILES)\n",
    "    mat = -Chem.GetAdjacencyMatrix(molecule)\n",
    "    vals, vecs = np.linalg.eig(mat)\n",
    "    # create dictionary where each eigenvalue has a list of the associated eigenvectors\n",
    "    energy_dict = {}\n",
    "    for i, val in enumerate(vals):\n",
    "        # pythons eigenvalues sometimes produce rounding errors at the 14th dp: eg eigenvalues for benzene being 1.0 and 0.9999999999999998\n",
    "        # similarly, trivial imaginary parts are occasionally produced: on the order of 10^-16 i\n",
    "        val = round(np.real(val), 3) \n",
    "        if val in energy_dict:energy_dict[val].append(vecs[:,i])\n",
    "        else: energy_dict[val]=[vecs[:,i]]\n",
    "    return molecule, energy_dict "
   ]
  },
  {
   "cell_type": "code",
   "execution_count": null,
   "metadata": {},
   "outputs": [],
   "source": [
    "#| export\n",
    "def MO_plot(dict):\n",
    "    \"\"\"\n",
    "    Plots an MO diagram based on a dictionary of energy levels and associated wavefunctions\n",
    "    \"\"\"\n",
    "    fig, ax = plt.subplots()\n",
    "    for level in dict:\n",
    "        degeneracy = len(dict[level])\n",
    "        x = np.arange(-(0.5*(degeneracy - 1)),(0.5*(degeneracy)), 1)\n",
    "        y = [level]*(degeneracy)\n",
    "        ax.scatter(x, y, s =900, marker = '_', linewidth = 3)\n",
    "    plt.show"
   ]
  },
  {
   "cell_type": "markdown",
   "metadata": {},
   "source": [
    "This works in a straightforward manner for chains and rings"
   ]
  },
  {
   "cell_type": "code",
   "execution_count": null,
   "metadata": {},
   "outputs": [
    {
     "data": {
      "image/png": "[encoded data removed]",
      "image/svg+xml": "<?xml version='1.0' encoding='iso-8859-1'?>\n<svg version='1.1' baseProfile='full'\n              xmlns='http://www.w3.org/2000/svg'\n                      xmlns:rdkit='http://www.rdkit.org/xml'\n                      xmlns:xlink='http://www.w3.org/1999/xlink'\n                  xml:space='preserve'\nwidth='450px' height='150px' viewBox='0 0 450 150'>\n<!-- END OF HEADER -->\n<rect style='opacity:1.0;fill:#FFFFFF;stroke:none' width='450.0' height='150.0' x='0.0' y='0.0'> </rect>\n<path class='bond-0 atom-0 atom-1' d='M 25.0,79.7 L 69.3,55.1' style='fill:none;fill-rule:evenodd;stroke:#000000;stroke-width:2.0px;stroke-linecap:butt;stroke-linejoin:miter;stroke-opacity:1' />\n<path class='bond-0 atom-0 atom-1' d='M 29.9,88.5 L 74.2,64.0' style='fill:none;fill-rule:evenodd;stroke:#000000;stroke-width:2.0px;stroke-linecap:butt;stroke-linejoin:miter;stroke-opacity:1' />\n<path class='bond-1 atom-1 atom-2' d='M 71.7,59.6 L 115.2,85.7' style='fill:none;fill-rule:evenodd;stroke:#000000;stroke-width:2.0px;stroke-linecap:butt;stroke-linejoin:miter;stroke-opacity:1' />\n<path class='bond-2 atom-2 atom-3' d='M 115.2,85.7 L 159.5,61.1' style='fill:none;fill-rule:evenodd;stroke:#000000;stroke-width:2.0px;stroke-linecap:butt;stroke-linejoin:miter;stroke-opacity:1' />\n<path class='bond-2 atom-2 atom-3' d='M 116.9,73.1 L 147.9,55.9' style='fill:none;fill-rule:evenodd;stroke:#000000;stroke-width:2.0px;stroke-linecap:butt;stroke-linejoin:miter;stroke-opacity:1' />\n<path class='bond-3 atom-3 atom-4' d='M 159.5,61.1 L 202.9,87.2' style='fill:none;fill-rule:evenodd;stroke:#000000;stroke-width:2.0px;stroke-linecap:butt;stroke-linejoin:miter;stroke-opacity:1' />\n<path class='bond-4 atom-4 atom-5' d='M 202.9,87.2 L 247.2,62.7' style='fill:none;fill-rule:evenodd;stroke:#000000;stroke-width:2.0px;stroke-linecap:butt;stroke-linejoin:miter;stroke-opacity:1' />\n<path class='bond-4 atom-4 atom-5' d='M 204.6,74.7 L 235.7,57.5' style='fill:none;fill-rule:evenodd;stroke:#000000;stroke-width:2.0px;stroke-linecap:butt;stroke-linejoin:miter;stroke-opacity:1' />\n<path class='bond-5 atom-5 atom-6' d='M 247.2,62.7 L 290.6,88.8' style='fill:none;fill-rule:evenodd;stroke:#000000;stroke-width:2.0px;stroke-linecap:butt;stroke-linejoin:miter;stroke-opacity:1' />\n<path class='bond-6 atom-6 atom-7' d='M 290.6,88.8 L 335.0,64.2' style='fill:none;fill-rule:evenodd;stroke:#000000;stroke-width:2.0px;stroke-linecap:butt;stroke-linejoin:miter;stroke-opacity:1' />\n<path class='bond-6 atom-6 atom-7' d='M 292.4,76.2 L 323.4,59.0' style='fill:none;fill-rule:evenodd;stroke:#000000;stroke-width:2.0px;stroke-linecap:butt;stroke-linejoin:miter;stroke-opacity:1' />\n<path class='bond-7 atom-7 atom-8' d='M 335.0,64.2 L 378.4,90.3' style='fill:none;fill-rule:evenodd;stroke:#000000;stroke-width:2.0px;stroke-linecap:butt;stroke-linejoin:miter;stroke-opacity:1' />\n<path class='bond-8 atom-8 atom-9' d='M 375.9,85.9 L 420.3,61.3' style='fill:none;fill-rule:evenodd;stroke:#000000;stroke-width:2.0px;stroke-linecap:butt;stroke-linejoin:miter;stroke-opacity:1' />\n<path class='bond-8 atom-8 atom-9' d='M 380.8,94.7 L 425.2,70.2' style='fill:none;fill-rule:evenodd;stroke:#000000;stroke-width:2.0px;stroke-linecap:butt;stroke-linejoin:miter;stroke-opacity:1' />\n<path class='note' d='M 23.1 95.1\nQ 21.8 95.1, 21.1 94.1\nQ 20.5 93.1, 20.5 91.4\nQ 20.5 89.7, 21.1 88.7\nQ 21.8 87.7, 23.1 87.7\nQ 24.4 87.7, 25.1 88.7\nQ 25.7 89.7, 25.7 91.4\nQ 25.7 93.1, 25.0 94.1\nQ 24.4 95.1, 23.1 95.1\nM 23.1 94.3\nQ 23.9 94.3, 24.3 93.5\nQ 24.7 92.8, 24.7 91.4\nQ 24.7 90.0, 24.3 89.3\nQ 23.9 88.5, 23.1 88.5\nQ 22.3 88.5, 21.9 89.3\nQ 21.5 90.0, 21.5 91.4\nQ 21.5 92.8, 21.9 93.5\nQ 22.3 94.3, 23.1 94.3\n' fill='#000000'/>\n<path class='note' d='M 74.3 55.1\nL 75.9 55.1\nL 75.9 49.8\nL 74.2 50.3\nL 73.9 49.7\nL 76.1 48.7\nL 76.9 48.8\nL 76.9 55.1\nL 78.3 55.1\nL 78.3 55.9\nL 74.3 55.9\nL 74.3 55.1\n' fill='#000000'/>\n<path class='note' d='M 112.6 91.9\nQ 112.9 91.2, 113.5 90.9\nQ 114.1 90.5, 115.0 90.5\nQ 116.1 90.5, 116.7 91.1\nQ 117.3 91.7, 117.3 92.7\nQ 117.3 93.8, 116.5 94.8\nQ 115.7 95.7, 114.1 96.9\nL 117.4 96.9\nL 117.4 97.7\nL 112.6 97.7\nL 112.6 97.1\nQ 113.9 96.1, 114.7 95.4\nQ 115.5 94.7, 115.9 94.0\nQ 116.3 93.4, 116.3 92.8\nQ 116.3 92.1, 116.0 91.7\nQ 115.6 91.3, 115.0 91.3\nQ 114.4 91.3, 114.1 91.5\nQ 113.7 91.8, 113.4 92.3\nL 112.6 91.9\n' fill='#000000'/>\n<path class='note' d='M 160.7 52.5\nQ 161.4 52.7, 161.7 53.2\nQ 162.0 53.6, 162.0 54.3\nQ 162.0 54.9, 161.7 55.4\nQ 161.4 55.9, 160.9 56.1\nQ 160.3 56.4, 159.6 56.4\nQ 158.8 56.4, 158.2 56.1\nQ 157.7 55.9, 157.2 55.3\nL 157.8 54.7\nQ 158.2 55.2, 158.6 55.4\nQ 159.0 55.6, 159.6 55.6\nQ 160.2 55.6, 160.6 55.2\nQ 161.0 54.9, 161.0 54.3\nQ 161.0 53.6, 160.6 53.3\nQ 160.2 52.9, 159.3 52.9\nL 158.8 52.9\nL 158.8 52.2\nL 159.3 52.2\nQ 160.1 52.2, 160.5 51.9\nQ 160.9 51.5, 160.9 50.9\nQ 160.9 50.4, 160.5 50.1\nQ 160.2 49.9, 159.6 49.9\nQ 159.0 49.9, 158.6 50.1\nQ 158.3 50.3, 158.0 50.8\nL 157.3 50.4\nQ 157.5 49.8, 158.1 49.4\nQ 158.8 49.0, 159.6 49.0\nQ 160.7 49.0, 161.3 49.5\nQ 161.9 50.0, 161.9 50.9\nQ 161.9 51.5, 161.6 51.9\nQ 161.3 52.3, 160.7 52.5\n' fill='#000000'/>\n<path class='note' d='M 204.7 96.8\nL 205.5 96.8\nL 205.5 97.6\nL 204.7 97.6\nL 204.7 99.2\nL 203.7 99.2\nL 203.7 97.6\nL 200.0 97.6\nL 200.0 97.0\nL 203.1 92.1\nL 204.7 92.1\nL 204.7 96.8\nM 201.2 96.8\nL 203.7 96.8\nL 203.7 92.7\nL 201.2 96.8\n' fill='#000000'/>\n<path class='note' d='M 247.6 53.3\nQ 248.2 53.3, 248.7 53.6\nQ 249.2 53.9, 249.5 54.4\nQ 249.8 54.9, 249.8 55.5\nQ 249.8 56.3, 249.4 56.8\nQ 249.1 57.3, 248.5 57.6\nQ 247.9 57.9, 247.2 57.9\nQ 246.6 57.9, 246.0 57.6\nQ 245.4 57.4, 244.9 56.9\nL 245.6 56.3\nQ 245.9 56.7, 246.3 56.9\nQ 246.8 57.1, 247.3 57.1\nQ 247.9 57.1, 248.3 56.7\nQ 248.8 56.3, 248.8 55.6\nQ 248.8 54.8, 248.3 54.4\nQ 247.9 54.1, 247.2 54.1\nQ 246.6 54.1, 245.9 54.4\nL 245.3 54.1\nL 245.7 50.6\nL 249.4 50.6\nL 249.3 51.4\nL 246.5 51.4\nL 246.3 53.6\nQ 246.9 53.3, 247.6 53.3\n' fill='#000000'/>\n<path class='note' d='M 290.8 96.4\nQ 291.4 96.4, 291.9 96.6\nQ 292.4 96.9, 292.7 97.4\nQ 293.0 97.9, 293.0 98.5\nQ 293.0 99.2, 292.7 99.8\nQ 292.4 100.3, 291.8 100.6\nQ 291.3 100.9, 290.6 100.9\nQ 289.3 100.9, 288.7 100.1\nQ 288.0 99.2, 288.0 97.5\nQ 288.0 95.6, 288.8 94.6\nQ 289.6 93.6, 291.1 93.6\nQ 291.6 93.6, 292.0 93.7\nQ 292.3 93.8, 292.7 94.0\nL 292.3 94.7\nQ 291.8 94.4, 291.1 94.4\nQ 290.1 94.4, 289.6 95.1\nQ 289.1 95.7, 289.0 97.0\nQ 289.4 96.7, 289.9 96.5\nQ 290.3 96.4, 290.8 96.4\nM 290.6 100.1\nQ 291.0 100.1, 291.3 99.9\nQ 291.6 99.7, 291.8 99.3\nQ 292.0 99.0, 292.0 98.5\nQ 292.0 97.9, 291.6 97.5\nQ 291.3 97.2, 290.6 97.2\nQ 290.2 97.2, 289.8 97.4\nQ 289.3 97.5, 289.0 97.8\nQ 289.1 99.0, 289.5 99.5\nQ 289.8 100.1, 290.6 100.1\n' fill='#000000'/>\n<path class='note' d='M 336.5 53.0\nL 332.7 53.0\nL 332.7 52.2\nL 337.5 52.2\nL 337.5 52.9\nL 334.6 59.4\nL 333.6 59.4\nL 336.5 53.0\n' fill='#000000'/>\n<path class='note' d='M 375.2 97.4\nQ 375.8 97.7, 376.2 98.1\nQ 376.6 98.5, 376.6 99.2\nQ 376.6 99.8, 376.3 100.3\nQ 375.9 100.8, 375.4 101.0\nQ 374.8 101.3, 374.1 101.3\nQ 372.9 101.3, 372.2 100.7\nQ 371.5 100.2, 371.5 99.2\nQ 371.5 98.6, 371.8 98.2\nQ 372.1 97.7, 372.7 97.4\nQ 372.3 97.1, 372.0 96.8\nQ 371.8 96.4, 371.8 95.8\nQ 371.8 94.9, 372.4 94.4\nQ 373.0 93.9, 374.0 93.9\nQ 375.1 93.9, 375.7 94.4\nQ 376.3 94.9, 376.3 95.8\nQ 376.3 96.3, 376.0 96.7\nQ 375.7 97.1, 375.2 97.4\nM 374.0 94.7\nQ 373.4 94.7, 373.1 95.0\nQ 372.8 95.3, 372.8 95.8\nQ 372.8 96.1, 373.0 96.4\nQ 373.2 96.6, 373.5 96.8\nQ 373.9 96.9, 374.5 97.1\nQ 374.9 96.8, 375.1 96.5\nQ 375.3 96.2, 375.3 95.8\nQ 375.3 95.3, 375.0 95.0\nQ 374.6 94.7, 374.0 94.7\nM 374.1 100.5\nQ 374.7 100.5, 375.2 100.2\nQ 375.6 99.8, 375.6 99.2\nQ 375.6 98.8, 375.3 98.6\nQ 375.1 98.3, 374.8 98.2\nQ 374.5 98.0, 373.9 97.9\nL 373.5 97.7\nQ 373.0 98.0, 372.7 98.4\nQ 372.5 98.7, 372.5 99.2\nQ 372.5 99.8, 372.9 100.2\nQ 373.4 100.5, 374.1 100.5\n' fill='#000000'/>\n<path class='note' d='M 427.0 54.9\nQ 428.3 54.9, 428.9 55.8\nQ 429.5 56.6, 429.5 58.4\nQ 429.5 60.3, 428.7 61.3\nQ 428.0 62.2, 426.4 62.2\nQ 426.0 62.2, 425.6 62.1\nQ 425.2 62.0, 424.9 61.8\nL 425.2 61.1\nQ 425.8 61.4, 426.4 61.4\nQ 427.4 61.4, 427.9 60.8\nQ 428.5 60.1, 428.5 58.8\nQ 428.2 59.1, 427.7 59.3\nQ 427.2 59.5, 426.7 59.5\nQ 426.1 59.5, 425.6 59.2\nQ 425.1 58.9, 424.8 58.4\nQ 424.6 57.9, 424.6 57.3\nQ 424.6 56.6, 424.9 56.1\nQ 425.2 55.5, 425.7 55.2\nQ 426.3 54.9, 427.0 54.9\nM 425.6 57.3\nQ 425.6 57.9, 425.9 58.3\nQ 426.3 58.6, 426.9 58.6\nQ 427.4 58.6, 427.8 58.5\nQ 428.2 58.3, 428.5 58.0\nQ 428.5 56.8, 428.1 56.3\nQ 427.7 55.7, 427.0 55.7\nQ 426.6 55.7, 426.3 55.9\nQ 425.9 56.1, 425.8 56.5\nQ 425.6 56.8, 425.6 57.3\n' fill='#000000'/>\n</svg>\n",
      "text/html": [
       "<?xml version='1.0' encoding='iso-8859-1'?>\n",
       "<svg version='1.1' baseProfile='full'\n",
       "              xmlns='http://www.w3.org/2000/svg'\n",
       "                      xmlns:rdkit='http://www.rdkit.org/xml'\n",
       "                      xmlns:xlink='http://www.w3.org/1999/xlink'\n",
       "                  xml:space='preserve'\n",
       "width='450px' height='150px' viewBox='0 0 450 150'>\n",
       "<!-- END OF HEADER -->\n",
       "<rect style='opacity:1.0;fill:#FFFFFF;stroke:none' width='450.0' height='150.0' x='0.0' y='0.0'> </rect>\n",
       "<path class='bond-0 atom-0 atom-1' d='M 25.0,79.7 L 69.3,55.1' style='fill:none;fill-rule:evenodd;stroke:#000000;stroke-width:2.0px;stroke-linecap:butt;stroke-linejoin:miter;stroke-opacity:1' />\n",
       "<path class='bond-0 atom-0 atom-1' d='M 29.9,88.5 L 74.2,64.0' style='fill:none;fill-rule:evenodd;stroke:#000000;stroke-width:2.0px;stroke-linecap:butt;stroke-linejoin:miter;stroke-opacity:1' />\n",
       "<path class='bond-1 atom-1 atom-2' d='M 71.7,59.6 L 115.2,85.7' style='fill:none;fill-rule:evenodd;stroke:#000000;stroke-width:2.0px;stroke-linecap:butt;stroke-linejoin:miter;stroke-opacity:1' />\n",
       "<path class='bond-2 atom-2 atom-3' d='M 115.2,85.7 L 159.5,61.1' style='fill:none;fill-rule:evenodd;stroke:#000000;stroke-width:2.0px;stroke-linecap:butt;stroke-linejoin:miter;stroke-opacity:1' />\n",
       "<path class='bond-2 atom-2 atom-3' d='M 116.9,73.1 L 147.9,55.9' style='fill:none;fill-rule:evenodd;stroke:#000000;stroke-width:2.0px;stroke-linecap:butt;stroke-linejoin:miter;stroke-opacity:1' />\n",
       "<path class='bond-3 atom-3 atom-4' d='M 159.5,61.1 L 202.9,87.2' style='fill:none;fill-rule:evenodd;stroke:#000000;stroke-width:2.0px;stroke-linecap:butt;stroke-linejoin:miter;stroke-opacity:1' />\n",
       "<path class='bond-4 atom-4 atom-5' d='M 202.9,87.2 L 247.2,62.7' style='fill:none;fill-rule:evenodd;stroke:#000000;stroke-width:2.0px;stroke-linecap:butt;stroke-linejoin:miter;stroke-opacity:1' />\n",
       "<path class='bond-4 atom-4 atom-5' d='M 204.6,74.7 L 235.7,57.5' style='fill:none;fill-rule:evenodd;stroke:#000000;stroke-width:2.0px;stroke-linecap:butt;stroke-linejoin:miter;stroke-opacity:1' />\n",
       "<path class='bond-5 atom-5 atom-6' d='M 247.2,62.7 L 290.6,88.8' style='fill:none;fill-rule:evenodd;stroke:#000000;stroke-width:2.0px;stroke-linecap:butt;stroke-linejoin:miter;stroke-opacity:1' />\n",
       "<path class='bond-6 atom-6 atom-7' d='M 290.6,88.8 L 335.0,64.2' style='fill:none;fill-rule:evenodd;stroke:#000000;stroke-width:2.0px;stroke-linecap:butt;stroke-linejoin:miter;stroke-opacity:1' />\n",
       "<path class='bond-6 atom-6 atom-7' d='M 292.4,76.2 L 323.4,59.0' style='fill:none;fill-rule:evenodd;stroke:#000000;stroke-width:2.0px;stroke-linecap:butt;stroke-linejoin:miter;stroke-opacity:1' />\n",
       "<path class='bond-7 atom-7 atom-8' d='M 335.0,64.2 L 378.4,90.3' style='fill:none;fill-rule:evenodd;stroke:#000000;stroke-width:2.0px;stroke-linecap:butt;stroke-linejoin:miter;stroke-opacity:1' />\n",
       "<path class='bond-8 atom-8 atom-9' d='M 375.9,85.9 L 420.3,61.3' style='fill:none;fill-rule:evenodd;stroke:#000000;stroke-width:2.0px;stroke-linecap:butt;stroke-linejoin:miter;stroke-opacity:1' />\n",
       "<path class='bond-8 atom-8 atom-9' d='M 380.8,94.7 L 425.2,70.2' style='fill:none;fill-rule:evenodd;stroke:#000000;stroke-width:2.0px;stroke-linecap:butt;stroke-linejoin:miter;stroke-opacity:1' />\n",
       "<path class='note' d='M 23.1 95.1\n",
       "Q 21.8 95.1, 21.1 94.1\n",
       "Q 20.5 93.1, 20.5 91.4\n",
       "Q 20.5 89.7, 21.1 88.7\n",
       "Q 21.8 87.7, 23.1 87.7\n",
       "Q 24.4 87.7, 25.1 88.7\n",
       "Q 25.7 89.7, 25.7 91.4\n",
       "Q 25.7 93.1, 25.0 94.1\n",
       "Q 24.4 95.1, 23.1 95.1\n",
       "M 23.1 94.3\n",
       "Q 23.9 94.3, 24.3 93.5\n",
       "Q 24.7 92.8, 24.7 91.4\n",
       "Q 24.7 90.0, 24.3 89.3\n",
       "Q 23.9 88.5, 23.1 88.5\n",
       "Q 22.3 88.5, 21.9 89.3\n",
       "Q 21.5 90.0, 21.5 91.4\n",
       "Q 21.5 92.8, 21.9 93.5\n",
       "Q 22.3 94.3, 23.1 94.3\n",
       "' fill='#000000'/>\n",
       "<path class='note' d='M 74.3 55.1\n",
       "L 75.9 55.1\n",
       "L 75.9 49.8\n",
       "L 74.2 50.3\n",
       "L 73.9 49.7\n",
       "L 76.1 48.7\n",
       "L 76.9 48.8\n",
       "L 76.9 55.1\n",
       "L 78.3 55.1\n",
       "L 78.3 55.9\n",
       "L 74.3 55.9\n",
       "L 74.3 55.1\n",
       "' fill='#000000'/>\n",
       "<path class='note' d='M 112.6 91.9\n",
       "Q 112.9 91.2, 113.5 90.9\n",
       "Q 114.1 90.5, 115.0 90.5\n",
       "Q 116.1 90.5, 116.7 91.1\n",
       "Q 117.3 91.7, 117.3 92.7\n",
       "Q 117.3 93.8, 116.5 94.8\n",
       "Q 115.7 95.7, 114.1 96.9\n",
       "L 117.4 96.9\n",
       "L 117.4 97.7\n",
       "L 112.6 97.7\n",
       "L 112.6 97.1\n",
       "Q 113.9 96.1, 114.7 95.4\n",
       "Q 115.5 94.7, 115.9 94.0\n",
       "Q 116.3 93.4, 116.3 92.8\n",
       "Q 116.3 92.1, 116.0 91.7\n",
       "Q 115.6 91.3, 115.0 91.3\n",
       "Q 114.4 91.3, 114.1 91.5\n",
       "Q 113.7 91.8, 113.4 92.3\n",
       "L 112.6 91.9\n",
       "' fill='#000000'/>\n",
       "<path class='note' d='M 160.7 52.5\n",
       "Q 161.4 52.7, 161.7 53.2\n",
       "Q 162.0 53.6, 162.0 54.3\n",
       "Q 162.0 54.9, 161.7 55.4\n",
       "Q 161.4 55.9, 160.9 56.1\n",
       "Q 160.3 56.4, 159.6 56.4\n",
       "Q 158.8 56.4, 158.2 56.1\n",
       "Q 157.7 55.9, 157.2 55.3\n",
       "L 157.8 54.7\n",
       "Q 158.2 55.2, 158.6 55.4\n",
       "Q 159.0 55.6, 159.6 55.6\n",
       "Q 160.2 55.6, 160.6 55.2\n",
       "Q 161.0 54.9, 161.0 54.3\n",
       "Q 161.0 53.6, 160.6 53.3\n",
       "Q 160.2 52.9, 159.3 52.9\n",
       "L 158.8 52.9\n",
       "L 158.8 52.2\n",
       "L 159.3 52.2\n",
       "Q 160.1 52.2, 160.5 51.9\n",
       "Q 160.9 51.5, 160.9 50.9\n",
       "Q 160.9 50.4, 160.5 50.1\n",
       "Q 160.2 49.9, 159.6 49.9\n",
       "Q 159.0 49.9, 158.6 50.1\n",
       "Q 158.3 50.3, 158.0 50.8\n",
       "L 157.3 50.4\n",
       "Q 157.5 49.8, 158.1 49.4\n",
       "Q 158.8 49.0, 159.6 49.0\n",
       "Q 160.7 49.0, 161.3 49.5\n",
       "Q 161.9 50.0, 161.9 50.9\n",
       "Q 161.9 51.5, 161.6 51.9\n",
       "Q 161.3 52.3, 160.7 52.5\n",
       "' fill='#000000'/>\n",
       "<path class='note' d='M 204.7 96.8\n",
       "L 205.5 96.8\n",
       "L 205.5 97.6\n",
       "L 204.7 97.6\n",
       "L 204.7 99.2\n",
       "L 203.7 99.2\n",
       "L 203.7 97.6\n",
       "L 200.0 97.6\n",
       "L 200.0 97.0\n",
       "L 203.1 92.1\n",
       "L 204.7 92.1\n",
       "L 204.7 96.8\n",
       "M 201.2 96.8\n",
       "L 203.7 96.8\n",
       "L 203.7 92.7\n",
       "L 201.2 96.8\n",
       "' fill='#000000'/>\n",
       "<path class='note' d='M 247.6 53.3\n",
       "Q 248.2 53.3, 248.7 53.6\n",
       "Q 249.2 53.9, 249.5 54.4\n",
       "Q 249.8 54.9, 249.8 55.5\n",
       "Q 249.8 56.3, 249.4 56.8\n",
       "Q 249.1 57.3, 248.5 57.6\n",
       "Q 247.9 57.9, 247.2 57.9\n",
       "Q 246.6 57.9, 246.0 57.6\n",
       "Q 245.4 57.4, 244.9 56.9\n",
       "L 245.6 56.3\n",
       "Q 245.9 56.7, 246.3 56.9\n",
       "Q 246.8 57.1, 247.3 57.1\n",
       "Q 247.9 57.1, 248.3 56.7\n",
       "Q 248.8 56.3, 248.8 55.6\n",
       "Q 248.8 54.8, 248.3 54.4\n",
       "Q 247.9 54.1, 247.2 54.1\n",
       "Q 246.6 54.1, 245.9 54.4\n",
       "L 245.3 54.1\n",
       "L 245.7 50.6\n",
       "L 249.4 50.6\n",
       "L 249.3 51.4\n",
       "L 246.5 51.4\n",
       "L 246.3 53.6\n",
       "Q 246.9 53.3, 247.6 53.3\n",
       "' fill='#000000'/>\n",
       "<path class='note' d='M 290.8 96.4\n",
       "Q 291.4 96.4, 291.9 96.6\n",
       "Q 292.4 96.9, 292.7 97.4\n",
       "Q 293.0 97.9, 293.0 98.5\n",
       "Q 293.0 99.2, 292.7 99.8\n",
       "Q 292.4 100.3, 291.8 100.6\n",
       "Q 291.3 100.9, 290.6 100.9\n",
       "Q 289.3 100.9, 288.7 100.1\n",
       "Q 288.0 99.2, 288.0 97.5\n",
       "Q 288.0 95.6, 288.8 94.6\n",
       "Q 289.6 93.6, 291.1 93.6\n",
       "Q 291.6 93.6, 292.0 93.7\n",
       "Q 292.3 93.8, 292.7 94.0\n",
       "L 292.3 94.7\n",
       "Q 291.8 94.4, 291.1 94.4\n",
       "Q 290.1 94.4, 289.6 95.1\n",
       "Q 289.1 95.7, 289.0 97.0\n",
       "Q 289.4 96.7, 289.9 96.5\n",
       "Q 290.3 96.4, 290.8 96.4\n",
       "M 290.6 100.1\n",
       "Q 291.0 100.1, 291.3 99.9\n",
       "Q 291.6 99.7, 291.8 99.3\n",
       "Q 292.0 99.0, 292.0 98.5\n",
       "Q 292.0 97.9, 291.6 97.5\n",
       "Q 291.3 97.2, 290.6 97.2\n",
       "Q 290.2 97.2, 289.8 97.4\n",
       "Q 289.3 97.5, 289.0 97.8\n",
       "Q 289.1 99.0, 289.5 99.5\n",
       "Q 289.8 100.1, 290.6 100.1\n",
       "' fill='#000000'/>\n",
       "<path class='note' d='M 336.5 53.0\n",
       "L 332.7 53.0\n",
       "L 332.7 52.2\n",
       "L 337.5 52.2\n",
       "L 337.5 52.9\n",
       "L 334.6 59.4\n",
       "L 333.6 59.4\n",
       "L 336.5 53.0\n",
       "' fill='#000000'/>\n",
       "<path class='note' d='M 375.2 97.4\n",
       "Q 375.8 97.7, 376.2 98.1\n",
       "Q 376.6 98.5, 376.6 99.2\n",
       "Q 376.6 99.8, 376.3 100.3\n",
       "Q 375.9 100.8, 375.4 101.0\n",
       "Q 374.8 101.3, 374.1 101.3\n",
       "Q 372.9 101.3, 372.2 100.7\n",
       "Q 371.5 100.2, 371.5 99.2\n",
       "Q 371.5 98.6, 371.8 98.2\n",
       "Q 372.1 97.7, 372.7 97.4\n",
       "Q 372.3 97.1, 372.0 96.8\n",
       "Q 371.8 96.4, 371.8 95.8\n",
       "Q 371.8 94.9, 372.4 94.4\n",
       "Q 373.0 93.9, 374.0 93.9\n",
       "Q 375.1 93.9, 375.7 94.4\n",
       "Q 376.3 94.9, 376.3 95.8\n",
       "Q 376.3 96.3, 376.0 96.7\n",
       "Q 375.7 97.1, 375.2 97.4\n",
       "M 374.0 94.7\n",
       "Q 373.4 94.7, 373.1 95.0\n",
       "Q 372.8 95.3, 372.8 95.8\n",
       "Q 372.8 96.1, 373.0 96.4\n",
       "Q 373.2 96.6, 373.5 96.8\n",
       "Q 373.9 96.9, 374.5 97.1\n",
       "Q 374.9 96.8, 375.1 96.5\n",
       "Q 375.3 96.2, 375.3 95.8\n",
       "Q 375.3 95.3, 375.0 95.0\n",
       "Q 374.6 94.7, 374.0 94.7\n",
       "M 374.1 100.5\n",
       "Q 374.7 100.5, 375.2 100.2\n",
       "Q 375.6 99.8, 375.6 99.2\n",
       "Q 375.6 98.8, 375.3 98.6\n",
       "Q 375.1 98.3, 374.8 98.2\n",
       "Q 374.5 98.0, 373.9 97.9\n",
       "L 373.5 97.7\n",
       "Q 373.0 98.0, 372.7 98.4\n",
       "Q 372.5 98.7, 372.5 99.2\n",
       "Q 372.5 99.8, 372.9 100.2\n",
       "Q 373.4 100.5, 374.1 100.5\n",
       "' fill='#000000'/>\n",
       "<path class='note' d='M 427.0 54.9\n",
       "Q 428.3 54.9, 428.9 55.8\n",
       "Q 429.5 56.6, 429.5 58.4\n",
       "Q 429.5 60.3, 428.7 61.3\n",
       "Q 428.0 62.2, 426.4 62.2\n",
       "Q 426.0 62.2, 425.6 62.1\n",
       "Q 425.2 62.0, 424.9 61.8\n",
       "L 425.2 61.1\n",
       "Q 425.8 61.4, 426.4 61.4\n",
       "Q 427.4 61.4, 427.9 60.8\n",
       "Q 428.5 60.1, 428.5 58.8\n",
       "Q 428.2 59.1, 427.7 59.3\n",
       "Q 427.2 59.5, 426.7 59.5\n",
       "Q 426.1 59.5, 425.6 59.2\n",
       "Q 425.1 58.9, 424.8 58.4\n",
       "Q 424.6 57.9, 424.6 57.3\n",
       "Q 424.6 56.6, 424.9 56.1\n",
       "Q 425.2 55.5, 425.7 55.2\n",
       "Q 426.3 54.9, 427.0 54.9\n",
       "M 425.6 57.3\n",
       "Q 425.6 57.9, 425.9 58.3\n",
       "Q 426.3 58.6, 426.9 58.6\n",
       "Q 427.4 58.6, 427.8 58.5\n",
       "Q 428.2 58.3, 428.5 58.0\n",
       "Q 428.5 56.8, 428.1 56.3\n",
       "Q 427.7 55.7, 427.0 55.7\n",
       "Q 426.6 55.7, 426.3 55.9\n",
       "Q 425.9 56.1, 425.8 56.5\n",
       "Q 425.6 56.8, 425.6 57.3\n",
       "' fill='#000000'/>\n",
       "</svg>\n"
      ],
      "text/plain": [
       "<rdkit.Chem.rdchem.Mol>"
      ]
     },
     "execution_count": null,
     "metadata": {},
     "output_type": "execute_result"
    }
   ],
   "source": [
    "mol = generate_smiles('linear', 10)\n",
    "molecule, energy_dict = Huckel_solve(mol)\n",
    "molecule"
   ]
  },
  {
   "cell_type": "code",
   "execution_count": null,
   "metadata": {},
   "outputs": [
    {
     "data": {
      "image/png": "[encoded data removed]",
      "text/plain": [
       "<Figure size 432x288 with 1 Axes>"
      ]
     },
     "metadata": {
      "needs_background": "light"
     },
     "output_type": "display_data"
    }
   ],
   "source": [
    "MO_plot(energy_dict)"
   ]
  },
  {
   "cell_type": "code",
   "execution_count": null,
   "metadata": {},
   "outputs": [
    {
     "data": {
      "image/png": "[encoded data removed]",
      "image/svg+xml": "<?xml version='1.0' encoding='iso-8859-1'?>\n<svg version='1.1' baseProfile='full'\n              xmlns='http://www.w3.org/2000/svg'\n                      xmlns:rdkit='http://www.rdkit.org/xml'\n                      xmlns:xlink='http://www.w3.org/1999/xlink'\n                  xml:space='preserve'\nwidth='450px' height='150px' viewBox='0 0 450 150'>\n<!-- END OF HEADER -->\n<rect style='opacity:1.0;fill:#FFFFFF;stroke:none' width='450.0' height='150.0' x='0.0' y='0.0'> </rect>\n<path class='bond-0 atom-0 atom-1' d='M 270.8,70.2 L 235.0,20.8' style='fill:none;fill-rule:evenodd;stroke:#000000;stroke-width:2.0px;stroke-linecap:butt;stroke-linejoin:miter;stroke-opacity:1' />\n<path class='bond-0 atom-0 atom-1' d='M 255.6,69.9 L 230.5,35.4' style='fill:none;fill-rule:evenodd;stroke:#000000;stroke-width:2.0px;stroke-linecap:butt;stroke-linejoin:miter;stroke-opacity:1' />\n<path class='bond-1 atom-1 atom-2' d='M 235.0,20.8 L 177.0,39.7' style='fill:none;fill-rule:evenodd;stroke:#000000;stroke-width:2.0px;stroke-linecap:butt;stroke-linejoin:miter;stroke-opacity:1' />\n<path class='bond-2 atom-2 atom-3' d='M 177.0,39.7 L 177.0,100.7' style='fill:none;fill-rule:evenodd;stroke:#000000;stroke-width:2.0px;stroke-linecap:butt;stroke-linejoin:miter;stroke-opacity:1' />\n<path class='bond-2 atom-2 atom-3' d='M 189.2,48.8 L 189.2,91.5' style='fill:none;fill-rule:evenodd;stroke:#000000;stroke-width:2.0px;stroke-linecap:butt;stroke-linejoin:miter;stroke-opacity:1' />\n<path class='bond-3 atom-3 atom-4' d='M 177.0,100.7 L 226.3,116.7' style='fill:none;fill-rule:evenodd;stroke:#000000;stroke-width:2.0px;stroke-linecap:butt;stroke-linejoin:miter;stroke-opacity:1' />\n<path class='bond-4 atom-4 atom-0' d='M 242.8,108.8 L 270.8,70.2' style='fill:none;fill-rule:evenodd;stroke:#000000;stroke-width:2.0px;stroke-linecap:butt;stroke-linejoin:miter;stroke-opacity:1' />\n<path class='atom-4' d='M 228.3 119.6\nQ 228.3 115.3, 230.3 113.1\nQ 232.3 110.8, 236.2 110.8\nQ 239.7 110.8, 241.6 113.3\nL 240.0 114.6\nQ 238.6 112.8, 236.2 112.8\nQ 233.6 112.8, 232.2 114.5\nQ 230.8 116.3, 230.8 119.6\nQ 230.8 123.0, 232.2 124.8\nQ 233.7 126.5, 236.4 126.5\nQ 238.4 126.5, 240.6 125.4\nL 241.3 127.2\nQ 240.4 127.8, 239.0 128.1\nQ 237.6 128.5, 236.1 128.5\nQ 232.3 128.5, 230.3 126.2\nQ 228.3 123.9, 228.3 119.6\n' fill='#000000'/>\n<path class='atom-4' d='M 242.6 113.6\nL 248.5 113.6\nL 248.5 114.9\nL 242.6 114.9\nL 242.6 113.6\n' fill='#000000'/>\n<path class='note' d='M 281.0 74.6\nQ 279.4 74.6, 278.6 73.5\nQ 277.8 72.3, 277.8 70.2\nQ 277.8 68.1, 278.6 67.0\nQ 279.4 65.8, 281.0 65.8\nQ 282.6 65.8, 283.4 67.0\nQ 284.2 68.1, 284.2 70.2\nQ 284.2 72.3, 283.4 73.5\nQ 282.6 74.6, 281.0 74.6\nM 281.0 73.7\nQ 281.9 73.7, 282.4 72.8\nQ 282.9 71.9, 282.9 70.2\nQ 282.9 68.5, 282.4 67.7\nQ 281.9 66.8, 281.0 66.8\nQ 280.1 66.8, 279.6 67.7\nQ 279.1 68.5, 279.1 70.2\nQ 279.1 71.9, 279.6 72.8\nQ 280.1 73.7, 281.0 73.7\n' fill='#000000'/>\n<path class='note' d='M 236.0 14.5\nL 237.9 14.5\nL 237.9 8.1\nL 235.8 8.7\nL 235.5 8.0\nL 238.2 6.8\nL 239.0 7.0\nL 239.0 14.5\nL 240.7 14.5\nL 240.7 15.5\nL 236.0 15.5\nL 236.0 14.5\n' fill='#000000'/>\n<path class='note' d='M 165.9 31.1\nQ 166.2 30.3, 166.9 29.8\nQ 167.7 29.3, 168.7 29.3\nQ 170.0 29.3, 170.8 30.0\nQ 171.5 30.8, 171.5 32.0\nQ 171.5 33.3, 170.6 34.5\nQ 169.6 35.7, 167.7 37.1\nL 171.7 37.1\nL 171.7 38.1\nL 165.8 38.1\nL 165.8 37.3\nQ 167.4 36.1, 168.4 35.3\nQ 169.4 34.4, 169.8 33.6\nQ 170.3 32.9, 170.3 32.1\nQ 170.3 31.2, 169.9 30.8\nQ 169.5 30.3, 168.7 30.3\nQ 168.0 30.3, 167.6 30.6\nQ 167.1 30.9, 166.8 31.5\nL 165.9 31.1\n' fill='#000000'/>\n<path class='note' d='M 170.0 106.5\nQ 170.8 106.7, 171.2 107.3\nQ 171.7 107.8, 171.7 108.7\nQ 171.7 109.4, 171.3 110.0\nQ 170.9 110.5, 170.2 110.8\nQ 169.6 111.1, 168.7 111.1\nQ 167.8 111.1, 167.1 110.8\nQ 166.4 110.5, 165.8 109.8\nL 166.5 109.1\nQ 167.1 109.7, 167.5 109.9\nQ 168.0 110.2, 168.7 110.2\nQ 169.5 110.2, 170.0 109.8\nQ 170.4 109.3, 170.4 108.6\nQ 170.4 107.8, 169.9 107.4\nQ 169.4 107.0, 168.4 107.0\nL 167.8 107.0\nL 167.8 106.1\nL 168.3 106.1\nQ 169.2 106.1, 169.7 105.7\nQ 170.2 105.3, 170.2 104.5\nQ 170.2 103.9, 169.8 103.6\nQ 169.4 103.3, 168.7 103.3\nQ 168.0 103.3, 167.5 103.5\nQ 167.1 103.8, 166.8 104.4\nL 165.9 104.0\nQ 166.2 103.2, 167.0 102.8\nQ 167.7 102.3, 168.7 102.3\nQ 170.0 102.3, 170.7 102.9\nQ 171.5 103.5, 171.5 104.5\nQ 171.5 105.2, 171.1 105.7\nQ 170.7 106.2, 170.0 106.5\n' fill='#000000'/>\n<path class='note' d='M 243.6 140.2\nL 244.6 140.2\nL 244.6 141.2\nL 243.6 141.2\nL 243.6 143.2\nL 242.4 143.2\nL 242.4 141.2\nL 237.9 141.2\nL 237.9 140.4\nL 241.7 134.5\nL 243.6 134.5\nL 243.6 140.2\nM 239.4 140.2\nL 242.4 140.2\nL 242.4 135.3\nL 239.4 140.2\n' fill='#000000'/>\n</svg>\n",
      "text/html": [
       "<?xml version='1.0' encoding='iso-8859-1'?>\n",
       "<svg version='1.1' baseProfile='full'\n",
       "              xmlns='http://www.w3.org/2000/svg'\n",
       "                      xmlns:rdkit='http://www.rdkit.org/xml'\n",
       "                      xmlns:xlink='http://www.w3.org/1999/xlink'\n",
       "                  xml:space='preserve'\n",
       "width='450px' height='150px' viewBox='0 0 450 150'>\n",
       "<!-- END OF HEADER -->\n",
       "<rect style='opacity:1.0;fill:#FFFFFF;stroke:none' width='450.0' height='150.0' x='0.0' y='0.0'> </rect>\n",
       "<path class='bond-0 atom-0 atom-1' d='M 270.8,70.2 L 235.0,20.8' style='fill:none;fill-rule:evenodd;stroke:#000000;stroke-width:2.0px;stroke-linecap:butt;stroke-linejoin:miter;stroke-opacity:1' />\n",
       "<path class='bond-0 atom-0 atom-1' d='M 255.6,69.9 L 230.5,35.4' style='fill:none;fill-rule:evenodd;stroke:#000000;stroke-width:2.0px;stroke-linecap:butt;stroke-linejoin:miter;stroke-opacity:1' />\n",
       "<path class='bond-1 atom-1 atom-2' d='M 235.0,20.8 L 177.0,39.7' style='fill:none;fill-rule:evenodd;stroke:#000000;stroke-width:2.0px;stroke-linecap:butt;stroke-linejoin:miter;stroke-opacity:1' />\n",
       "<path class='bond-2 atom-2 atom-3' d='M 177.0,39.7 L 177.0,100.7' style='fill:none;fill-rule:evenodd;stroke:#000000;stroke-width:2.0px;stroke-linecap:butt;stroke-linejoin:miter;stroke-opacity:1' />\n",
       "<path class='bond-2 atom-2 atom-3' d='M 189.2,48.8 L 189.2,91.5' style='fill:none;fill-rule:evenodd;stroke:#000000;stroke-width:2.0px;stroke-linecap:butt;stroke-linejoin:miter;stroke-opacity:1' />\n",
       "<path class='bond-3 atom-3 atom-4' d='M 177.0,100.7 L 226.3,116.7' style='fill:none;fill-rule:evenodd;stroke:#000000;stroke-width:2.0px;stroke-linecap:butt;stroke-linejoin:miter;stroke-opacity:1' />\n",
       "<path class='bond-4 atom-4 atom-0' d='M 242.8,108.8 L 270.8,70.2' style='fill:none;fill-rule:evenodd;stroke:#000000;stroke-width:2.0px;stroke-linecap:butt;stroke-linejoin:miter;stroke-opacity:1' />\n",
       "<path class='atom-4' d='M 228.3 119.6\n",
       "Q 228.3 115.3, 230.3 113.1\n",
       "Q 232.3 110.8, 236.2 110.8\n",
       "Q 239.7 110.8, 241.6 113.3\n",
       "L 240.0 114.6\n",
       "Q 238.6 112.8, 236.2 112.8\n",
       "Q 233.6 112.8, 232.2 114.5\n",
       "Q 230.8 116.3, 230.8 119.6\n",
       "Q 230.8 123.0, 232.2 124.8\n",
       "Q 233.7 126.5, 236.4 126.5\n",
       "Q 238.4 126.5, 240.6 125.4\n",
       "L 241.3 127.2\n",
       "Q 240.4 127.8, 239.0 128.1\n",
       "Q 237.6 128.5, 236.1 128.5\n",
       "Q 232.3 128.5, 230.3 126.2\n",
       "Q 228.3 123.9, 228.3 119.6\n",
       "' fill='#000000'/>\n",
       "<path class='atom-4' d='M 242.6 113.6\n",
       "L 248.5 113.6\n",
       "L 248.5 114.9\n",
       "L 242.6 114.9\n",
       "L 242.6 113.6\n",
       "' fill='#000000'/>\n",
       "<path class='note' d='M 281.0 74.6\n",
       "Q 279.4 74.6, 278.6 73.5\n",
       "Q 277.8 72.3, 277.8 70.2\n",
       "Q 277.8 68.1, 278.6 67.0\n",
       "Q 279.4 65.8, 281.0 65.8\n",
       "Q 282.6 65.8, 283.4 67.0\n",
       "Q 284.2 68.1, 284.2 70.2\n",
       "Q 284.2 72.3, 283.4 73.5\n",
       "Q 282.6 74.6, 281.0 74.6\n",
       "M 281.0 73.7\n",
       "Q 281.9 73.7, 282.4 72.8\n",
       "Q 282.9 71.9, 282.9 70.2\n",
       "Q 282.9 68.5, 282.4 67.7\n",
       "Q 281.9 66.8, 281.0 66.8\n",
       "Q 280.1 66.8, 279.6 67.7\n",
       "Q 279.1 68.5, 279.1 70.2\n",
       "Q 279.1 71.9, 279.6 72.8\n",
       "Q 280.1 73.7, 281.0 73.7\n",
       "' fill='#000000'/>\n",
       "<path class='note' d='M 236.0 14.5\n",
       "L 237.9 14.5\n",
       "L 237.9 8.1\n",
       "L 235.8 8.7\n",
       "L 235.5 8.0\n",
       "L 238.2 6.8\n",
       "L 239.0 7.0\n",
       "L 239.0 14.5\n",
       "L 240.7 14.5\n",
       "L 240.7 15.5\n",
       "L 236.0 15.5\n",
       "L 236.0 14.5\n",
       "' fill='#000000'/>\n",
       "<path class='note' d='M 165.9 31.1\n",
       "Q 166.2 30.3, 166.9 29.8\n",
       "Q 167.7 29.3, 168.7 29.3\n",
       "Q 170.0 29.3, 170.8 30.0\n",
       "Q 171.5 30.8, 171.5 32.0\n",
       "Q 171.5 33.3, 170.6 34.5\n",
       "Q 169.6 35.7, 167.7 37.1\n",
       "L 171.7 37.1\n",
       "L 171.7 38.1\n",
       "L 165.8 38.1\n",
       "L 165.8 37.3\n",
       "Q 167.4 36.1, 168.4 35.3\n",
       "Q 169.4 34.4, 169.8 33.6\n",
       "Q 170.3 32.9, 170.3 32.1\n",
       "Q 170.3 31.2, 169.9 30.8\n",
       "Q 169.5 30.3, 168.7 30.3\n",
       "Q 168.0 30.3, 167.6 30.6\n",
       "Q 167.1 30.9, 166.8 31.5\n",
       "L 165.9 31.1\n",
       "' fill='#000000'/>\n",
       "<path class='note' d='M 170.0 106.5\n",
       "Q 170.8 106.7, 171.2 107.3\n",
       "Q 171.7 107.8, 171.7 108.7\n",
       "Q 171.7 109.4, 171.3 110.0\n",
       "Q 170.9 110.5, 170.2 110.8\n",
       "Q 169.6 111.1, 168.7 111.1\n",
       "Q 167.8 111.1, 167.1 110.8\n",
       "Q 166.4 110.5, 165.8 109.8\n",
       "L 166.5 109.1\n",
       "Q 167.1 109.7, 167.5 109.9\n",
       "Q 168.0 110.2, 168.7 110.2\n",
       "Q 169.5 110.2, 170.0 109.8\n",
       "Q 170.4 109.3, 170.4 108.6\n",
       "Q 170.4 107.8, 169.9 107.4\n",
       "Q 169.4 107.0, 168.4 107.0\n",
       "L 167.8 107.0\n",
       "L 167.8 106.1\n",
       "L 168.3 106.1\n",
       "Q 169.2 106.1, 169.7 105.7\n",
       "Q 170.2 105.3, 170.2 104.5\n",
       "Q 170.2 103.9, 169.8 103.6\n",
       "Q 169.4 103.3, 168.7 103.3\n",
       "Q 168.0 103.3, 167.5 103.5\n",
       "Q 167.1 103.8, 166.8 104.4\n",
       "L 165.9 104.0\n",
       "Q 166.2 103.2, 167.0 102.8\n",
       "Q 167.7 102.3, 168.7 102.3\n",
       "Q 170.0 102.3, 170.7 102.9\n",
       "Q 171.5 103.5, 171.5 104.5\n",
       "Q 171.5 105.2, 171.1 105.7\n",
       "Q 170.7 106.2, 170.0 106.5\n",
       "' fill='#000000'/>\n",
       "<path class='note' d='M 243.6 140.2\n",
       "L 244.6 140.2\n",
       "L 244.6 141.2\n",
       "L 243.6 141.2\n",
       "L 243.6 143.2\n",
       "L 242.4 143.2\n",
       "L 242.4 141.2\n",
       "L 237.9 141.2\n",
       "L 237.9 140.4\n",
       "L 241.7 134.5\n",
       "L 243.6 134.5\n",
       "L 243.6 140.2\n",
       "M 239.4 140.2\n",
       "L 242.4 140.2\n",
       "L 242.4 135.3\n",
       "L 239.4 140.2\n",
       "' fill='#000000'/>\n",
       "</svg>\n"
      ],
      "text/plain": [
       "<rdkit.Chem.rdchem.Mol>"
      ]
     },
     "execution_count": null,
     "metadata": {},
     "output_type": "execute_result"
    }
   ],
   "source": [
    "mol = generate_smiles('ring', 5)\n",
    "molecule, energy_dict = Huckel_solve(mol)\n",
    "molecule"
   ]
  },
  {
   "cell_type": "code",
   "execution_count": null,
   "metadata": {},
   "outputs": [
    {
     "name": "stdout",
     "output_type": "stream",
     "text": [
      "{1.618: [array([-0.63245553,  0.51166727, -0.19543951, -0.19543951,  0.51166727]), array([ 0.22920749, -0.53190907,  0.63143946, -0.48978144,  0.16104355])], -0.618: [array([ 0.63245553,  0.19543951, -0.51166727, -0.51166727,  0.19543951]), array([-0.07520313, -0.62047262, -0.30827004,  0.42995126,  0.57399453])], -2.0: [array([-0.4472136, -0.4472136, -0.4472136, -0.4472136, -0.4472136])]}\n"
     ]
    },
    {
     "data": {
      "image/png": "[encoded data removed]",
      "text/plain": [
       "<Figure size 432x288 with 1 Axes>"
      ]
     },
     "metadata": {
      "needs_background": "light"
     },
     "output_type": "display_data"
    }
   ],
   "source": [
    "print(energy_dict)\n",
    "MO_plot(energy_dict)"
   ]
  },
  {
   "cell_type": "markdown",
   "metadata": {},
   "source": [
    "Similarly, it works for more complkex 3d structures (though rdkit struggles to show their structure in the output skeletal diagram)"
   ]
  },
  {
   "cell_type": "code",
   "execution_count": null,
   "metadata": {},
   "outputs": [],
   "source": [
    "tetrahedrane_smiles = 'C12C3C1C23'\n",
    "cubane_smiles = 'C12C3C4C1C5C2C3C45'\n",
    "dodecahedrane_smiles = 'C12C3C4C5C1C6C7C2C8C3C9C4C1C5C6C2C7C8C9C12'\n",
    "fullerene_smiles = \"c12c3c4c5c2c2c6c7c1c1c8c3c3c9c4c4c%10c5c5c2c2c6c6c%11c7c1c1c7c8c3c3c8c9c4c4c9c%10c5c5c2c2c6c6c%11c1c1c7c3c3c8c4c4c9c5c2c2c6c1c3c42\""
   ]
  },
  {
   "cell_type": "code",
   "execution_count": null,
   "metadata": {},
   "outputs": [
    {
     "name": "stdout",
     "output_type": "stream",
     "text": [
      "[[ 0 -1  0 -1  0 -1  0  0]\n",
      " [-1  0 -1  0  0  0 -1  0]\n",
      " [ 0 -1  0 -1  0  0  0 -1]\n",
      " [-1  0 -1  0 -1  0  0  0]\n",
      " [ 0  0  0 -1  0 -1  0 -1]\n",
      " [-1  0  0  0 -1  0 -1  0]\n",
      " [ 0 -1  0  0  0 -1  0 -1]\n",
      " [ 0  0 -1  0 -1  0 -1  0]]\n"
     ]
    }
   ],
   "source": [
    "# rdkit does consider all bonds, even if all are not shown on the output skeletal diagram: this is mostly apparent for cubane\n",
    "molecule = Chem.MolFromSmiles(cubane_smiles)\n",
    "mat = -Chem.GetAdjacencyMatrix(molecule)\n",
    "print(mat)"
   ]
  },
  {
   "cell_type": "code",
   "execution_count": null,
   "metadata": {},
   "outputs": [
    {
     "data": {
      "image/png": "[encoded data removed]",
      "text/plain": [
       "<Figure size 432x288 with 1 Axes>"
      ]
     },
     "metadata": {
      "needs_background": "light"
     },
     "output_type": "display_data"
    }
   ],
   "source": [
    "molecule, energy_dict = Huckel_solve(tetrahedrane_smiles)\n",
    "MO_plot(energy_dict)"
   ]
  },
  {
   "cell_type": "code",
   "execution_count": null,
   "metadata": {},
   "outputs": [
    {
     "data": {
      "image/png": "[encoded data removed]",
      "text/plain": [
       "<Figure size 432x288 with 1 Axes>"
      ]
     },
     "metadata": {
      "needs_background": "light"
     },
     "output_type": "display_data"
    }
   ],
   "source": [
    "molecule, energy_dict = Huckel_solve(cubane_smiles)\n",
    "MO_plot(energy_dict)"
   ]
  },
  {
   "cell_type": "code",
   "execution_count": null,
   "metadata": {},
   "outputs": [
    {
     "data": {
      "image/png": "[encoded data removed]",
      "text/plain": [
       "<Figure size 432x288 with 1 Axes>"
      ]
     },
     "metadata": {
      "needs_background": "light"
     },
     "output_type": "display_data"
    }
   ],
   "source": [
    "molecule, energy_dict = Huckel_solve(dodecahedrane_smiles)\n",
    "MO_plot(energy_dict)"
   ]
  },
  {
   "cell_type": "code",
   "execution_count": null,
   "metadata": {},
   "outputs": [
    {
     "data": {
      "image/png": "[encoded data removed]",
      "text/plain": [
       "<Figure size 432x288 with 1 Axes>"
      ]
     },
     "metadata": {
      "needs_background": "light"
     },
     "output_type": "display_data"
    }
   ],
   "source": [
    "molecule, energy_dict = Huckel_solve(fullerene_smiles)\n",
    "MO_plot(energy_dict)"
   ]
  },
  {
   "cell_type": "code",
   "execution_count": null,
   "metadata": {},
   "outputs": [],
   "source": [
    "#| hide\n",
    "import nbdev; nbdev.nbdev_export()"
   ]
  }
 ],
 "metadata": {
  "kernelspec": {
   "display_name": "Python 3.9.12 ('ChemII')",
   "language": "python",
   "name": "python3"
  }
 },
 "nbformat": 4,
 "nbformat_minor": 4
}
